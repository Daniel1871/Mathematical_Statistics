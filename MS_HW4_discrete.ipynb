{
  "cells": [
    {
      "cell_type": "code",
      "execution_count": 176,
      "metadata": {
        "id": "492suLVp5tPd"
      },
      "outputs": [],
      "source": [
        "import numpy as np\n",
        "import matplotlib.pyplot as plt\n",
        "import pandas as pd\n",
        "from math import sqrt\n",
        "from collections import Counter\n",
        "from scipy.stats import chi2"
      ]
    },
    {
      "cell_type": "code",
      "execution_count": 177,
      "metadata": {
        "id": "GJYYNuqw-a4S"
      },
      "outputs": [],
      "source": [
        "sizes = [5, 10, 100, 200, 400, 600, 800, 1000]"
      ]
    },
    {
      "cell_type": "markdown",
      "metadata": {
        "id": "i8nToqz_e7A4"
      },
      "source": [
        "## Генерация выборок выбранных случайных величин"
      ]
    },
    {
      "cell_type": "code",
      "execution_count": 178,
      "metadata": {
        "id": "ZWrP9MfB_mBe"
      },
      "outputs": [],
      "source": [
        "def P(x):\n",
        "  t = 1/13\n",
        "  return -t**x/(np.log(1-t) * x)"
      ]
    },
    {
      "cell_type": "code",
      "execution_count": 179,
      "metadata": {
        "id": "cvIgW4LFATOX"
      },
      "outputs": [],
      "source": [
        "def log_dist_model(u):\n",
        "  m0 = 1\n",
        "  s = 0\n",
        "  while s <= u:\n",
        "    s += P(m0)\n",
        "    if s > u:\n",
        "      return m0\n",
        "    m0 += 1"
      ]
    },
    {
      "cell_type": "code",
      "execution_count": 180,
      "metadata": {
        "id": "kAW3Y4miIDqb"
      },
      "outputs": [],
      "source": [
        "df_log = dict() # словарь, где ключ - объем выборки, значение - 5 выборок с логарифмическим распределением\n",
        "for n in sizes:\n",
        "  np.random.seed(99)\n",
        "  df_uni = np.random.uniform(size=(5, n))# 5 выборок размера n\n",
        "  df_log[n] = [[log_dist_model(u) for u in df_uni[i]] for i in range(5)]"
      ]
    },
    {
      "cell_type": "code",
      "source": [
        "def emp(df: list, x_lst: list): # Э.ф.р.\n",
        "  return [np.sum(np.array(df) <= x) / len(df) for x in x_lst]"
      ],
      "metadata": {
        "id": "Xqcp1S3E9Mq_"
      },
      "execution_count": 181,
      "outputs": []
    },
    {
      "cell_type": "markdown",
      "source": [
        "# ДЗ 4"
      ],
      "metadata": {
        "id": "O7dBoDVD53ZI"
      }
    },
    {
      "cell_type": "markdown",
      "source": [
        "## Проверка гипотезы о виде распределения"
      ],
      "metadata": {
        "id": "QsM6bjkLnyJn"
      }
    },
    {
      "cell_type": "markdown",
      "source": [
        "### Критерий согласия Колмогорова"
      ],
      "metadata": {
        "id": "Q-JyPXXfHLmx"
      }
    },
    {
      "cell_type": "code",
      "source": [
        "def tdf(x_lst):\n",
        "  res = []\n",
        "  for x in x_lst:\n",
        "    if x < 1:\n",
        "      res.append(0)\n",
        "    else:\n",
        "      s = 0\n",
        "      for k in range(1, int(x) + 1):\n",
        "        s += 1 / (k * (13**k))\n",
        "      s *= 1/np.log(13/12)\n",
        "      res.append(s)\n",
        "  return res"
      ],
      "metadata": {
        "id": "bKbF_N3Q7W46"
      },
      "execution_count": 182,
      "outputs": []
    },
    {
      "cell_type": "code",
      "source": [
        "df_uni = dict() # словарь, где ключ - объем выборки, значение - 5 выборок с равномерным распределением\n",
        "for n in sizes:\n",
        "  np.random.seed(42)\n",
        "  df_uni[n] = np.random.uniform(size=(5, n))# 5 выборок размера n"
      ],
      "metadata": {
        "id": "aUTuX0gQxXzF"
      },
      "execution_count": 183,
      "outputs": []
    },
    {
      "cell_type": "code",
      "source": [
        "df_new = dict()\n",
        "eps = 0.00001\n",
        "for n in sizes:\n",
        "    df_new[n] = [np.array(tdf(np.array(df_log[n][i])-eps)) +\n",
        "              df_uni[n][i] * (np.array(tdf(np.array(df_log[n][i]))) - np.array(tdf(np.array(df_log[n][i])-eps)))\n",
        "              for i in range(5)]"
      ],
      "metadata": {
        "id": "gsOJPYVhxlC7"
      },
      "execution_count": 184,
      "outputs": []
    },
    {
      "cell_type": "code",
      "source": [
        "coefs = [(0.01, 1.62762), (0.05, 1.3581), (0.1, 1.22385)]\n",
        "for n in sizes:\n",
        "    for i in range(5):\n",
        "        res = []\n",
        "        for alpha, lamb in coefs:\n",
        "            var_series = np.array(sorted(df_new[n][i]))\n",
        "            Dn_plus = np.max(np.abs(np.arange(1, n + 1) / n - var_series))\n",
        "            Dn_minus = np.max(np.abs(var_series - np.arange(n) / n))\n",
        "            Dn = max(Dn_plus, Dn_minus)\n",
        "\n",
        "            if n <= 20:\n",
        "                stat = (6 * n * Dn + 1) / (6 * sqrt(n))\n",
        "            else:\n",
        "                stat = sqrt(n) * Dn\n",
        "\n",
        "            if stat >= lamb:\n",
        "                res.append('$\\\\times$')\n",
        "            else:\n",
        "                res.append('$\\\\checkmark$')\n",
        "        print(f'${n}$ & ${i}$ & {res[0]} & {res[1]} & {res[2]} \\\\\\\\ \\\\hline')"
      ],
      "metadata": {
        "colab": {
          "base_uri": "https://localhost:8080/"
        },
        "id": "NE7tvqHFn32o",
        "outputId": "d63ecced-46c3-4afb-deee-ed01135d3b94"
      },
      "execution_count": 185,
      "outputs": [
        {
          "output_type": "stream",
          "name": "stdout",
          "text": [
            "$5$ & $0$ & $\\checkmark$ & $\\checkmark$ & $\\checkmark$ \\\\ \\hline\n",
            "$5$ & $1$ & $\\checkmark$ & $\\checkmark$ & $\\checkmark$ \\\\ \\hline\n",
            "$5$ & $2$ & $\\checkmark$ & $\\checkmark$ & $\\checkmark$ \\\\ \\hline\n",
            "$5$ & $3$ & $\\checkmark$ & $\\checkmark$ & $\\checkmark$ \\\\ \\hline\n",
            "$5$ & $4$ & $\\checkmark$ & $\\checkmark$ & $\\checkmark$ \\\\ \\hline\n",
            "$10$ & $0$ & $\\checkmark$ & $\\checkmark$ & $\\checkmark$ \\\\ \\hline\n",
            "$10$ & $1$ & $\\checkmark$ & $\\checkmark$ & $\\checkmark$ \\\\ \\hline\n",
            "$10$ & $2$ & $\\checkmark$ & $\\checkmark$ & $\\checkmark$ \\\\ \\hline\n",
            "$10$ & $3$ & $\\checkmark$ & $\\checkmark$ & $\\checkmark$ \\\\ \\hline\n",
            "$10$ & $4$ & $\\checkmark$ & $\\checkmark$ & $\\checkmark$ \\\\ \\hline\n",
            "$100$ & $0$ & $\\checkmark$ & $\\checkmark$ & $\\checkmark$ \\\\ \\hline\n",
            "$100$ & $1$ & $\\checkmark$ & $\\checkmark$ & $\\checkmark$ \\\\ \\hline\n",
            "$100$ & $2$ & $\\checkmark$ & $\\checkmark$ & $\\checkmark$ \\\\ \\hline\n",
            "$100$ & $3$ & $\\checkmark$ & $\\checkmark$ & $\\checkmark$ \\\\ \\hline\n",
            "$100$ & $4$ & $\\checkmark$ & $\\checkmark$ & $\\times$ \\\\ \\hline\n",
            "$200$ & $0$ & $\\checkmark$ & $\\checkmark$ & $\\checkmark$ \\\\ \\hline\n",
            "$200$ & $1$ & $\\checkmark$ & $\\checkmark$ & $\\checkmark$ \\\\ \\hline\n",
            "$200$ & $2$ & $\\checkmark$ & $\\checkmark$ & $\\checkmark$ \\\\ \\hline\n",
            "$200$ & $3$ & $\\checkmark$ & $\\checkmark$ & $\\checkmark$ \\\\ \\hline\n",
            "$200$ & $4$ & $\\checkmark$ & $\\checkmark$ & $\\checkmark$ \\\\ \\hline\n",
            "$400$ & $0$ & $\\checkmark$ & $\\checkmark$ & $\\checkmark$ \\\\ \\hline\n",
            "$400$ & $1$ & $\\checkmark$ & $\\checkmark$ & $\\checkmark$ \\\\ \\hline\n",
            "$400$ & $2$ & $\\checkmark$ & $\\checkmark$ & $\\checkmark$ \\\\ \\hline\n",
            "$400$ & $3$ & $\\checkmark$ & $\\checkmark$ & $\\checkmark$ \\\\ \\hline\n",
            "$400$ & $4$ & $\\checkmark$ & $\\checkmark$ & $\\checkmark$ \\\\ \\hline\n",
            "$600$ & $0$ & $\\checkmark$ & $\\checkmark$ & $\\checkmark$ \\\\ \\hline\n",
            "$600$ & $1$ & $\\checkmark$ & $\\checkmark$ & $\\checkmark$ \\\\ \\hline\n",
            "$600$ & $2$ & $\\checkmark$ & $\\checkmark$ & $\\checkmark$ \\\\ \\hline\n",
            "$600$ & $3$ & $\\checkmark$ & $\\checkmark$ & $\\checkmark$ \\\\ \\hline\n",
            "$600$ & $4$ & $\\checkmark$ & $\\checkmark$ & $\\checkmark$ \\\\ \\hline\n",
            "$800$ & $0$ & $\\checkmark$ & $\\checkmark$ & $\\checkmark$ \\\\ \\hline\n",
            "$800$ & $1$ & $\\checkmark$ & $\\checkmark$ & $\\checkmark$ \\\\ \\hline\n",
            "$800$ & $2$ & $\\checkmark$ & $\\checkmark$ & $\\checkmark$ \\\\ \\hline\n",
            "$800$ & $3$ & $\\checkmark$ & $\\checkmark$ & $\\checkmark$ \\\\ \\hline\n",
            "$800$ & $4$ & $\\checkmark$ & $\\checkmark$ & $\\checkmark$ \\\\ \\hline\n",
            "$1000$ & $0$ & $\\checkmark$ & $\\checkmark$ & $\\checkmark$ \\\\ \\hline\n",
            "$1000$ & $1$ & $\\checkmark$ & $\\checkmark$ & $\\checkmark$ \\\\ \\hline\n",
            "$1000$ & $2$ & $\\checkmark$ & $\\checkmark$ & $\\checkmark$ \\\\ \\hline\n",
            "$1000$ & $3$ & $\\checkmark$ & $\\checkmark$ & $\\checkmark$ \\\\ \\hline\n",
            "$1000$ & $4$ & $\\checkmark$ & $\\checkmark$ & $\\checkmark$ \\\\ \\hline\n"
          ]
        }
      ]
    },
    {
      "cell_type": "markdown",
      "source": [
        "### Критерий согласия Колмогорова для сложной гипотезы"
      ],
      "metadata": {
        "id": "-qppgfssHQfL"
      }
    },
    {
      "cell_type": "markdown",
      "source": [
        "1. Находим $\\hat{\\theta}_{м.м.п.}$"
      ],
      "metadata": {
        "id": "IHtGS_sMPagN"
      }
    },
    {
      "cell_type": "code",
      "source": [
        "def tdf(x_lst, t):\n",
        "  res = []\n",
        "  for x in x_lst:\n",
        "    if x < 1:\n",
        "      res.append(0)\n",
        "    else:\n",
        "      s = 0\n",
        "      for k in range(1, int(x) + 1):\n",
        "        s += t**k / k\n",
        "      s *= -1/np.log(1-t)\n",
        "      res.append(s)\n",
        "  return res"
      ],
      "metadata": {
        "id": "UUjpsn03H0Jn"
      },
      "execution_count": 186,
      "outputs": []
    },
    {
      "cell_type": "code",
      "source": [
        "from math import log\n",
        "import scipy.optimize\n",
        "\n",
        "def mle(sample_av):\n",
        "    def func(x):\n",
        "        y = x / (log(1-x) * (1-x)) + sample_av\n",
        "        return y\n",
        "\n",
        "    y = scipy.optimize.fsolve(func, 0.0769231)\n",
        "    return y[0]"
      ],
      "metadata": {
        "id": "-iwuieiw-ZMC"
      },
      "execution_count": 187,
      "outputs": []
    },
    {
      "cell_type": "code",
      "source": [
        "mle_estims = {n:[] for n in sizes}\n",
        "for n in sizes:\n",
        "  for i in range(5):\n",
        "    if n <= 20:\n",
        "        sample_av = np.array(df_log[n][i]).mean()\n",
        "    else:\n",
        "        sample_av = np.array(df_log[n][i][n // 2 :]).mean()\n",
        "    mle_estims[n].append(mle(sample_av))"
      ],
      "metadata": {
        "id": "qSEZKbbcAebT"
      },
      "execution_count": 188,
      "outputs": []
    },
    {
      "cell_type": "markdown",
      "source": [
        "2. Строим $U_i$"
      ],
      "metadata": {
        "id": "7khpN_eNPnwE"
      }
    },
    {
      "cell_type": "code",
      "source": [
        "df_new = dict()\n",
        "eps = 0.00001\n",
        "for n in sizes:\n",
        "    df_new[n] = [np.array(tdf(np.array(df_log[n][i])-eps, mle_estims[n][i])) +\n",
        "              df_uni[n][i] * (np.array(tdf(np.array(df_log[n][i]), mle_estims[n][i])) - np.array(tdf(np.array(df_log[n][i])-eps, mle_estims[n][i])))\n",
        "              for i in range(5)]"
      ],
      "metadata": {
        "id": "oMYWW6JtPxlz"
      },
      "execution_count": 189,
      "outputs": []
    },
    {
      "cell_type": "markdown",
      "source": [
        "3. Применяем критерий"
      ],
      "metadata": {
        "id": "3XpobnyLPx9g"
      }
    },
    {
      "cell_type": "code",
      "source": [
        "half_df = {n // 2 : [] for n in sizes[2:]}\n",
        "for n in sizes[2:]:\n",
        "    for i in range(5):\n",
        "        half_df[n // 2].append(df_new[n][i][: n // 2])\n",
        "\n",
        "half_df[5] = df_new[5]\n",
        "half_df[10] = df_new[10]"
      ],
      "metadata": {
        "id": "QZrkw9zCRf9d"
      },
      "execution_count": 190,
      "outputs": []
    },
    {
      "cell_type": "code",
      "source": [
        "coefs = [(0.01, 1.62762), (0.05, 1.3581), (0.1, 1.22385)]\n",
        "for j in range(len(sizes)):\n",
        "    n = sorted(half_df.keys())[j]\n",
        "    for i in range(5):\n",
        "        res = []\n",
        "        for alpha, lamb in coefs:\n",
        "            var_series = np.array(sorted(half_df[n][i]))\n",
        "            Dn_plus = np.max(np.abs(np.arange(1, n + 1) / n - var_series))\n",
        "            Dn_minus = np.max(np.abs(var_series - np.arange(n) / n))\n",
        "            Dn = max(Dn_plus, Dn_minus)\n",
        "\n",
        "            if n <= 20:\n",
        "                stat = (6 * n * Dn + 1) / (6 * sqrt(n))\n",
        "            else:\n",
        "                stat = sqrt(n) * Dn\n",
        "\n",
        "            if stat >= lamb:\n",
        "                res.append('$\\\\times$')\n",
        "            else:\n",
        "                res.append('$\\\\checkmark$')\n",
        "        print(f'${sizes[j]}$ & ${i}$ & {res[0]} & {res[1]} & {res[2]} \\\\\\\\ \\\\hline')"
      ],
      "metadata": {
        "colab": {
          "base_uri": "https://localhost:8080/"
        },
        "id": "lZX-dDC6Rv5L",
        "outputId": "33f742cc-20d4-4b3d-e38c-049fd209b116"
      },
      "execution_count": 191,
      "outputs": [
        {
          "output_type": "stream",
          "name": "stdout",
          "text": [
            "$5$ & $0$ & $\\checkmark$ & $\\checkmark$ & $\\checkmark$ \\\\ \\hline\n",
            "$5$ & $1$ & $\\checkmark$ & $\\checkmark$ & $\\checkmark$ \\\\ \\hline\n",
            "$5$ & $2$ & $\\checkmark$ & $\\checkmark$ & $\\checkmark$ \\\\ \\hline\n",
            "$5$ & $3$ & $\\checkmark$ & $\\checkmark$ & $\\checkmark$ \\\\ \\hline\n",
            "$5$ & $4$ & $\\checkmark$ & $\\checkmark$ & $\\checkmark$ \\\\ \\hline\n",
            "$10$ & $0$ & $\\checkmark$ & $\\checkmark$ & $\\checkmark$ \\\\ \\hline\n",
            "$10$ & $1$ & $\\checkmark$ & $\\checkmark$ & $\\checkmark$ \\\\ \\hline\n",
            "$10$ & $2$ & $\\checkmark$ & $\\checkmark$ & $\\checkmark$ \\\\ \\hline\n",
            "$10$ & $3$ & $\\checkmark$ & $\\checkmark$ & $\\checkmark$ \\\\ \\hline\n",
            "$10$ & $4$ & $\\checkmark$ & $\\checkmark$ & $\\checkmark$ \\\\ \\hline\n",
            "$100$ & $0$ & $\\checkmark$ & $\\checkmark$ & $\\checkmark$ \\\\ \\hline\n",
            "$100$ & $1$ & $\\checkmark$ & $\\checkmark$ & $\\checkmark$ \\\\ \\hline\n",
            "$100$ & $2$ & $\\checkmark$ & $\\checkmark$ & $\\checkmark$ \\\\ \\hline\n",
            "$100$ & $3$ & $\\checkmark$ & $\\checkmark$ & $\\checkmark$ \\\\ \\hline\n",
            "$100$ & $4$ & $\\checkmark$ & $\\checkmark$ & $\\checkmark$ \\\\ \\hline\n",
            "$200$ & $0$ & $\\checkmark$ & $\\checkmark$ & $\\checkmark$ \\\\ \\hline\n",
            "$200$ & $1$ & $\\checkmark$ & $\\checkmark$ & $\\checkmark$ \\\\ \\hline\n",
            "$200$ & $2$ & $\\checkmark$ & $\\checkmark$ & $\\times$ \\\\ \\hline\n",
            "$200$ & $3$ & $\\checkmark$ & $\\times$ & $\\times$ \\\\ \\hline\n",
            "$200$ & $4$ & $\\checkmark$ & $\\checkmark$ & $\\checkmark$ \\\\ \\hline\n",
            "$400$ & $0$ & $\\checkmark$ & $\\checkmark$ & $\\checkmark$ \\\\ \\hline\n",
            "$400$ & $1$ & $\\checkmark$ & $\\checkmark$ & $\\checkmark$ \\\\ \\hline\n",
            "$400$ & $2$ & $\\checkmark$ & $\\checkmark$ & $\\checkmark$ \\\\ \\hline\n",
            "$400$ & $3$ & $\\checkmark$ & $\\checkmark$ & $\\checkmark$ \\\\ \\hline\n",
            "$400$ & $4$ & $\\checkmark$ & $\\checkmark$ & $\\checkmark$ \\\\ \\hline\n",
            "$600$ & $0$ & $\\checkmark$ & $\\checkmark$ & $\\checkmark$ \\\\ \\hline\n",
            "$600$ & $1$ & $\\checkmark$ & $\\checkmark$ & $\\checkmark$ \\\\ \\hline\n",
            "$600$ & $2$ & $\\checkmark$ & $\\checkmark$ & $\\checkmark$ \\\\ \\hline\n",
            "$600$ & $3$ & $\\checkmark$ & $\\checkmark$ & $\\checkmark$ \\\\ \\hline\n",
            "$600$ & $4$ & $\\checkmark$ & $\\checkmark$ & $\\checkmark$ \\\\ \\hline\n",
            "$800$ & $0$ & $\\checkmark$ & $\\checkmark$ & $\\checkmark$ \\\\ \\hline\n",
            "$800$ & $1$ & $\\checkmark$ & $\\checkmark$ & $\\checkmark$ \\\\ \\hline\n",
            "$800$ & $2$ & $\\checkmark$ & $\\checkmark$ & $\\checkmark$ \\\\ \\hline\n",
            "$800$ & $3$ & $\\checkmark$ & $\\checkmark$ & $\\checkmark$ \\\\ \\hline\n",
            "$800$ & $4$ & $\\checkmark$ & $\\checkmark$ & $\\checkmark$ \\\\ \\hline\n",
            "$1000$ & $0$ & $\\checkmark$ & $\\checkmark$ & $\\checkmark$ \\\\ \\hline\n",
            "$1000$ & $1$ & $\\checkmark$ & $\\checkmark$ & $\\times$ \\\\ \\hline\n",
            "$1000$ & $2$ & $\\checkmark$ & $\\checkmark$ & $\\checkmark$ \\\\ \\hline\n",
            "$1000$ & $3$ & $\\checkmark$ & $\\checkmark$ & $\\times$ \\\\ \\hline\n",
            "$1000$ & $4$ & $\\checkmark$ & $\\checkmark$ & $\\checkmark$ \\\\ \\hline\n"
          ]
        }
      ]
    },
    {
      "cell_type": "markdown",
      "source": [
        "### Критерий согласия хи-квадрат"
      ],
      "metadata": {
        "id": "oVP8wjomWNMX"
      }
    },
    {
      "cell_type": "code",
      "source": [
        "N = 2\n",
        "probs = np.array([P(1), 1 - P(1)])\n",
        "probs"
      ],
      "metadata": {
        "colab": {
          "base_uri": "https://localhost:8080/"
        },
        "id": "oLDKkTNFPH3J",
        "outputId": "09d4cb24-64ef-48dc-f6c2-f08a8c61df6d"
      },
      "execution_count": 192,
      "outputs": [
        {
          "output_type": "execute_result",
          "data": {
            "text/plain": [
              "array([0.96102542, 0.03897458])"
            ]
          },
          "metadata": {},
          "execution_count": 192
        }
      ]
    },
    {
      "cell_type": "code",
      "source": [
        "chi_sq = chi2(df=N-1)\n",
        "alphas = [0.01, 0.05, 0.1]\n",
        "\n",
        "for alpha in alphas:\n",
        "    print(np.round(chi_sq.ppf(q=1 - alpha), 3))\n",
        "\n",
        "for n in sizes:\n",
        "    for i in range(5):\n",
        "        res = []\n",
        "        freqs = dict(Counter(df_log[n][i]))\n",
        "        freq_vect = np.array([freqs[1], n - freqs[1]])\n",
        "        stat_pirs = np.sum(freq_vect ** 2 / (n * probs)) - n\n",
        "\n",
        "        for alpha in alphas:\n",
        "            if stat_pirs > chi_sq.ppf(q=1 - alpha):\n",
        "                res.append('$\\\\times$')\n",
        "            else:\n",
        "                res.append('$\\\\checkmark$')\n",
        "        print(f'${n}$ & ${i}$ & ${np.round(stat_pirs, 3)}$ & {res[0]} & {res[1]} & {res[2]} \\\\\\\\ \\\\hline')"
      ],
      "metadata": {
        "colab": {
          "base_uri": "https://localhost:8080/"
        },
        "id": "EJznC1OSNkKD",
        "outputId": "91910c2c-c158-43cc-ef30-11d23567ff9f"
      },
      "execution_count": 193,
      "outputs": [
        {
          "output_type": "stream",
          "name": "stdout",
          "text": [
            "6.635\n",
            "3.841\n",
            "2.706\n",
            "$5$ & $0$ & $0.203$ & $\\checkmark$ & $\\checkmark$ & $\\checkmark$ \\\\ \\hline\n",
            "$5$ & $1$ & $3.461$ & $\\checkmark$ & $\\checkmark$ & $\\times$ \\\\ \\hline\n",
            "$5$ & $2$ & $0.203$ & $\\checkmark$ & $\\checkmark$ & $\\checkmark$ \\\\ \\hline\n",
            "$5$ & $3$ & $3.461$ & $\\checkmark$ & $\\checkmark$ & $\\times$ \\\\ \\hline\n",
            "$5$ & $4$ & $0.203$ & $\\checkmark$ & $\\checkmark$ & $\\checkmark$ \\\\ \\hline\n",
            "$10$ & $0$ & $0.994$ & $\\checkmark$ & $\\checkmark$ & $\\checkmark$ \\\\ \\hline\n",
            "$10$ & $1$ & $0.994$ & $\\checkmark$ & $\\checkmark$ & $\\checkmark$ \\\\ \\hline\n",
            "$10$ & $2$ & $0.406$ & $\\checkmark$ & $\\checkmark$ & $\\checkmark$ \\\\ \\hline\n",
            "$10$ & $3$ & $0.406$ & $\\checkmark$ & $\\checkmark$ & $\\checkmark$ \\\\ \\hline\n",
            "$10$ & $4$ & $0.994$ & $\\checkmark$ & $\\checkmark$ & $\\checkmark$ \\\\ \\hline\n",
            "$100$ & $0$ & $0.003$ & $\\checkmark$ & $\\checkmark$ & $\\checkmark$ \\\\ \\hline\n",
            "$100$ & $1$ & $0.215$ & $\\checkmark$ & $\\checkmark$ & $\\checkmark$ \\\\ \\hline\n",
            "$100$ & $2$ & $1.18$ & $\\checkmark$ & $\\checkmark$ & $\\checkmark$ \\\\ \\hline\n",
            "$100$ & $3$ & $0.325$ & $\\checkmark$ & $\\checkmark$ & $\\checkmark$ \\\\ \\hline\n",
            "$100$ & $4$ & $2.57$ & $\\checkmark$ & $\\checkmark$ & $\\checkmark$ \\\\ \\hline\n",
            "$200$ & $0$ & $0.084$ & $\\checkmark$ & $\\checkmark$ & $\\checkmark$ \\\\ \\hline\n",
            "$200$ & $1$ & $1.371$ & $\\checkmark$ & $\\checkmark$ & $\\checkmark$ \\\\ \\hline\n",
            "$200$ & $2$ & $1.371$ & $\\checkmark$ & $\\checkmark$ & $\\checkmark$ \\\\ \\hline\n",
            "$200$ & $3$ & $2.36$ & $\\checkmark$ & $\\checkmark$ & $\\checkmark$ \\\\ \\hline\n",
            "$200$ & $4$ & $0.194$ & $\\checkmark$ & $\\checkmark$ & $\\checkmark$ \\\\ \\hline\n",
            "$400$ & $0$ & $0.388$ & $\\checkmark$ & $\\checkmark$ & $\\checkmark$ \\\\ \\hline\n",
            "$400$ & $1$ & $3.665$ & $\\checkmark$ & $\\checkmark$ & $\\times$ \\\\ \\hline\n",
            "$400$ & $2$ & $0.023$ & $\\checkmark$ & $\\checkmark$ & $\\checkmark$ \\\\ \\hline\n",
            "$400$ & $3$ & $2.086$ & $\\checkmark$ & $\\checkmark$ & $\\checkmark$ \\\\ \\hline\n",
            "$400$ & $4$ & $1.406$ & $\\checkmark$ & $\\checkmark$ & $\\checkmark$ \\\\ \\hline\n",
            "$600$ & $0$ & $1.403$ & $\\checkmark$ & $\\checkmark$ & $\\checkmark$ \\\\ \\hline\n",
            "$600$ & $1$ & $0.582$ & $\\checkmark$ & $\\checkmark$ & $\\checkmark$ \\\\ \\hline\n",
            "$600$ & $2$ & $2.427$ & $\\checkmark$ & $\\checkmark$ & $\\checkmark$ \\\\ \\hline\n",
            "$600$ & $3$ & $0.116$ & $\\checkmark$ & $\\checkmark$ & $\\checkmark$ \\\\ \\hline\n",
            "$600$ & $4$ & $0.017$ & $\\checkmark$ & $\\checkmark$ & $\\checkmark$ \\\\ \\hline\n",
            "$800$ & $0$ & $3.218$ & $\\checkmark$ & $\\checkmark$ & $\\times$ \\\\ \\hline\n",
            "$800$ & $1$ & $1.274$ & $\\checkmark$ & $\\checkmark$ & $\\checkmark$ \\\\ \\hline\n",
            "$800$ & $2$ & $0.001$ & $\\checkmark$ & $\\checkmark$ & $\\checkmark$ \\\\ \\hline\n",
            "$800$ & $3$ & $0.337$ & $\\checkmark$ & $\\checkmark$ & $\\checkmark$ \\\\ \\hline\n",
            "$800$ & $4$ & $1.131$ & $\\checkmark$ & $\\checkmark$ & $\\checkmark$ \\\\ \\hline\n",
            "$1000$ & $0$ & $3.245$ & $\\checkmark$ & $\\checkmark$ & $\\times$ \\\\ \\hline\n",
            "$1000$ & $1$ & $3.828$ & $\\checkmark$ & $\\checkmark$ & $\\times$ \\\\ \\hline\n",
            "$1000$ & $2$ & $0.674$ & $\\checkmark$ & $\\checkmark$ & $\\checkmark$ \\\\ \\hline\n",
            "$1000$ & $3$ & $0.11$ & $\\checkmark$ & $\\checkmark$ & $\\checkmark$ \\\\ \\hline\n",
            "$1000$ & $4$ & $2.656$ & $\\checkmark$ & $\\checkmark$ & $\\checkmark$ \\\\ \\hline\n"
          ]
        }
      ]
    },
    {
      "cell_type": "code",
      "source": [
        "N = 3\n",
        "probs = np.array([P(1), P(2), 1 - P(1) - P(2)])\n",
        "probs"
      ],
      "metadata": {
        "colab": {
          "base_uri": "https://localhost:8080/"
        },
        "id": "nJvhTjl5imaX",
        "outputId": "08556ef0-6cec-443f-cc7a-388020be0b2b"
      },
      "execution_count": 194,
      "outputs": [
        {
          "output_type": "execute_result",
          "data": {
            "text/plain": [
              "array([0.96102542, 0.03696252, 0.00201206])"
            ]
          },
          "metadata": {},
          "execution_count": 194
        }
      ]
    },
    {
      "cell_type": "code",
      "source": [
        "chi_sq = chi2(df=N-1)\n",
        "alphas = [0.01, 0.05, 0.1]\n",
        "\n",
        "for alpha in alphas:\n",
        "    print(np.round(chi_sq.ppf(q=1 - alpha), 3))\n",
        "\n",
        "for n in sizes:\n",
        "    for i in range(5):\n",
        "        res = []\n",
        "        freqs = dict(Counter(df_log[n][i]))\n",
        "        freq_vect = np.array([freqs.get(1, 0), freqs.get(2, 0), n - freqs.get(1, 0) - freqs.get(2, 0)])\n",
        "        stat_pirs = np.sum(freq_vect ** 2 / (n * probs)) - n\n",
        "\n",
        "        for alpha in alphas:\n",
        "            if stat_pirs > chi_sq.ppf(q=1 - alpha):\n",
        "                res.append('$\\\\times$')\n",
        "            else:\n",
        "                res.append('$\\\\checkmark$')\n",
        "        print(f'${n}$ & ${i}$ & ${np.round(stat_pirs, 3)}$ & {res[0]} & {res[1]} & {res[2]} \\\\\\\\ \\\\hline')"
      ],
      "metadata": {
        "colab": {
          "base_uri": "https://localhost:8080/"
        },
        "id": "4dloYjRJio-n",
        "outputId": "6a8e1cb5-f61e-4e80-b6b3-76a18aa31093"
      },
      "execution_count": 195,
      "outputs": [
        {
          "output_type": "stream",
          "name": "stdout",
          "text": [
            "9.21\n",
            "5.991\n",
            "4.605\n",
            "$5$ & $0$ & $0.203$ & $\\checkmark$ & $\\checkmark$ & $\\checkmark$ \\\\ \\hline\n",
            "$5$ & $1$ & $3.741$ & $\\checkmark$ & $\\checkmark$ & $\\checkmark$ \\\\ \\hline\n",
            "$5$ & $2$ & $0.203$ & $\\checkmark$ & $\\checkmark$ & $\\checkmark$ \\\\ \\hline\n",
            "$5$ & $3$ & $3.741$ & $\\checkmark$ & $\\checkmark$ & $\\checkmark$ \\\\ \\hline\n",
            "$5$ & $4$ & $0.203$ & $\\checkmark$ & $\\checkmark$ & $\\checkmark$ \\\\ \\hline\n",
            "$10$ & $0$ & $1.134$ & $\\checkmark$ & $\\checkmark$ & $\\checkmark$ \\\\ \\hline\n",
            "$10$ & $1$ & $1.134$ & $\\checkmark$ & $\\checkmark$ & $\\checkmark$ \\\\ \\hline\n",
            "$10$ & $2$ & $0.406$ & $\\checkmark$ & $\\checkmark$ & $\\checkmark$ \\\\ \\hline\n",
            "$10$ & $3$ & $0.406$ & $\\checkmark$ & $\\checkmark$ & $\\checkmark$ \\\\ \\hline\n",
            "$10$ & $4$ & $1.134$ & $\\checkmark$ & $\\checkmark$ & $\\checkmark$ \\\\ \\hline\n",
            "$100$ & $0$ & $0.226$ & $\\checkmark$ & $\\checkmark$ & $\\checkmark$ \\\\ \\hline\n",
            "$100$ & $1$ & $0.341$ & $\\checkmark$ & $\\checkmark$ & $\\checkmark$ \\\\ \\hline\n",
            "$100$ & $2$ & $3.677$ & $\\checkmark$ & $\\checkmark$ & $\\checkmark$ \\\\ \\hline\n",
            "$100$ & $3$ & $3.209$ & $\\checkmark$ & $\\checkmark$ & $\\checkmark$ \\\\ \\hline\n",
            "$100$ & $4$ & $4.707$ & $\\checkmark$ & $\\checkmark$ & $\\times$ \\\\ \\hline\n",
            "$200$ & $0$ & $0.427$ & $\\checkmark$ & $\\checkmark$ & $\\checkmark$ \\\\ \\hline\n",
            "$200$ & $1$ & $6.745$ & $\\checkmark$ & $\\times$ & $\\times$ \\\\ \\hline\n",
            "$200$ & $2$ & $1.861$ & $\\checkmark$ & $\\checkmark$ & $\\checkmark$ \\\\ \\hline\n",
            "$200$ & $3$ & $2.74$ & $\\checkmark$ & $\\checkmark$ & $\\checkmark$ \\\\ \\hline\n",
            "$200$ & $4$ & $0.945$ & $\\checkmark$ & $\\checkmark$ & $\\checkmark$ \\\\ \\hline\n",
            "$400$ & $0$ & $1.89$ & $\\checkmark$ & $\\checkmark$ & $\\checkmark$ \\\\ \\hline\n",
            "$400$ & $1$ & $4.53$ & $\\checkmark$ & $\\checkmark$ & $\\checkmark$ \\\\ \\hline\n",
            "$400$ & $2$ & $0.09$ & $\\checkmark$ & $\\checkmark$ & $\\checkmark$ \\\\ \\hline\n",
            "$400$ & $3$ & $2.392$ & $\\checkmark$ & $\\checkmark$ & $\\checkmark$ \\\\ \\hline\n",
            "$400$ & $4$ & $1.651$ & $\\checkmark$ & $\\checkmark$ & $\\checkmark$ \\\\ \\hline\n",
            "$600$ & $0$ & $3.376$ & $\\checkmark$ & $\\checkmark$ & $\\checkmark$ \\\\ \\hline\n",
            "$600$ & $1$ & $0.902$ & $\\checkmark$ & $\\checkmark$ & $\\checkmark$ \\\\ \\hline\n",
            "$600$ & $2$ & $2.453$ & $\\checkmark$ & $\\checkmark$ & $\\checkmark$ \\\\ \\hline\n",
            "$600$ & $3$ & $0.556$ & $\\checkmark$ & $\\checkmark$ & $\\checkmark$ \\\\ \\hline\n",
            "$600$ & $4$ & $1.358$ & $\\checkmark$ & $\\checkmark$ & $\\checkmark$ \\\\ \\hline\n",
            "$800$ & $0$ & $5.542$ & $\\checkmark$ & $\\checkmark$ & $\\times$ \\\\ \\hline\n",
            "$800$ & $1$ & $1.604$ & $\\checkmark$ & $\\checkmark$ & $\\checkmark$ \\\\ \\hline\n",
            "$800$ & $2$ & $0.106$ & $\\checkmark$ & $\\checkmark$ & $\\checkmark$ \\\\ \\hline\n",
            "$800$ & $3$ & $1.706$ & $\\checkmark$ & $\\checkmark$ & $\\checkmark$ \\\\ \\hline\n",
            "$800$ & $4$ & $3.992$ & $\\checkmark$ & $\\checkmark$ & $\\checkmark$ \\\\ \\hline\n",
            "$1000$ & $0$ & $6.311$ & $\\checkmark$ & $\\times$ & $\\times$ \\\\ \\hline\n",
            "$1000$ & $1$ & $4.021$ & $\\checkmark$ & $\\checkmark$ & $\\checkmark$ \\\\ \\hline\n",
            "$1000$ & $2$ & $1.522$ & $\\checkmark$ & $\\checkmark$ & $\\checkmark$ \\\\ \\hline\n",
            "$1000$ & $3$ & $1.968$ & $\\checkmark$ & $\\checkmark$ & $\\checkmark$ \\\\ \\hline\n",
            "$1000$ & $4$ & $3.831$ & $\\checkmark$ & $\\checkmark$ & $\\checkmark$ \\\\ \\hline\n"
          ]
        }
      ]
    },
    {
      "cell_type": "markdown",
      "source": [
        "### Критерий согласия хи-квадрат для сложной гипотезы"
      ],
      "metadata": {
        "id": "Cus74TBCWN36"
      }
    },
    {
      "cell_type": "code",
      "source": [
        "def P(x, t):\n",
        "  return -t**x/(np.log(1-t) * x)"
      ],
      "metadata": {
        "id": "T-iHVRGbmyXK"
      },
      "execution_count": 196,
      "outputs": []
    },
    {
      "cell_type": "code",
      "source": [
        "N = 3\n",
        "r = 1"
      ],
      "metadata": {
        "id": "4VK8nAc7fT7y"
      },
      "execution_count": 197,
      "outputs": []
    },
    {
      "cell_type": "code",
      "source": [
        "chi_sq = chi2(df=N-1-r)\n",
        "alphas = [0.01, 0.05, 0.1]\n",
        "\n",
        "for alpha in alphas:\n",
        "    print(np.round(chi_sq.ppf(q=1 - alpha), 3))\n",
        "\n",
        "for n in sizes:\n",
        "    for i in range(5):\n",
        "        res = []\n",
        "\n",
        "        t = mle(np.array(df_log[n][i]).mean())\n",
        "        probs = np.array([P(1, t), P(2, t), 1 - P(1, t) - P(2, t)])\n",
        "\n",
        "        freqs = dict(Counter(df_log[n][i]))\n",
        "        freq_vect = np.array([freqs.get(1, 0), freqs.get(2, 0), n - freqs.get(1, 0) - freqs.get(2, 0)])\n",
        "        stat_pirs = np.sum(freq_vect ** 2 / (n * probs)) - n\n",
        "\n",
        "        for alpha in alphas:\n",
        "            if stat_pirs > chi_sq.ppf(q=1 - alpha):\n",
        "                res.append('$\\\\times$')\n",
        "            else:\n",
        "                res.append('$\\\\checkmark$')\n",
        "        print(f'${n}$ & ${i}$ & ${np.round(stat_pirs, 3)}$ & {res[0]} & {res[1]} & {res[2]} \\\\\\\\ \\\\hline')"
      ],
      "metadata": {
        "colab": {
          "base_uri": "https://localhost:8080/"
        },
        "id": "vSVPOPXZfUbB",
        "outputId": "935076f3-086d-45c2-fb58-d500435a6fd5"
      },
      "execution_count": 198,
      "outputs": [
        {
          "output_type": "stream",
          "name": "stdout",
          "text": [
            "6.635\n",
            "3.841\n",
            "2.706\n",
            "$5$ & $0$ & $0.0$ & $\\checkmark$ & $\\checkmark$ & $\\checkmark$ \\\\ \\hline\n",
            "$5$ & $1$ & $0.393$ & $\\checkmark$ & $\\checkmark$ & $\\checkmark$ \\\\ \\hline\n",
            "$5$ & $2$ & $0.0$ & $\\checkmark$ & $\\checkmark$ & $\\checkmark$ \\\\ \\hline\n",
            "$5$ & $3$ & $0.393$ & $\\checkmark$ & $\\checkmark$ & $\\checkmark$ \\\\ \\hline\n",
            "$5$ & $4$ & $0.0$ & $\\checkmark$ & $\\checkmark$ & $\\checkmark$ \\\\ \\hline\n",
            "$10$ & $0$ & $0.166$ & $\\checkmark$ & $\\checkmark$ & $\\checkmark$ \\\\ \\hline\n",
            "$10$ & $1$ & $0.166$ & $\\checkmark$ & $\\checkmark$ & $\\checkmark$ \\\\ \\hline\n",
            "$10$ & $2$ & $0.0$ & $\\checkmark$ & $\\checkmark$ & $\\checkmark$ \\\\ \\hline\n",
            "$10$ & $3$ & $0.0$ & $\\checkmark$ & $\\checkmark$ & $\\checkmark$ \\\\ \\hline\n",
            "$10$ & $4$ & $0.166$ & $\\checkmark$ & $\\checkmark$ & $\\checkmark$ \\\\ \\hline\n",
            "$100$ & $0$ & $0.234$ & $\\checkmark$ & $\\checkmark$ & $\\checkmark$ \\\\ \\hline\n",
            "$100$ & $1$ & $0.129$ & $\\checkmark$ & $\\checkmark$ & $\\checkmark$ \\\\ \\hline\n",
            "$100$ & $2$ & $0.519$ & $\\checkmark$ & $\\checkmark$ & $\\checkmark$ \\\\ \\hline\n",
            "$100$ & $3$ & $1.12$ & $\\checkmark$ & $\\checkmark$ & $\\checkmark$ \\\\ \\hline\n",
            "$100$ & $4$ & $0.187$ & $\\checkmark$ & $\\checkmark$ & $\\checkmark$ \\\\ \\hline\n",
            "$200$ & $0$ & $0.355$ & $\\checkmark$ & $\\checkmark$ & $\\checkmark$ \\\\ \\hline\n",
            "$200$ & $1$ & $1.554$ & $\\checkmark$ & $\\checkmark$ & $\\checkmark$ \\\\ \\hline\n",
            "$200$ & $2$ & $0.05$ & $\\checkmark$ & $\\checkmark$ & $\\checkmark$ \\\\ \\hline\n",
            "$200$ & $3$ & $0.003$ & $\\checkmark$ & $\\checkmark$ & $\\checkmark$ \\\\ \\hline\n",
            "$200$ & $4$ & $0.374$ & $\\checkmark$ & $\\checkmark$ & $\\checkmark$ \\\\ \\hline\n",
            "$400$ & $0$ & $0.748$ & $\\checkmark$ & $\\checkmark$ & $\\checkmark$ \\\\ \\hline\n",
            "$400$ & $1$ & $0.038$ & $\\checkmark$ & $\\checkmark$ & $\\checkmark$ \\\\ \\hline\n",
            "$400$ & $2$ & $0.085$ & $\\checkmark$ & $\\checkmark$ & $\\checkmark$ \\\\ \\hline\n",
            "$400$ & $3$ & $1.108$ & $\\checkmark$ & $\\checkmark$ & $\\checkmark$ \\\\ \\hline\n",
            "$400$ & $4$ & $0.815$ & $\\checkmark$ & $\\checkmark$ & $\\checkmark$ \\\\ \\hline\n",
            "$600$ & $0$ & $0.675$ & $\\checkmark$ & $\\checkmark$ & $\\checkmark$ \\\\ \\hline\n",
            "$600$ & $1$ & $0.095$ & $\\checkmark$ & $\\checkmark$ & $\\checkmark$ \\\\ \\hline\n",
            "$600$ & $2$ & $0.338$ & $\\checkmark$ & $\\checkmark$ & $\\checkmark$ \\\\ \\hline\n",
            "$600$ & $3$ & $0.28$ & $\\checkmark$ & $\\checkmark$ & $\\checkmark$ \\\\ \\hline\n",
            "$600$ & $4$ & $1.407$ & $\\checkmark$ & $\\checkmark$ & $\\checkmark$ \\\\ \\hline\n",
            "$800$ & $0$ & $0.522$ & $\\checkmark$ & $\\checkmark$ & $\\checkmark$ \\\\ \\hline\n",
            "$800$ & $1$ & $0.82$ & $\\checkmark$ & $\\checkmark$ & $\\checkmark$ \\\\ \\hline\n",
            "$800$ & $2$ & $0.12$ & $\\checkmark$ & $\\checkmark$ & $\\checkmark$ \\\\ \\hline\n",
            "$800$ & $3$ & $1.42$ & $\\checkmark$ & $\\checkmark$ & $\\checkmark$ \\\\ \\hline\n",
            "$800$ & $4$ & $1.25$ & $\\checkmark$ & $\\checkmark$ & $\\checkmark$ \\\\ \\hline\n",
            "$1000$ & $0$ & $0.836$ & $\\checkmark$ & $\\checkmark$ & $\\checkmark$ \\\\ \\hline\n",
            "$1000$ & $1$ & $1.002$ & $\\checkmark$ & $\\checkmark$ & $\\checkmark$ \\\\ \\hline\n",
            "$1000$ & $2$ & $1.002$ & $\\checkmark$ & $\\checkmark$ & $\\checkmark$ \\\\ \\hline\n",
            "$1000$ & $3$ & $1.329$ & $\\checkmark$ & $\\checkmark$ & $\\checkmark$ \\\\ \\hline\n",
            "$1000$ & $4$ & $1.202$ & $\\checkmark$ & $\\checkmark$ & $\\checkmark$ \\\\ \\hline\n"
          ]
        }
      ]
    },
    {
      "cell_type": "markdown",
      "source": [
        "## Задание для данных, описываемых распределением"
      ],
      "metadata": {
        "id": "4PNWrUcw6KFO"
      }
    },
    {
      "cell_type": "code",
      "source": [
        "data = pd.read_csv(\"games.csv\")\n",
        "data.head()"
      ],
      "metadata": {
        "colab": {
          "base_uri": "https://localhost:8080/",
          "height": 206
        },
        "id": "sBGeEnH76Iru",
        "outputId": "69187e4b-609e-490a-d3f0-e94695b22c92"
      },
      "execution_count": 199,
      "outputs": [
        {
          "output_type": "execute_result",
          "data": {
            "text/plain": [
              "   app_id                              title date_release   win    mac  linux  \\\n",
              "0   13500  Prince of Persia: Warrior Within™   2008-11-21  True  False  False   \n",
              "1   22364            BRINK: Agents of Change   2011-08-03  True  False  False   \n",
              "2  113020       Monaco: What's Yours Is Mine   2013-04-24  True   True   True   \n",
              "3  226560                 Escape Dead Island   2014-11-18  True  False  False   \n",
              "4  249050            Dungeon of the ENDLESS™   2014-10-27  True   True  False   \n",
              "\n",
              "          rating  positive_ratio  user_reviews  price_final  price_original  \\\n",
              "0  Very Positive              84          2199         9.99            9.99   \n",
              "1       Positive              85            21         2.99            2.99   \n",
              "2  Very Positive              92          3722        14.99           14.99   \n",
              "3          Mixed              61           873        14.99           14.99   \n",
              "4  Very Positive              88          8784        11.99           11.99   \n",
              "\n",
              "   discount  steam_deck  \n",
              "0       0.0        True  \n",
              "1       0.0        True  \n",
              "2       0.0        True  \n",
              "3       0.0        True  \n",
              "4       0.0        True  "
            ],
            "text/html": [
              "\n",
              "  <div id=\"df-a9efaf89-25c0-4684-b012-a8dce51de77d\" class=\"colab-df-container\">\n",
              "    <div>\n",
              "<style scoped>\n",
              "    .dataframe tbody tr th:only-of-type {\n",
              "        vertical-align: middle;\n",
              "    }\n",
              "\n",
              "    .dataframe tbody tr th {\n",
              "        vertical-align: top;\n",
              "    }\n",
              "\n",
              "    .dataframe thead th {\n",
              "        text-align: right;\n",
              "    }\n",
              "</style>\n",
              "<table border=\"1\" class=\"dataframe\">\n",
              "  <thead>\n",
              "    <tr style=\"text-align: right;\">\n",
              "      <th></th>\n",
              "      <th>app_id</th>\n",
              "      <th>title</th>\n",
              "      <th>date_release</th>\n",
              "      <th>win</th>\n",
              "      <th>mac</th>\n",
              "      <th>linux</th>\n",
              "      <th>rating</th>\n",
              "      <th>positive_ratio</th>\n",
              "      <th>user_reviews</th>\n",
              "      <th>price_final</th>\n",
              "      <th>price_original</th>\n",
              "      <th>discount</th>\n",
              "      <th>steam_deck</th>\n",
              "    </tr>\n",
              "  </thead>\n",
              "  <tbody>\n",
              "    <tr>\n",
              "      <th>0</th>\n",
              "      <td>13500</td>\n",
              "      <td>Prince of Persia: Warrior Within™</td>\n",
              "      <td>2008-11-21</td>\n",
              "      <td>True</td>\n",
              "      <td>False</td>\n",
              "      <td>False</td>\n",
              "      <td>Very Positive</td>\n",
              "      <td>84</td>\n",
              "      <td>2199</td>\n",
              "      <td>9.99</td>\n",
              "      <td>9.99</td>\n",
              "      <td>0.0</td>\n",
              "      <td>True</td>\n",
              "    </tr>\n",
              "    <tr>\n",
              "      <th>1</th>\n",
              "      <td>22364</td>\n",
              "      <td>BRINK: Agents of Change</td>\n",
              "      <td>2011-08-03</td>\n",
              "      <td>True</td>\n",
              "      <td>False</td>\n",
              "      <td>False</td>\n",
              "      <td>Positive</td>\n",
              "      <td>85</td>\n",
              "      <td>21</td>\n",
              "      <td>2.99</td>\n",
              "      <td>2.99</td>\n",
              "      <td>0.0</td>\n",
              "      <td>True</td>\n",
              "    </tr>\n",
              "    <tr>\n",
              "      <th>2</th>\n",
              "      <td>113020</td>\n",
              "      <td>Monaco: What's Yours Is Mine</td>\n",
              "      <td>2013-04-24</td>\n",
              "      <td>True</td>\n",
              "      <td>True</td>\n",
              "      <td>True</td>\n",
              "      <td>Very Positive</td>\n",
              "      <td>92</td>\n",
              "      <td>3722</td>\n",
              "      <td>14.99</td>\n",
              "      <td>14.99</td>\n",
              "      <td>0.0</td>\n",
              "      <td>True</td>\n",
              "    </tr>\n",
              "    <tr>\n",
              "      <th>3</th>\n",
              "      <td>226560</td>\n",
              "      <td>Escape Dead Island</td>\n",
              "      <td>2014-11-18</td>\n",
              "      <td>True</td>\n",
              "      <td>False</td>\n",
              "      <td>False</td>\n",
              "      <td>Mixed</td>\n",
              "      <td>61</td>\n",
              "      <td>873</td>\n",
              "      <td>14.99</td>\n",
              "      <td>14.99</td>\n",
              "      <td>0.0</td>\n",
              "      <td>True</td>\n",
              "    </tr>\n",
              "    <tr>\n",
              "      <th>4</th>\n",
              "      <td>249050</td>\n",
              "      <td>Dungeon of the ENDLESS™</td>\n",
              "      <td>2014-10-27</td>\n",
              "      <td>True</td>\n",
              "      <td>True</td>\n",
              "      <td>False</td>\n",
              "      <td>Very Positive</td>\n",
              "      <td>88</td>\n",
              "      <td>8784</td>\n",
              "      <td>11.99</td>\n",
              "      <td>11.99</td>\n",
              "      <td>0.0</td>\n",
              "      <td>True</td>\n",
              "    </tr>\n",
              "  </tbody>\n",
              "</table>\n",
              "</div>\n",
              "    <div class=\"colab-df-buttons\">\n",
              "\n",
              "  <div class=\"colab-df-container\">\n",
              "    <button class=\"colab-df-convert\" onclick=\"convertToInteractive('df-a9efaf89-25c0-4684-b012-a8dce51de77d')\"\n",
              "            title=\"Convert this dataframe to an interactive table.\"\n",
              "            style=\"display:none;\">\n",
              "\n",
              "  <svg xmlns=\"http://www.w3.org/2000/svg\" height=\"24px\" viewBox=\"0 -960 960 960\">\n",
              "    <path d=\"M120-120v-720h720v720H120Zm60-500h600v-160H180v160Zm220 220h160v-160H400v160Zm0 220h160v-160H400v160ZM180-400h160v-160H180v160Zm440 0h160v-160H620v160ZM180-180h160v-160H180v160Zm440 0h160v-160H620v160Z\"/>\n",
              "  </svg>\n",
              "    </button>\n",
              "\n",
              "  <style>\n",
              "    .colab-df-container {\n",
              "      display:flex;\n",
              "      gap: 12px;\n",
              "    }\n",
              "\n",
              "    .colab-df-convert {\n",
              "      background-color: #E8F0FE;\n",
              "      border: none;\n",
              "      border-radius: 50%;\n",
              "      cursor: pointer;\n",
              "      display: none;\n",
              "      fill: #1967D2;\n",
              "      height: 32px;\n",
              "      padding: 0 0 0 0;\n",
              "      width: 32px;\n",
              "    }\n",
              "\n",
              "    .colab-df-convert:hover {\n",
              "      background-color: #E2EBFA;\n",
              "      box-shadow: 0px 1px 2px rgba(60, 64, 67, 0.3), 0px 1px 3px 1px rgba(60, 64, 67, 0.15);\n",
              "      fill: #174EA6;\n",
              "    }\n",
              "\n",
              "    .colab-df-buttons div {\n",
              "      margin-bottom: 4px;\n",
              "    }\n",
              "\n",
              "    [theme=dark] .colab-df-convert {\n",
              "      background-color: #3B4455;\n",
              "      fill: #D2E3FC;\n",
              "    }\n",
              "\n",
              "    [theme=dark] .colab-df-convert:hover {\n",
              "      background-color: #434B5C;\n",
              "      box-shadow: 0px 1px 3px 1px rgba(0, 0, 0, 0.15);\n",
              "      filter: drop-shadow(0px 1px 2px rgba(0, 0, 0, 0.3));\n",
              "      fill: #FFFFFF;\n",
              "    }\n",
              "  </style>\n",
              "\n",
              "    <script>\n",
              "      const buttonEl =\n",
              "        document.querySelector('#df-a9efaf89-25c0-4684-b012-a8dce51de77d button.colab-df-convert');\n",
              "      buttonEl.style.display =\n",
              "        google.colab.kernel.accessAllowed ? 'block' : 'none';\n",
              "\n",
              "      async function convertToInteractive(key) {\n",
              "        const element = document.querySelector('#df-a9efaf89-25c0-4684-b012-a8dce51de77d');\n",
              "        const dataTable =\n",
              "          await google.colab.kernel.invokeFunction('convertToInteractive',\n",
              "                                                    [key], {});\n",
              "        if (!dataTable) return;\n",
              "\n",
              "        const docLinkHtml = 'Like what you see? Visit the ' +\n",
              "          '<a target=\"_blank\" href=https://colab.research.google.com/notebooks/data_table.ipynb>data table notebook</a>'\n",
              "          + ' to learn more about interactive tables.';\n",
              "        element.innerHTML = '';\n",
              "        dataTable['output_type'] = 'display_data';\n",
              "        await google.colab.output.renderOutput(dataTable, element);\n",
              "        const docLink = document.createElement('div');\n",
              "        docLink.innerHTML = docLinkHtml;\n",
              "        element.appendChild(docLink);\n",
              "      }\n",
              "    </script>\n",
              "  </div>\n",
              "\n",
              "\n",
              "<div id=\"df-65502cc1-a096-4022-a6e5-4094ee76cbb0\">\n",
              "  <button class=\"colab-df-quickchart\" onclick=\"quickchart('df-65502cc1-a096-4022-a6e5-4094ee76cbb0')\"\n",
              "            title=\"Suggest charts\"\n",
              "            style=\"display:none;\">\n",
              "\n",
              "<svg xmlns=\"http://www.w3.org/2000/svg\" height=\"24px\"viewBox=\"0 0 24 24\"\n",
              "     width=\"24px\">\n",
              "    <g>\n",
              "        <path d=\"M19 3H5c-1.1 0-2 .9-2 2v14c0 1.1.9 2 2 2h14c1.1 0 2-.9 2-2V5c0-1.1-.9-2-2-2zM9 17H7v-7h2v7zm4 0h-2V7h2v10zm4 0h-2v-4h2v4z\"/>\n",
              "    </g>\n",
              "</svg>\n",
              "  </button>\n",
              "\n",
              "<style>\n",
              "  .colab-df-quickchart {\n",
              "      --bg-color: #E8F0FE;\n",
              "      --fill-color: #1967D2;\n",
              "      --hover-bg-color: #E2EBFA;\n",
              "      --hover-fill-color: #174EA6;\n",
              "      --disabled-fill-color: #AAA;\n",
              "      --disabled-bg-color: #DDD;\n",
              "  }\n",
              "\n",
              "  [theme=dark] .colab-df-quickchart {\n",
              "      --bg-color: #3B4455;\n",
              "      --fill-color: #D2E3FC;\n",
              "      --hover-bg-color: #434B5C;\n",
              "      --hover-fill-color: #FFFFFF;\n",
              "      --disabled-bg-color: #3B4455;\n",
              "      --disabled-fill-color: #666;\n",
              "  }\n",
              "\n",
              "  .colab-df-quickchart {\n",
              "    background-color: var(--bg-color);\n",
              "    border: none;\n",
              "    border-radius: 50%;\n",
              "    cursor: pointer;\n",
              "    display: none;\n",
              "    fill: var(--fill-color);\n",
              "    height: 32px;\n",
              "    padding: 0;\n",
              "    width: 32px;\n",
              "  }\n",
              "\n",
              "  .colab-df-quickchart:hover {\n",
              "    background-color: var(--hover-bg-color);\n",
              "    box-shadow: 0 1px 2px rgba(60, 64, 67, 0.3), 0 1px 3px 1px rgba(60, 64, 67, 0.15);\n",
              "    fill: var(--button-hover-fill-color);\n",
              "  }\n",
              "\n",
              "  .colab-df-quickchart-complete:disabled,\n",
              "  .colab-df-quickchart-complete:disabled:hover {\n",
              "    background-color: var(--disabled-bg-color);\n",
              "    fill: var(--disabled-fill-color);\n",
              "    box-shadow: none;\n",
              "  }\n",
              "\n",
              "  .colab-df-spinner {\n",
              "    border: 2px solid var(--fill-color);\n",
              "    border-color: transparent;\n",
              "    border-bottom-color: var(--fill-color);\n",
              "    animation:\n",
              "      spin 1s steps(1) infinite;\n",
              "  }\n",
              "\n",
              "  @keyframes spin {\n",
              "    0% {\n",
              "      border-color: transparent;\n",
              "      border-bottom-color: var(--fill-color);\n",
              "      border-left-color: var(--fill-color);\n",
              "    }\n",
              "    20% {\n",
              "      border-color: transparent;\n",
              "      border-left-color: var(--fill-color);\n",
              "      border-top-color: var(--fill-color);\n",
              "    }\n",
              "    30% {\n",
              "      border-color: transparent;\n",
              "      border-left-color: var(--fill-color);\n",
              "      border-top-color: var(--fill-color);\n",
              "      border-right-color: var(--fill-color);\n",
              "    }\n",
              "    40% {\n",
              "      border-color: transparent;\n",
              "      border-right-color: var(--fill-color);\n",
              "      border-top-color: var(--fill-color);\n",
              "    }\n",
              "    60% {\n",
              "      border-color: transparent;\n",
              "      border-right-color: var(--fill-color);\n",
              "    }\n",
              "    80% {\n",
              "      border-color: transparent;\n",
              "      border-right-color: var(--fill-color);\n",
              "      border-bottom-color: var(--fill-color);\n",
              "    }\n",
              "    90% {\n",
              "      border-color: transparent;\n",
              "      border-bottom-color: var(--fill-color);\n",
              "    }\n",
              "  }\n",
              "</style>\n",
              "\n",
              "  <script>\n",
              "    async function quickchart(key) {\n",
              "      const quickchartButtonEl =\n",
              "        document.querySelector('#' + key + ' button');\n",
              "      quickchartButtonEl.disabled = true;  // To prevent multiple clicks.\n",
              "      quickchartButtonEl.classList.add('colab-df-spinner');\n",
              "      try {\n",
              "        const charts = await google.colab.kernel.invokeFunction(\n",
              "            'suggestCharts', [key], {});\n",
              "      } catch (error) {\n",
              "        console.error('Error during call to suggestCharts:', error);\n",
              "      }\n",
              "      quickchartButtonEl.classList.remove('colab-df-spinner');\n",
              "      quickchartButtonEl.classList.add('colab-df-quickchart-complete');\n",
              "    }\n",
              "    (() => {\n",
              "      let quickchartButtonEl =\n",
              "        document.querySelector('#df-65502cc1-a096-4022-a6e5-4094ee76cbb0 button');\n",
              "      quickchartButtonEl.style.display =\n",
              "        google.colab.kernel.accessAllowed ? 'block' : 'none';\n",
              "    })();\n",
              "  </script>\n",
              "</div>\n",
              "    </div>\n",
              "  </div>\n"
            ]
          },
          "metadata": {},
          "execution_count": 199
        }
      ]
    },
    {
      "cell_type": "code",
      "source": [
        "df = np.round(np.array(data.price_final))\n",
        "df = df[df != 0]\n",
        "n = len(df)"
      ],
      "metadata": {
        "id": "vinRg4G_6cSx"
      },
      "execution_count": 200,
      "outputs": []
    },
    {
      "cell_type": "markdown",
      "source": [
        "Находим $\\hat{\\theta}_{м.м.п.}$"
      ],
      "metadata": {
        "id": "HGFsES0G_inH"
      }
    },
    {
      "cell_type": "code",
      "source": [
        "from math import log\n",
        "import scipy.optimize\n",
        "\n",
        "def func(x):\n",
        "    y = x / (log(1-x) * (1-x)) + df[n // 2:].mean()\n",
        "    return y\n",
        "\n",
        "mle_estim = scipy.optimize.fsolve(func, 0.96)[0]"
      ],
      "metadata": {
        "id": "IEvnML9R6f0u"
      },
      "execution_count": 201,
      "outputs": []
    },
    {
      "cell_type": "code",
      "source": [
        "n, mle_estim"
      ],
      "metadata": {
        "colab": {
          "base_uri": "https://localhost:8080/"
        },
        "id": "bBE8kYVd9YKg",
        "outputId": "961b7c0b-97fe-4a92-ec4e-3449612eed45"
      },
      "execution_count": 202,
      "outputs": [
        {
          "output_type": "execute_result",
          "data": {
            "text/plain": [
              "(40933, 0.9709765130005783)"
            ]
          },
          "metadata": {},
          "execution_count": 202
        }
      ]
    },
    {
      "cell_type": "code",
      "source": [
        "def tdf(x_lst, t):\n",
        "  res = []\n",
        "  for x in x_lst:\n",
        "    if x < 1:\n",
        "      res.append(0)\n",
        "    else:\n",
        "      s = 0\n",
        "      for k in range(1, int(x) + 1):\n",
        "        s += t**k / k\n",
        "      s *= -1/np.log(1-t)\n",
        "      res.append(s)\n",
        "  return res"
      ],
      "metadata": {
        "id": "o157o-BR6lEe"
      },
      "execution_count": 203,
      "outputs": []
    },
    {
      "cell_type": "markdown",
      "source": [
        "### Критерий согласия Колмогорова для сложной гипотезы"
      ],
      "metadata": {
        "id": "gefWXGeD9mQV"
      }
    },
    {
      "cell_type": "markdown",
      "source": [
        "Строим $U_i$"
      ],
      "metadata": {
        "id": "foyjRg1X_oYW"
      }
    },
    {
      "cell_type": "code",
      "source": [
        "np.random.seed(42)\n",
        "df_uni = np.random.uniform(size=(1, n))\n",
        "df_new = np.array(tdf(df - eps, mle_estim)) + df_uni * (np.array(tdf(df, mle_estim)) - np.array(tdf(df - eps, mle_estim)))"
      ],
      "metadata": {
        "id": "LuM6weAu-MXP"
      },
      "execution_count": 204,
      "outputs": []
    },
    {
      "cell_type": "markdown",
      "source": [
        "Применяем критерий"
      ],
      "metadata": {
        "id": "sB0aH9j7_teW"
      }
    },
    {
      "cell_type": "code",
      "source": [
        "half_df = df_new[:n // 2]"
      ],
      "metadata": {
        "id": "vptqSp_d_znw"
      },
      "execution_count": 205,
      "outputs": []
    },
    {
      "cell_type": "code",
      "source": [
        "res = []\n",
        "for alpha, lamb in coefs:\n",
        "    var_series = np.array(sorted(half_df))\n",
        "    Dn_plus = np.max(np.abs(np.arange(1, n + 1) / n - var_series))\n",
        "    Dn_minus = np.max(np.abs(var_series - np.arange(n) / n))\n",
        "    Dn = max(Dn_plus, Dn_minus)\n",
        "\n",
        "    stat = sqrt(n) * Dn\n",
        "\n",
        "    if stat >= lamb:\n",
        "        res.append('$\\\\times$')\n",
        "    else:\n",
        "        res.append('$\\\\checkmark$')\n",
        "print(f'{res[0]} & {res[1]} & {res[2]} \\\\\\\\ \\\\hline')"
      ],
      "metadata": {
        "colab": {
          "base_uri": "https://localhost:8080/"
        },
        "id": "xvjNicoH_6h1",
        "outputId": "919d4f67-b62a-4807-d3bf-7d26b053092f"
      },
      "execution_count": 206,
      "outputs": [
        {
          "output_type": "stream",
          "name": "stdout",
          "text": [
            "$\\times$ & $\\times$ & $\\times$ \\\\ \\hline\n"
          ]
        }
      ]
    },
    {
      "cell_type": "markdown",
      "source": [
        "### Критерий согласия хи-квадрат для сложной гипотезы"
      ],
      "metadata": {
        "id": "tjX1GQ-PW4WN"
      }
    },
    {
      "cell_type": "markdown",
      "source": [
        "Воспользуемся эвристической формулой Старджесса для определения \"оптимального\" числа интервалов:"
      ],
      "metadata": {
        "id": "VTSeukV3LVJK"
      }
    },
    {
      "cell_type": "code",
      "source": [
        "N = int(3.3 * np.log10(n) + 1)\n",
        "r = 1\n",
        "N"
      ],
      "metadata": {
        "colab": {
          "base_uri": "https://localhost:8080/"
        },
        "id": "AycEPucmKyhg",
        "outputId": "eb5f1d3d-0edd-4dcf-897a-c0a4cd38f212"
      },
      "execution_count": 207,
      "outputs": [
        {
          "output_type": "execute_result",
          "data": {
            "text/plain": [
              "16"
            ]
          },
          "metadata": {},
          "execution_count": 207
        }
      ]
    },
    {
      "cell_type": "markdown",
      "source": [
        "Выберем интервалы так, чтобы число наблюдений, попавших в интервалы, было не слишком малым и сравнимым."
      ],
      "metadata": {
        "id": "O7kEek2ILGWn"
      }
    },
    {
      "cell_type": "code",
      "source": [
        "n / N"
      ],
      "metadata": {
        "colab": {
          "base_uri": "https://localhost:8080/"
        },
        "id": "_vqtlyeRLiB6",
        "outputId": "7005582f-a440-4e2e-89c8-a262599e45a3"
      },
      "execution_count": 208,
      "outputs": [
        {
          "output_type": "execute_result",
          "data": {
            "text/plain": [
              "2558.3125"
            ]
          },
          "metadata": {},
          "execution_count": 208
        }
      ]
    },
    {
      "cell_type": "code",
      "source": [
        "freqs = dict(Counter(sorted(df)))\n",
        "freqs"
      ],
      "metadata": {
        "colab": {
          "base_uri": "https://localhost:8080/"
        },
        "id": "xS8m3dt8LgEd",
        "outputId": "3066d8a8-0085-4a6b-efa3-7507546b02bf"
      },
      "execution_count": 209,
      "outputs": [
        {
          "output_type": "execute_result",
          "data": {
            "text/plain": [
              "{1.0: 3977,\n",
              " 2.0: 3387,\n",
              " 3.0: 3043,\n",
              " 4.0: 2125,\n",
              " 5.0: 4845,\n",
              " 6.0: 1464,\n",
              " 7.0: 1781,\n",
              " 8.0: 1403,\n",
              " 9.0: 685,\n",
              " 10.0: 5258,\n",
              " 11.0: 291,\n",
              " 12.0: 774,\n",
              " 13.0: 795,\n",
              " 14.0: 240,\n",
              " 15.0: 2866,\n",
              " 16.0: 266,\n",
              " 17.0: 217,\n",
              " 18.0: 337,\n",
              " 19.0: 147,\n",
              " 20.0: 3214,\n",
              " 21.0: 16,\n",
              " 22.0: 40,\n",
              " 23.0: 16,\n",
              " 24.0: 23,\n",
              " 25.0: 1009,\n",
              " 27.0: 16,\n",
              " 28.0: 7,\n",
              " 29.0: 5,\n",
              " 30.0: 1070,\n",
              " 31.0: 4,\n",
              " 32.0: 3,\n",
              " 33.0: 5,\n",
              " 34.0: 5,\n",
              " 35.0: 211,\n",
              " 36.0: 5,\n",
              " 37.0: 3,\n",
              " 38.0: 1,\n",
              " 39.0: 2,\n",
              " 40.0: 573,\n",
              " 42.0: 1,\n",
              " 45.0: 72,\n",
              " 48.0: 1,\n",
              " 49.0: 5,\n",
              " 50.0: 228,\n",
              " 52.0: 1,\n",
              " 54.0: 1,\n",
              " 55.0: 13,\n",
              " 58.0: 1,\n",
              " 59.0: 11,\n",
              " 60.0: 268,\n",
              " 64.0: 1,\n",
              " 65.0: 7,\n",
              " 70.0: 44,\n",
              " 72.0: 1,\n",
              " 75.0: 5,\n",
              " 80.0: 26,\n",
              " 90.0: 7,\n",
              " 93.0: 1,\n",
              " 95.0: 5,\n",
              " 100.0: 77,\n",
              " 110.0: 2,\n",
              " 115.0: 1,\n",
              " 120.0: 1,\n",
              " 125.0: 1,\n",
              " 129.0: 1,\n",
              " 130.0: 1,\n",
              " 134.0: 1,\n",
              " 149.0: 1,\n",
              " 150.0: 3,\n",
              " 200.0: 13,\n",
              " 270.0: 1,\n",
              " 300.0: 2}"
            ]
          },
          "metadata": {},
          "execution_count": 209
        }
      ]
    },
    {
      "cell_type": "markdown",
      "source": [
        "$ɛ_1 = \\{1\\}$ \\\\\n",
        "$ɛ_2 = \\{2\\}$ \\\\\n",
        "$ɛ_3 = \\{3\\}$ \\\\\n",
        "$ɛ_4 = \\{4\\}$ \\\\\n",
        "$ɛ_5 = \\{5\\}$ \\\\\n",
        "$ɛ_6 = \\{6, 7\\}$ \\\\\n",
        "$ɛ_7 = \\{8, 9\\}$ \\\\\n",
        "$ɛ_8 = \\{10\\}$ \\\\\n",
        "$ɛ_9 = \\{11, 12, 13, 14\\}$ \\\\\n",
        "$ɛ_{10} = \\{15\\}$ \\\\\n",
        "$ɛ_{11} = \\{16, 17, 18, 19\\}$ \\\\\n",
        "$ɛ_{12} = \\{20\\}$ \\\\\n",
        "$ɛ_{13} = \\{21, 22, ..., 29\\}$ \\\\\n",
        "$ɛ_{14} = \\{30, 31, ..., 39\\}$ \\\\\n",
        "$ɛ_{15} = \\{40, 41, ..., 59\\}$ \\\\\n",
        "$ɛ_{16} = \\{60, 62, ...\\}$"
      ],
      "metadata": {
        "id": "whWxYu7FLyno"
      }
    },
    {
      "cell_type": "code",
      "source": [
        "from math import log\n",
        "import scipy.optimize\n",
        "\n",
        "def func(x):\n",
        "    y = x / (log(1-x) * (1-x)) + df.mean()\n",
        "    return y\n",
        "\n",
        "t = scipy.optimize.fsolve(func, 0.97)[0]"
      ],
      "metadata": {
        "id": "5qt8CdaZYINb"
      },
      "execution_count": 216,
      "outputs": []
    },
    {
      "cell_type": "code",
      "source": [
        "probs = np.array([P(1, t), P(2, t), P(3, t), P(4, t),  P(5, t),\n",
        "         P(6, t) + P(7, t),\n",
        "         P(8, t) + P(9, t),\n",
        "         P(10, t),\n",
        "         P(11, t) + P(12, t) + P(13, t) + P(14, t),\n",
        "         P(15, t),\n",
        "         P(16, t) + P(17, t) + P(18, t) + P(19, t),\n",
        "         P(20, t),\n",
        "         sum(P(i, t) for i in range(21, 30)),\n",
        "         sum(P(i, t) for i in range(30, 40)),\n",
        "         sum(P(i, t) for i in range(40, 60)),\n",
        "         1 - tdf([60], t)[0]\n",
        "         ])"
      ],
      "metadata": {
        "id": "hghubn8JO0P9"
      },
      "execution_count": 217,
      "outputs": []
    },
    {
      "cell_type": "code",
      "source": [
        "freqs = dict(Counter(df))\n",
        "freq_vect = np.array([freqs.get(1, 0), freqs.get(2, 0), freqs.get(3, 0), freqs.get(4, 0), freqs.get(5, 0),\n",
        "             freqs.get(6, 0) + freqs.get(7, 0),\n",
        "             freqs.get(8, 0) + freqs.get(9, 0),\n",
        "             freqs.get(10, 0),\n",
        "             freqs.get(11, 0) + freqs.get(12, 0) + freqs.get(13, 0) + freqs.get(14, 0),\n",
        "             freqs.get(15, 0),\n",
        "             freqs.get(16, 0) + freqs.get(17, 0) + freqs.get(18, 0) + freqs.get(19, 0),\n",
        "             freqs.get(20, 0),\n",
        "             sum(freqs.get(i, 0) for i in range(21, 30)),\n",
        "             sum(freqs.get(i, 0) for i in range(30, 40)),\n",
        "             sum(freqs.get(i, 0) for i in range(40, 60)),\n",
        "             np.sum(df >= 60)\n",
        "             ])"
      ],
      "metadata": {
        "id": "WDn7QXYNOzUk"
      },
      "execution_count": 218,
      "outputs": []
    },
    {
      "cell_type": "code",
      "source": [
        "chi_sq = chi2(df=N-1-r)\n",
        "alphas = [0.01, 0.05, 0.1]\n",
        "\n",
        "for alpha in alphas:\n",
        "    print(np.round(chi_sq.ppf(q=1 - alpha), 3))\n",
        "\n",
        "res = []\n",
        "stat_pirs = np.sum(freq_vect ** 2 / (n * probs)) - n\n",
        "for alpha in alphas:\n",
        "    if stat_pirs > chi_sq.ppf(q=1 - alpha):\n",
        "        res.append('$\\\\times$')\n",
        "    else:\n",
        "        res.append('$\\\\checkmark$')\n",
        "print(f'${np.round(stat_pirs, 3)}$ & {res[0]} & {res[1]} & {res[2]} \\\\\\\\ \\\\hline')"
      ],
      "metadata": {
        "colab": {
          "base_uri": "https://localhost:8080/"
        },
        "id": "ivLKy8ckSABI",
        "outputId": "5d66452d-0d90-4e58-ce21-e479791df471"
      },
      "execution_count": 213,
      "outputs": [
        {
          "output_type": "stream",
          "name": "stdout",
          "text": [
            "29.141\n",
            "23.685\n",
            "21.064\n",
            "$68917.796$ & $\\times$ & $\\times$ & $\\times$ \\\\ \\hline\n"
          ]
        }
      ]
    },
    {
      "cell_type": "code",
      "source": [
        "N = 3\n",
        "r = 1"
      ],
      "metadata": {
        "id": "FTzvUsD3Amh6"
      },
      "execution_count": 214,
      "outputs": []
    },
    {
      "cell_type": "code",
      "source": [
        "chi_sq = chi2(df=N-1-r)\n",
        "alphas = [0.01, 0.05, 0.1]\n",
        "\n",
        "for alpha in alphas:\n",
        "    print(np.round(chi_sq.ppf(q=1 - alpha), 3))\n",
        "\n",
        "res = []\n",
        "t = mle_estim\n",
        "probs = np.array([P(1, t), P(2, t), 1 - P(1, t) - P(2, t)])\n",
        "freqs = dict(Counter(df))\n",
        "freq_vect = np.array([freqs.get(1, 0), freqs.get(2, 0), n - freqs.get(1, 0) - freqs.get(2, 0)])\n",
        "stat_pirs = np.sum(freq_vect ** 2 / (n * probs)) - n\n",
        "for alpha in alphas:\n",
        "    if stat_pirs > chi_sq.ppf(q=1 - alpha):\n",
        "        res.append('$\\\\times$')\n",
        "    else:\n",
        "        res.append('$\\\\checkmark$')\n",
        "print(f'${np.round(stat_pirs, 3)}$ & {res[0]} & {res[1]} & {res[2]} \\\\\\\\ \\\\hline')"
      ],
      "metadata": {
        "colab": {
          "base_uri": "https://localhost:8080/"
        },
        "id": "4av9hUlRHFTG",
        "outputId": "be90fc23-cfc2-45d0-dca8-d02176f2225c"
      },
      "execution_count": 215,
      "outputs": [
        {
          "output_type": "stream",
          "name": "stdout",
          "text": [
            "6.635\n",
            "3.841\n",
            "2.706\n",
            "$7968.279$ & $\\times$ & $\\times$ & $\\times$ \\\\ \\hline\n"
          ]
        }
      ]
    }
  ],
  "metadata": {
    "colab": {
      "provenance": []
    },
    "kernelspec": {
      "display_name": "Python 3",
      "name": "python3"
    },
    "language_info": {
      "name": "python"
    }
  },
  "nbformat": 4,
  "nbformat_minor": 0
}