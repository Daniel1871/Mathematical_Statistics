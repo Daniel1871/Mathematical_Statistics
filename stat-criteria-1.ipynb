{
  "cells": [
    {
      "cell_type": "markdown",
      "id": "f13f072c",
      "metadata": {
        "id": "f13f072c"
      },
      "source": [
        "# Домашняя работа №2 и 3\n",
        "\n",
        "## Непараметрические доверительные интервалы и гипотезы, ММП, критерии независимости\n"
      ]
    },
    {
      "cell_type": "code",
      "execution_count": null,
      "id": "24b25bbe",
      "metadata": {
        "id": "24b25bbe"
      },
      "outputs": [],
      "source": [
        "import scipy\n",
        "import numpy as np\n",
        "import pandas as pd\n",
        "import matplotlib.pyplot as plt"
      ]
    },
    {
      "cell_type": "markdown",
      "id": "290b0799",
      "metadata": {
        "id": "290b0799"
      },
      "source": [
        "### Задача 1 [3 балла].\n",
        "У студента Такера К. прекрасный преподаватель истории, у которого есть одна удивительная особенность - он любит перед серьёзным разговором давать краткую историческую справку, буквально на 15 минут.\n",
        "Ниже представлена длительность этих справок за последние 30 его бесед (в секундах).\n",
        "\n",
        "Проверьте гипотезу о том, что средняя длительность исторической справки действительно составляет 15 минут.\n",
        "\n",
        "Подсказка: если вы хотите пользоваться нормальностью данных, хорошо бы для начала это проверить."
      ]
    },
    {
      "cell_type": "code",
      "execution_count": null,
      "id": "2e9afc69",
      "metadata": {
        "id": "2e9afc69"
      },
      "outputs": [],
      "source": [
        "X = [ 972.13657796,  926.65790624,  974.6955699 ,  914.12313814,\n",
        "       1010.54047579, 1049.17226689,  861.17140555, 1105.87821973,\n",
        "       1069.02299022, 1070.14492318,  968.0794098 ,  979.37318679,\n",
        "        967.76197371, 1034.4600697 ,  868.80697686,  796.73145929,\n",
        "        964.73094116,  850.23223545,  926.94913049, 1070.79442272,\n",
        "       1164.84056846,  915.00240153,  993.64009143, 1033.21118249,\n",
        "       1081.99297917, 1133.70158858,  844.098831  , 1085.09613621,\n",
        "       1008.30079651,  874.34433931]"
      ]
    },
    {
      "cell_type": "markdown",
      "source": [
        "Для решения задания воспользуемся Z-критерием для среднего. Он асимптотический и не требует проверки нормальности данных. Гипотеза $H_0$: $\\mu = \\mu_0 = 15 * 60$ (работать будем в секундах)."
      ],
      "metadata": {
        "id": "Vcr18P6ZPtbV"
      },
      "id": "Vcr18P6ZPtbV"
    },
    {
      "cell_type": "code",
      "execution_count": null,
      "id": "c80d813b",
      "metadata": {
        "colab": {
          "base_uri": "https://localhost:8080/"
        },
        "id": "c80d813b",
        "outputId": "5acdfa6a-bf2e-46c2-a286-d071e53511e4"
      },
      "outputs": [
        {
          "output_type": "stream",
          "name": "stdout",
          "text": [
            "Гипотеза H0 отвергается при любом уровне значимости alpha >= p_value = 0.000000869\n"
          ]
        }
      ],
      "source": [
        "from statsmodels.stats.weightstats import ztest\n",
        "mu0 = 15 * 60\n",
        "_, p_value = ztest(X, value=mu0)\n",
        "print(f'Гипотеза H0 отвергается при любом уровне значимости alpha >= p_value = {p_value:.9f}')"
      ]
    },
    {
      "cell_type": "markdown",
      "id": "61b4e961",
      "metadata": {
        "id": "61b4e961"
      },
      "source": [
        "### Задача 2 [2 балла].\n",
        "\n",
        "> Помните, что для человека звук его имени является самым сладким и самым важным звуком человеческой речи. (Дейл Карнеги)\n",
        "\n",
        "Доверяй, но проверяй. Решим задачку по психологии! Все цитаты в пабликах вконтакте делятся на два вида: мудрые и недостаточно мудрые. Если цитата мудрая, то её можно лайкнуть. Поговаривают, что если в цитате есть личные местоимения, то пользователь автоматически сопоставляет себя автору этой цитаты и вероятность того, что она будет лайкнута, повышается. Например, цитату\n",
        "\n",
        "> Можно простить человеку все, кроме отсутствия. (Экзюпери)\n",
        "\n",
        "мне не очень хотелось бы лайкать. А вот цитата\n",
        "\n",
        "> Мне наплевать, что вы обо мне думаете. Я о вас вообще не думаю. (Булгаков)\n",
        "\n",
        "совершенно другое дело.\n",
        "\n",
        "В табличке `df_vk_wise` лежат данные о мудрых цитатах. В колонке `I` находится переменная, которая принимает значение `True`, когда в тексте цитаты было личное местоимение \"Я\".\n",
        "\n",
        "Проверьте гипотезу о равенстве среднего числа лайков с помощью подходящего параметрического теста, затем с помощью бутстрапа. Как вы думаете, какой метод предпочтительнее в данной ситуации?"
      ]
    },
    {
      "cell_type": "code",
      "execution_count": null,
      "id": "1394360e",
      "metadata": {
        "colab": {
          "base_uri": "https://localhost:8080/",
          "height": 206
        },
        "id": "1394360e",
        "outputId": "a11195a9-3905-44f6-a2f8-d21d06b2e922"
      },
      "outputs": [
        {
          "output_type": "execute_result",
          "data": {
            "text/plain": [
              "   likes  reposts                                               text      I\n",
              "0    549       25  Я, говорит, люблю человечество, но дивлюсь на ...   True\n",
              "1    607       22  Нельзя любить то, что я люблю, да ещё так, как...   True\n",
              "2    914       37  Если испытываешь по-настоящему глубокое чувств...  False\n",
              "3    989       34  — Я тебя люблю, — сказал я. \\n— Это пройдет, —...   True\n",
              "4   1229       32  Он очаровательно рассказывает мне о том, как о...  False"
            ],
            "text/html": [
              "\n",
              "  <div id=\"df-24b9e692-13e7-470b-ade1-1cbe902f1ded\" class=\"colab-df-container\">\n",
              "    <div>\n",
              "<style scoped>\n",
              "    .dataframe tbody tr th:only-of-type {\n",
              "        vertical-align: middle;\n",
              "    }\n",
              "\n",
              "    .dataframe tbody tr th {\n",
              "        vertical-align: top;\n",
              "    }\n",
              "\n",
              "    .dataframe thead th {\n",
              "        text-align: right;\n",
              "    }\n",
              "</style>\n",
              "<table border=\"1\" class=\"dataframe\">\n",
              "  <thead>\n",
              "    <tr style=\"text-align: right;\">\n",
              "      <th></th>\n",
              "      <th>likes</th>\n",
              "      <th>reposts</th>\n",
              "      <th>text</th>\n",
              "      <th>I</th>\n",
              "    </tr>\n",
              "  </thead>\n",
              "  <tbody>\n",
              "    <tr>\n",
              "      <th>0</th>\n",
              "      <td>549</td>\n",
              "      <td>25</td>\n",
              "      <td>Я, говорит, люблю человечество, но дивлюсь на ...</td>\n",
              "      <td>True</td>\n",
              "    </tr>\n",
              "    <tr>\n",
              "      <th>1</th>\n",
              "      <td>607</td>\n",
              "      <td>22</td>\n",
              "      <td>Нельзя любить то, что я люблю, да ещё так, как...</td>\n",
              "      <td>True</td>\n",
              "    </tr>\n",
              "    <tr>\n",
              "      <th>2</th>\n",
              "      <td>914</td>\n",
              "      <td>37</td>\n",
              "      <td>Если испытываешь по-настоящему глубокое чувств...</td>\n",
              "      <td>False</td>\n",
              "    </tr>\n",
              "    <tr>\n",
              "      <th>3</th>\n",
              "      <td>989</td>\n",
              "      <td>34</td>\n",
              "      <td>— Я тебя люблю, — сказал я. \\n— Это пройдет, —...</td>\n",
              "      <td>True</td>\n",
              "    </tr>\n",
              "    <tr>\n",
              "      <th>4</th>\n",
              "      <td>1229</td>\n",
              "      <td>32</td>\n",
              "      <td>Он очаровательно рассказывает мне о том, как о...</td>\n",
              "      <td>False</td>\n",
              "    </tr>\n",
              "  </tbody>\n",
              "</table>\n",
              "</div>\n",
              "    <div class=\"colab-df-buttons\">\n",
              "\n",
              "  <div class=\"colab-df-container\">\n",
              "    <button class=\"colab-df-convert\" onclick=\"convertToInteractive('df-24b9e692-13e7-470b-ade1-1cbe902f1ded')\"\n",
              "            title=\"Convert this dataframe to an interactive table.\"\n",
              "            style=\"display:none;\">\n",
              "\n",
              "  <svg xmlns=\"http://www.w3.org/2000/svg\" height=\"24px\" viewBox=\"0 -960 960 960\">\n",
              "    <path d=\"M120-120v-720h720v720H120Zm60-500h600v-160H180v160Zm220 220h160v-160H400v160Zm0 220h160v-160H400v160ZM180-400h160v-160H180v160Zm440 0h160v-160H620v160ZM180-180h160v-160H180v160Zm440 0h160v-160H620v160Z\"/>\n",
              "  </svg>\n",
              "    </button>\n",
              "\n",
              "  <style>\n",
              "    .colab-df-container {\n",
              "      display:flex;\n",
              "      gap: 12px;\n",
              "    }\n",
              "\n",
              "    .colab-df-convert {\n",
              "      background-color: #E8F0FE;\n",
              "      border: none;\n",
              "      border-radius: 50%;\n",
              "      cursor: pointer;\n",
              "      display: none;\n",
              "      fill: #1967D2;\n",
              "      height: 32px;\n",
              "      padding: 0 0 0 0;\n",
              "      width: 32px;\n",
              "    }\n",
              "\n",
              "    .colab-df-convert:hover {\n",
              "      background-color: #E2EBFA;\n",
              "      box-shadow: 0px 1px 2px rgba(60, 64, 67, 0.3), 0px 1px 3px 1px rgba(60, 64, 67, 0.15);\n",
              "      fill: #174EA6;\n",
              "    }\n",
              "\n",
              "    .colab-df-buttons div {\n",
              "      margin-bottom: 4px;\n",
              "    }\n",
              "\n",
              "    [theme=dark] .colab-df-convert {\n",
              "      background-color: #3B4455;\n",
              "      fill: #D2E3FC;\n",
              "    }\n",
              "\n",
              "    [theme=dark] .colab-df-convert:hover {\n",
              "      background-color: #434B5C;\n",
              "      box-shadow: 0px 1px 3px 1px rgba(0, 0, 0, 0.15);\n",
              "      filter: drop-shadow(0px 1px 2px rgba(0, 0, 0, 0.3));\n",
              "      fill: #FFFFFF;\n",
              "    }\n",
              "  </style>\n",
              "\n",
              "    <script>\n",
              "      const buttonEl =\n",
              "        document.querySelector('#df-24b9e692-13e7-470b-ade1-1cbe902f1ded button.colab-df-convert');\n",
              "      buttonEl.style.display =\n",
              "        google.colab.kernel.accessAllowed ? 'block' : 'none';\n",
              "\n",
              "      async function convertToInteractive(key) {\n",
              "        const element = document.querySelector('#df-24b9e692-13e7-470b-ade1-1cbe902f1ded');\n",
              "        const dataTable =\n",
              "          await google.colab.kernel.invokeFunction('convertToInteractive',\n",
              "                                                    [key], {});\n",
              "        if (!dataTable) return;\n",
              "\n",
              "        const docLinkHtml = 'Like what you see? Visit the ' +\n",
              "          '<a target=\"_blank\" href=https://colab.research.google.com/notebooks/data_table.ipynb>data table notebook</a>'\n",
              "          + ' to learn more about interactive tables.';\n",
              "        element.innerHTML = '';\n",
              "        dataTable['output_type'] = 'display_data';\n",
              "        await google.colab.output.renderOutput(dataTable, element);\n",
              "        const docLink = document.createElement('div');\n",
              "        docLink.innerHTML = docLinkHtml;\n",
              "        element.appendChild(docLink);\n",
              "      }\n",
              "    </script>\n",
              "  </div>\n",
              "\n",
              "\n",
              "<div id=\"df-7bd9d276-5010-42eb-90e7-4d18dab502c6\">\n",
              "  <button class=\"colab-df-quickchart\" onclick=\"quickchart('df-7bd9d276-5010-42eb-90e7-4d18dab502c6')\"\n",
              "            title=\"Suggest charts\"\n",
              "            style=\"display:none;\">\n",
              "\n",
              "<svg xmlns=\"http://www.w3.org/2000/svg\" height=\"24px\"viewBox=\"0 0 24 24\"\n",
              "     width=\"24px\">\n",
              "    <g>\n",
              "        <path d=\"M19 3H5c-1.1 0-2 .9-2 2v14c0 1.1.9 2 2 2h14c1.1 0 2-.9 2-2V5c0-1.1-.9-2-2-2zM9 17H7v-7h2v7zm4 0h-2V7h2v10zm4 0h-2v-4h2v4z\"/>\n",
              "    </g>\n",
              "</svg>\n",
              "  </button>\n",
              "\n",
              "<style>\n",
              "  .colab-df-quickchart {\n",
              "      --bg-color: #E8F0FE;\n",
              "      --fill-color: #1967D2;\n",
              "      --hover-bg-color: #E2EBFA;\n",
              "      --hover-fill-color: #174EA6;\n",
              "      --disabled-fill-color: #AAA;\n",
              "      --disabled-bg-color: #DDD;\n",
              "  }\n",
              "\n",
              "  [theme=dark] .colab-df-quickchart {\n",
              "      --bg-color: #3B4455;\n",
              "      --fill-color: #D2E3FC;\n",
              "      --hover-bg-color: #434B5C;\n",
              "      --hover-fill-color: #FFFFFF;\n",
              "      --disabled-bg-color: #3B4455;\n",
              "      --disabled-fill-color: #666;\n",
              "  }\n",
              "\n",
              "  .colab-df-quickchart {\n",
              "    background-color: var(--bg-color);\n",
              "    border: none;\n",
              "    border-radius: 50%;\n",
              "    cursor: pointer;\n",
              "    display: none;\n",
              "    fill: var(--fill-color);\n",
              "    height: 32px;\n",
              "    padding: 0;\n",
              "    width: 32px;\n",
              "  }\n",
              "\n",
              "  .colab-df-quickchart:hover {\n",
              "    background-color: var(--hover-bg-color);\n",
              "    box-shadow: 0 1px 2px rgba(60, 64, 67, 0.3), 0 1px 3px 1px rgba(60, 64, 67, 0.15);\n",
              "    fill: var(--button-hover-fill-color);\n",
              "  }\n",
              "\n",
              "  .colab-df-quickchart-complete:disabled,\n",
              "  .colab-df-quickchart-complete:disabled:hover {\n",
              "    background-color: var(--disabled-bg-color);\n",
              "    fill: var(--disabled-fill-color);\n",
              "    box-shadow: none;\n",
              "  }\n",
              "\n",
              "  .colab-df-spinner {\n",
              "    border: 2px solid var(--fill-color);\n",
              "    border-color: transparent;\n",
              "    border-bottom-color: var(--fill-color);\n",
              "    animation:\n",
              "      spin 1s steps(1) infinite;\n",
              "  }\n",
              "\n",
              "  @keyframes spin {\n",
              "    0% {\n",
              "      border-color: transparent;\n",
              "      border-bottom-color: var(--fill-color);\n",
              "      border-left-color: var(--fill-color);\n",
              "    }\n",
              "    20% {\n",
              "      border-color: transparent;\n",
              "      border-left-color: var(--fill-color);\n",
              "      border-top-color: var(--fill-color);\n",
              "    }\n",
              "    30% {\n",
              "      border-color: transparent;\n",
              "      border-left-color: var(--fill-color);\n",
              "      border-top-color: var(--fill-color);\n",
              "      border-right-color: var(--fill-color);\n",
              "    }\n",
              "    40% {\n",
              "      border-color: transparent;\n",
              "      border-right-color: var(--fill-color);\n",
              "      border-top-color: var(--fill-color);\n",
              "    }\n",
              "    60% {\n",
              "      border-color: transparent;\n",
              "      border-right-color: var(--fill-color);\n",
              "    }\n",
              "    80% {\n",
              "      border-color: transparent;\n",
              "      border-right-color: var(--fill-color);\n",
              "      border-bottom-color: var(--fill-color);\n",
              "    }\n",
              "    90% {\n",
              "      border-color: transparent;\n",
              "      border-bottom-color: var(--fill-color);\n",
              "    }\n",
              "  }\n",
              "</style>\n",
              "\n",
              "  <script>\n",
              "    async function quickchart(key) {\n",
              "      const quickchartButtonEl =\n",
              "        document.querySelector('#' + key + ' button');\n",
              "      quickchartButtonEl.disabled = true;  // To prevent multiple clicks.\n",
              "      quickchartButtonEl.classList.add('colab-df-spinner');\n",
              "      try {\n",
              "        const charts = await google.colab.kernel.invokeFunction(\n",
              "            'suggestCharts', [key], {});\n",
              "      } catch (error) {\n",
              "        console.error('Error during call to suggestCharts:', error);\n",
              "      }\n",
              "      quickchartButtonEl.classList.remove('colab-df-spinner');\n",
              "      quickchartButtonEl.classList.add('colab-df-quickchart-complete');\n",
              "    }\n",
              "    (() => {\n",
              "      let quickchartButtonEl =\n",
              "        document.querySelector('#df-7bd9d276-5010-42eb-90e7-4d18dab502c6 button');\n",
              "      quickchartButtonEl.style.display =\n",
              "        google.colab.kernel.accessAllowed ? 'block' : 'none';\n",
              "    })();\n",
              "  </script>\n",
              "</div>\n",
              "    </div>\n",
              "  </div>\n"
            ],
            "application/vnd.google.colaboratory.intrinsic+json": {
              "type": "dataframe",
              "variable_name": "df",
              "summary": "{\n  \"name\": \"df\",\n  \"rows\": 9075,\n  \"fields\": [\n    {\n      \"column\": \"likes\",\n      \"properties\": {\n        \"dtype\": \"number\",\n        \"std\": 1517,\n        \"min\": 21,\n        \"max\": 33822,\n        \"num_unique_values\": 4178,\n        \"samples\": [\n          3544,\n          3891,\n          2154\n        ],\n        \"semantic_type\": \"\",\n        \"description\": \"\"\n      }\n    },\n    {\n      \"column\": \"reposts\",\n      \"properties\": {\n        \"dtype\": \"number\",\n        \"std\": 85,\n        \"min\": 0,\n        \"max\": 1893,\n        \"num_unique_values\": 467,\n        \"samples\": [\n          66,\n          75,\n          24\n        ],\n        \"semantic_type\": \"\",\n        \"description\": \"\"\n      }\n    },\n    {\n      \"column\": \"text\",\n      \"properties\": {\n        \"dtype\": \"string\",\n        \"num_unique_values\": 8602,\n        \"samples\": [\n          \"\\u0422\\u044b \\u043d\\u0435 \\u043e\\u0431\\u044f\\u0437\\u0430\\u043d \\u043b\\u044e\\u0431\\u0438\\u0442\\u044c \\u043a\\u043e\\u0433\\u043e-\\u0442\\u043e \\u0437\\u0430 \\u0442\\u043e, \\u0447\\u0442\\u043e \\u043e\\u043d \\u043b\\u044e\\u0431\\u0438\\u0442 \\u0442\\u0435\\u0431\\u044f.\\n\\n\\u0411\\u0435\\u043b\\u044c \\u0434\\u0435 \\u0416\\u0443\\u0440\\n\\u00ab\\u0418\\u043d\\u0442\\u0438\\u043c\\u043d\\u044b\\u0439 \\u0434\\u043d\\u0435\\u0432\\u043d\\u0438\\u043a. \\u0417\\u0430\\u043f\\u0438\\u0441\\u043a\\u0438 \\u041b\\u043e\\u043d\\u0434\\u043e\\u043d\\u0441\\u043a\\u043e\\u0439 \\u043f\\u0440\\u043e\\u0441\\u0442\\u0438\\u0442\\u0443\\u0442\\u043a\\u0438\\u00bb\",\n          \"\\u041c\\u0443\\u0436\\u0447\\u0438\\u043d\\u0435 \\u0441\\u043b\\u0435\\u0434\\u0443\\u0435\\u0442 \\u043e\\u0441\\u0442\\u0435\\u0440\\u0435\\u0433\\u0430\\u0442\\u044c\\u0441\\u044f \\u0436\\u0435\\u043d\\u0449\\u0438\\u043d\\u044b, \\u043a\\u043e\\u0442\\u043e\\u0440\\u0430\\u044f \\u043b\\u044e\\u0431\\u0438\\u0442: \\u0438\\u0431\\u043e \\u0442\\u043e\\u0433\\u0434\\u0430 \\u043e\\u043d\\u0430 \\u0433\\u043e\\u0442\\u043e\\u0432\\u0430 \\u043d\\u0430 \\u043b\\u044e\\u0431\\u0443\\u044e \\u0436\\u0435\\u0440\\u0442\\u0432\\u0443, \\u0438 \\u0432\\u0441\\u0451 \\u043e\\u0441\\u0442\\u0430\\u043b\\u044c\\u043d\\u043e\\u0435 \\u043d\\u0435 \\u0438\\u043c\\u0435\\u0435\\u0442 \\u043d\\u0438\\u043a\\u0430\\u043a\\u043e\\u0439 \\u0446\\u0435\\u043d\\u043d\\u043e\\u0441\\u0442\\u0438 \\u0432 \\u0435\\u0451 \\u0433\\u043b\\u0430\\u0437\\u0430\\u0445.\\n\\n \\u0424\\u0440\\u0438\\u0434\\u0440\\u0438\\u0445 \\u0412\\u0438\\u043b\\u044c\\u0433\\u0435\\u043b\\u044c\\u043c \\u041d\\u0438\\u0446\\u0448\\u0435\",\n          \"\\u041e\\u043d \\u0432\\u0441\\u0435\\u0433\\u0434\\u0430 \\u0433\\u043e\\u0432\\u043e\\u0440\\u0438\\u043b \\u043f\\u0440\\u0430\\u0432\\u0434\\u0443, \\u043f\\u0440\\u043e\\u0441\\u0442\\u043e \\u043f\\u0440\\u0430\\u0432\\u0434\\u0430 \\u0438 \\u0442\\u043e\\u0447\\u043d\\u043e\\u0441\\u0442\\u044c \\u0438\\u043d\\u043e\\u0433\\u0434\\u0430 \\u043d\\u0435 \\u043e\\u0434\\u043d\\u043e \\u0438 \\u0442\\u043e \\u0436\\u0435.\\n\\n \\u0422\\u0435\\u0440\\u0440\\u0438 \\u041f\\u0440\\u0430\\u0442\\u0447\\u0435\\u0442\\u0442 \\u00ab\\u041f\\u0440\\u0430\\u0432\\u0434\\u0430\\u00bb\"\n        ],\n        \"semantic_type\": \"\",\n        \"description\": \"\"\n      }\n    },\n    {\n      \"column\": \"I\",\n      \"properties\": {\n        \"dtype\": \"boolean\",\n        \"num_unique_values\": 2,\n        \"samples\": [\n          false,\n          true\n        ],\n        \"semantic_type\": \"\",\n        \"description\": \"\"\n      }\n    }\n  ]\n}"
            }
          },
          "metadata": {},
          "execution_count": 4
        }
      ],
      "source": [
        "df = pd.read_csv('df_vk_wise.csv')\n",
        "df.head()"
      ]
    },
    {
      "cell_type": "markdown",
      "source": [
        " Гипотеза  $H_0$: $\\mu_1 = \\mu_2$. Уровень значимости $\\alpha = 0.05$."
      ],
      "metadata": {
        "id": "9kdwqGD-tPnv"
      },
      "id": "9kdwqGD-tPnv"
    },
    {
      "cell_type": "markdown",
      "source": [
        "Воспользуемся Z-критерием для разности средних (он асимтотический)."
      ],
      "metadata": {
        "id": "P_oVJ31mZL1w"
      },
      "id": "P_oVJ31mZL1w"
    },
    {
      "cell_type": "code",
      "source": [
        "alpha = 0.05"
      ],
      "metadata": {
        "id": "yoJJJ1hlqNyY"
      },
      "id": "yoJJJ1hlqNyY",
      "execution_count": null,
      "outputs": []
    },
    {
      "cell_type": "code",
      "source": [
        "X1 = df[df['I'] == True]['likes']\n",
        "X2 = df[df['I'] == False]['likes']\n",
        "_, p_value = ztest(X1, X2, value=0)\n",
        "\n",
        "print(f'p_value = {p_value:.5f}')\n",
        "\n",
        "if p_value > alpha:\n",
        "    print(f'Гипотеза H0 не отвергается при уровне значимости {alpha}')\n",
        "else:\n",
        "    print(f'Гипотеза H0 отвергается при уровне значимости {alpha}')"
      ],
      "metadata": {
        "colab": {
          "base_uri": "https://localhost:8080/"
        },
        "id": "TZfYPvk6YQdN",
        "outputId": "931ab1d8-8e3b-4f96-875b-70ac8c839bda"
      },
      "id": "TZfYPvk6YQdN",
      "execution_count": null,
      "outputs": [
        {
          "output_type": "stream",
          "name": "stdout",
          "text": [
            "p_value = 0.00727\n",
            "Гипотеза H0 отвергается при уровне значимости 0.05\n"
          ]
        }
      ]
    },
    {
      "cell_type": "markdown",
      "source": [
        "Сделаем бутстрап: генерируем подвыборки и посчитаем для них средние."
      ],
      "metadata": {
        "id": "3L0KdOYYuS65"
      },
      "id": "3L0KdOYYuS65"
    },
    {
      "cell_type": "code",
      "source": [
        "from scipy.stats import bootstrap\n",
        "n_resamples = 77777\n",
        "\n",
        "X1_boot = bootstrap((X1,), np.mean, n_resamples=n_resamples, random_state=777).bootstrap_distribution\n",
        "X2_boot = bootstrap((X2,), np.mean, n_resamples=n_resamples, random_state=777).bootstrap_distribution"
      ],
      "metadata": {
        "id": "tHWnGKjabtGT"
      },
      "id": "tHWnGKjabtGT",
      "execution_count": null,
      "outputs": []
    },
    {
      "cell_type": "markdown",
      "source": [
        "Построим доверительный интервал Эфрона для разности средних."
      ],
      "metadata": {
        "id": "HDK_SBkawBX0"
      },
      "id": "HDK_SBkawBX0"
    },
    {
      "cell_type": "code",
      "source": [
        "interval = np.quantile(X1_boot - X2_boot, alpha / 2), np.quantile(X1_boot - X2_boot, 1 - alpha / 2)\n",
        "print(f'Разность средних попадает в интервал {interval} с вероятностью 0.95')"
      ],
      "metadata": {
        "colab": {
          "base_uri": "https://localhost:8080/"
        },
        "id": "3Mbh3J6BowrC",
        "outputId": "3f9f259a-2354-46bc-c77c-69f5aaabb45d"
      },
      "id": "3Mbh3J6BowrC",
      "execution_count": null,
      "outputs": [
        {
          "output_type": "stream",
          "name": "stdout",
          "text": [
            "Разность средних попадает в интервал (25.75577668080332, 165.2168686453733) с вероятностью 0.95\n"
          ]
        }
      ]
    },
    {
      "cell_type": "markdown",
      "source": [
        "В полученный доверительный интервал 0 не попал ⇒ на уровне значимости 0.05 гипотеза $H_0$ отвергается."
      ],
      "metadata": {
        "id": "0sWXRtFguNnD"
      },
      "id": "0sWXRtFguNnD"
    },
    {
      "cell_type": "code",
      "source": [
        "plt.hist(X1, density=True, alpha=0.5, label='True')\n",
        "plt.hist(X2, density=True, alpha=0.5, label='False')\n",
        "plt.legend();"
      ],
      "metadata": {
        "colab": {
          "base_uri": "https://localhost:8080/",
          "height": 430
        },
        "id": "kM6QqWYSvbHv",
        "outputId": "fbf9cb95-3d7a-449f-c372-231183f0007c"
      },
      "id": "kM6QqWYSvbHv",
      "execution_count": null,
      "outputs": [
        {
          "output_type": "display_data",
          "data": {
            "text/plain": [
              "<Figure size 640x480 with 1 Axes>"
            ],
            "image/png": "[encoded data removed]"
          },
          "metadata": {}
        }
      ]
    },
    {
      "cell_type": "markdown",
      "source": [
        "Заметим, что у наших распределений тяжелые хвосты. А как мы знаем корректности работы бутстрапу это не добавляет. Таким образом, вероятно, лучше использовать Z-критерий для разности средних."
      ],
      "metadata": {
        "id": "JY5SjdhEyIe9"
      },
      "id": "JY5SjdhEyIe9"
    },
    {
      "cell_type": "markdown",
      "id": "559c1d5e",
      "metadata": {
        "id": "559c1d5e"
      },
      "source": [
        "### Задача 3 [3 балла].\n",
        "Преподаватель по методам анализа данных не по своей воле решил усиленно заняться общей физической подготовкой. Он стал несколько раз в неделю бегать на длинные дистанции, чтобы тренировать выносливость, а для тренировки на силу - ходить на турник целый год каждый день. Ниже указаны данные по количеству выполненных подтягиваний.\n",
        "\n",
        "Постройте доверительный интервал для медианы числа подтягиваний.\n",
        "\n",
        "В занятиях по физической подготовке крайне важна регулярность. Не халтурить на упражнениях надо бы не \"в среднем\", а вообще, хотя бы 9 раз из 10. Постройте доверительный интервал для квантили соответствующего уровня.\n"
      ]
    },
    {
      "cell_type": "code",
      "execution_count": null,
      "id": "a93b156f",
      "metadata": {
        "id": "a93b156f"
      },
      "outputs": [],
      "source": [
        "x = np.array([26,  8, 11,  7, 25,  7, 26,  0,  3,  6,  3,  3, 23,  6,  5, 25,  5,\n",
        "        7,  1,  4, 23, 25, 24, 25, 26,  5, 21,  3, 20, 28, 20, 26,  3,  1,\n",
        "       23, 15, 23, 29, 24, 28, 27, 14, 26, 30, 23, 25, 22,  1, 20, 29,  1,\n",
        "        3,  5, 20, 20, 11,  4,  3, 19,  0, 27,  0, 26, 22, 25, 21, 25, 18,\n",
        "       25, 10, 27, 14,  0, 20,  4,  7, 18, 22, 26, 28, 19,  2, 17, 20,  0,\n",
        "       29, 24, 25, 23,  9, 20, 22, 12,  2, 24, 24, 29,  3, 15, 23, 26,  1,\n",
        "       23, 29, 18, 24,  1,  1, 23,  9, 22, 21,  3,  0, 25,  1, 22,  9, 26,\n",
        "        2, 11, 28,  2, 18, 26, 26,  1, 21, 15, 26,  5,  0, 25,  5,  5, 25,\n",
        "       24,  2,  6, 26, 11, 25,  7,  8, 26, 11, 30,  6, 21,  5, 27, 29,  5,\n",
        "       24, 24,  3, 14, 24, 26, 24, 25,  3,  7,  1,  8, 27,  2, 21, 21,  4,\n",
        "       23,  2, 25, 11, 23, 28,  6,  8,  9, 21, 23, 26, 25, 22, 24, 24, 23,\n",
        "       29, 23,  5, 10,  8,  3, 30,  0, 21,  2,  6,  8, 10, 14, 12, 27, 14,\n",
        "       16,  3, 11, 26, 10, 13,  1, 27,  0, 19, 19, 20,  2, 23, 10, 21, 25,\n",
        "       26,  8,  4,  2, 14,  4, 22, 23, 22,  7, 12, 26, 25, 14, 26, 22, 25,\n",
        "       18, 12, 20, 22,  0,  2, 26, 22,  7, 21,  3, 28, 27,  2,  8,  3, 26,\n",
        "        9, 27, 14, 16, 28, 23, 30,  7, 26, 18, 24,  3, 22, 21,  3, 13, 21,\n",
        "       27,  9,  2, 20,  6,  6, 13, 17,  3,  8, 25, 12, 27,  8, 25, 21,  1,\n",
        "       24, 24, 25,  2, 22, 27, 15, 24, 14,  2, 27, 17,  0, 23, 23, 24,  4,\n",
        "        5,  6,  2,  3, 10, 24, 24,  8, 11, 20,  5, 28,  9, 17,  0, 23, 24,\n",
        "       30,  5, 21, 23, 19, 25,  6,  0, 23, 21, 25, 28, 25, 22, 15, 27, 23,\n",
        "       25, 10,  9,  5, 22, 19, 24, 21, 19,  5,  3, 11,  0,  5, 23, 23, 22,\n",
        "       24, 16, 22, 20, 23, 26, 26,  1])\n"
      ]
    },
    {
      "cell_type": "code",
      "source": [
        "n = x.shape[0]\n",
        "alpha = 0.05"
      ],
      "metadata": {
        "id": "H_COrdD066Nb"
      },
      "id": "H_COrdD066Nb",
      "execution_count": null,
      "outputs": []
    },
    {
      "cell_type": "code",
      "source": [
        "from scipy import stats\n",
        "quant = scipy.stats.norm.ppf(1 - alpha)"
      ],
      "metadata": {
        "id": "J0JEs4su4kD_"
      },
      "id": "J0JEs4su4kD_",
      "execution_count": null,
      "outputs": []
    },
    {
      "cell_type": "markdown",
      "source": [
        "Читал про расчет доверительного интервала для медианы [отсюда](https://cyberleninka.ru/article/n/intervalnaya-otsenka-mediany-i-ee-avtomatizatsiya)."
      ],
      "metadata": {
        "id": "N2uGttDt8oTo"
      },
      "id": "N2uGttDt8oTo"
    },
    {
      "cell_type": "code",
      "execution_count": null,
      "id": "9c9bf723",
      "metadata": {
        "id": "9c9bf723",
        "colab": {
          "base_uri": "https://localhost:8080/"
        },
        "outputId": "100164c7-ad1d-451c-eb7e-f7fdf764e159"
      },
      "outputs": [
        {
          "output_type": "stream",
          "name": "stdout",
          "text": [
            "Медиана попадает в интервал (17, 21) с вероятностью 0.95\n"
          ]
        }
      ],
      "source": [
        "x_sorted = np.sort(x)\n",
        "index_left = int(n / 2 - quant * np.sqrt(n) / 2) - 1 # В конце вычитаем 1, т.к. у нас нумерация с 0\n",
        "index_right = int(1 + n / 2 + quant * np.sqrt(n) / 2) - 1\n",
        "interval = x_sorted[index_left], x_sorted[index_right]\n",
        "\n",
        "print(f'Медиана попадает в интервал {interval} с вероятностью 0.95')"
      ]
    },
    {
      "cell_type": "markdown",
      "source": [
        "$\\alpha$-квантиль - точка $x_\\alpha$ такая, что: $P(X \\le x_\\alpha) \\ge \\alpha$ ⇔ $P(X \\ge x_\\alpha) \\ge \\ 1 - \\alpha$. Т.е. если мы хотим, чтобы количество подтягиваний было не меньше, чем искомый квантиль с вероятностью 0.9, то нам надо найти 0.1-квантиль."
      ],
      "metadata": {
        "id": "ZRLl01HRRyza"
      },
      "id": "ZRLl01HRRyza"
    },
    {
      "cell_type": "code",
      "source": [
        "res = stats.mstats.mquantiles_cimj(x, prob=0.1, alpha=alpha)\n",
        "print(f'0.1-квантиль попадает в интервал {round(res[0][0], 2), round(res[1][0], 2)} с вероятностью 0.95')"
      ],
      "metadata": {
        "colab": {
          "base_uri": "https://localhost:8080/"
        },
        "id": "1EJS0V7k8xxe",
        "outputId": "22543655-cb2e-4431-eba2-403cdc75922d"
      },
      "id": "1EJS0V7k8xxe",
      "execution_count": null,
      "outputs": [
        {
          "output_type": "stream",
          "name": "stdout",
          "text": [
            "0.1-квантиль попадает в интервал (1.22, 2.78) с вероятностью 0.95\n"
          ]
        }
      ]
    },
    {
      "cell_type": "markdown",
      "id": "8aed39e7",
      "metadata": {
        "id": "8aed39e7"
      },
      "source": [
        "### Задача 3.1 [1 балл].\n",
        "\n",
        "Топ-3 ваших любимых фильмов (не сериалов). Про каждый кратко напишите чем он вам запал в душу."
      ]
    },
    {
      "cell_type": "markdown",
      "source": [
        "\n",
        "\n",
        "1.   Вася не в себе ⟶ изначально меня привлекло название, а в итоге фильм понравился своей ироничностью и перевоспитанием главного героя.\n",
        "2.   Холоп ⟶ просто весело, ненапряжно, прекрасный способ скоротать время и поулыбаться.\n",
        "3.  Балканский рубеж ⟶ это прям наверное самый интересный из тех, что помню. Идеально иллюстрирует военные действия в Югославии и ту обстановку.\n"
      ],
      "metadata": {
        "id": "A30ejgCfA_I5"
      },
      "id": "A30ejgCfA_I5"
    },
    {
      "cell_type": "markdown",
      "id": "e2cda330",
      "metadata": {
        "id": "e2cda330"
      },
      "source": [
        "### Задача 4 [4 балла].\n",
        "Приглашенный на Петербургский международный экономический форум Германом Грефом индийский мистик Садхгуру подарил Грефу древнюю шестигранную кость для принятия решений в сложных макроэкономических ситуациях. Служба безопасности Сбербанка (группа СКБ211 на семинаре 13.04.2024) провела серию из 50 испытаний и составила таблицу:\n",
        "| Грань | 1 | 2 | 3 | 4 | 5 | 6 |\n",
        "| --- | --- | --- | --- | --- | --- | --- |\n",
        "| Число выпадений | 8 | 6 | 9 | 4 | 11 | 12 |\n",
        "\n",
        "С помощью G-теста на уровне значимости 5% проверьте гипотезу о том, что\n",
        "все грани равновероятны."
      ]
    },
    {
      "cell_type": "code",
      "execution_count": null,
      "id": "026279a4",
      "metadata": {
        "id": "026279a4",
        "colab": {
          "base_uri": "https://localhost:8080/"
        },
        "outputId": "ec649046-d66c-41ba-9acb-f6b290603207"
      },
      "outputs": [
        {
          "output_type": "stream",
          "name": "stdout",
          "text": [
            "p_value = 0.328\n",
            "Гипотеза H0 не отвергается при уровне значимости 0.05\n"
          ]
        }
      ],
      "source": [
        "from scipy.stats import power_divergence\n",
        "\n",
        "alpha = 0.05\n",
        "\n",
        "_, p_value = power_divergence(f_obs=[8, 6, 9, 4, 11, 12],\n",
        "                 f_exp=[50 / 6] * 6,\n",
        "                 lambda_='log-likelihood')\n",
        "\n",
        "print(f'p_value = {p_value:.3f}')\n",
        "\n",
        "if p_value > alpha:\n",
        "    print(f'Гипотеза H0 не отвергается при уровне значимости {alpha}')\n",
        "else:\n",
        "    print(f'Гипотеза H0 отвергается при уровне значимости {alpha}')"
      ]
    },
    {
      "cell_type": "markdown",
      "id": "f20f553a",
      "metadata": {
        "id": "f20f553a"
      },
      "source": [
        "### Задача 5 [3 балла].\n",
        "Сеть кинотеатров \"Таро фильм\" решила провести исследование в одном из своих заведений. В будний день сотрудники собрали данные о 600 совершеннолетних посетителях, для каждого человека известен жанр фильма, на который посетитель взял билет, а также покупал ли он пиво для приятного просмотра.\n",
        "| Жанр фильма | Пиво закуплено | Без пива |\n",
        "| --- | --- | --- |\n",
        "| Экшн | 50 | 75 |\n",
        "| Комедия | 125 | 175 |\n",
        "| Семья | 90 | 30 |\n",
        "| Ужасы | 45 | 10 |\n",
        "\n",
        "С помощью критерия независимости хи-квадрат оцените взаимосвязь между жанром картины и тем покупают ли к просмотру ленты из данного жанра посетители пиво."
      ]
    },
    {
      "cell_type": "code",
      "execution_count": null,
      "id": "50b97cde",
      "metadata": {
        "id": "50b97cde"
      },
      "outputs": [],
      "source": [
        "_, p_value = power_divergence(f_obs=[8, 6, 9, 4, 11, 12],\n",
        "                 f_exp=[50 / 6] * 6,\n",
        "                 lambda_='pearson')"
      ]
    },
    {
      "cell_type": "code",
      "source": [
        "from scipy.stats import chi2_contingency\n",
        "\n",
        "table = np.array([[50, 75], [125, 175], [90, 30], [45, 10]])\n",
        "res = chi2_contingency(table)\n",
        "print(f'Гипотеза H0 отвергается при любом уровне значимости alpha >= p_value = {res.pvalue:.17f}')"
      ],
      "metadata": {
        "colab": {
          "base_uri": "https://localhost:8080/"
        },
        "id": "_BmjoO8DeD8K",
        "outputId": "d2c38e26-f416-46c0-f6eb-c4b9331211b1"
      },
      "id": "_BmjoO8DeD8K",
      "execution_count": null,
      "outputs": [
        {
          "output_type": "stream",
          "name": "stdout",
          "text": [
            "Гипотеза H0 отвергается при любом уровне значимости alpha >= p_value = 0.00000000000004987\n"
          ]
        }
      ]
    },
    {
      "cell_type": "markdown",
      "id": "292e8054",
      "metadata": {
        "id": "292e8054"
      },
      "source": [
        "### Задача 6 [3 балла].\n",
        "\n",
        "Студент Александр Т. утверждает, что ходит в кино в два раза чаще, чем на занятия по методам анализа данных, на занятия по методам анализа данных в два раза чаще, чем в спортзал. За последние полгода он 10 раз был в спортзале, 1 раз — на занятиях по методам анализа данных и 39 раз в кино. При помощи G-теста на уровне значимости 0.05 проверьте, правдоподобно ли утверждение Александра.\n"
      ]
    },
    {
      "cell_type": "markdown",
      "source": [
        "Пусть спортзал = x $\\Rightarrow$ МАД = 2х $\\Rightarrow$ кино = 4x $\\Rightarrow$ x + 2x + 4x = 10 + 1 + 39"
      ],
      "metadata": {
        "id": "-hsI60tMjCkN"
      },
      "id": "-hsI60tMjCkN"
    },
    {
      "cell_type": "code",
      "source": [
        "x = 50 / 7"
      ],
      "metadata": {
        "id": "0YdPihGCjWLI"
      },
      "id": "0YdPihGCjWLI",
      "execution_count": null,
      "outputs": []
    },
    {
      "cell_type": "code",
      "execution_count": null,
      "id": "1668d949",
      "metadata": {
        "id": "1668d949",
        "colab": {
          "base_uri": "https://localhost:8080/"
        },
        "outputId": "b7c827c2-4546-4956-8be5-2239e89a4cba"
      },
      "outputs": [
        {
          "output_type": "stream",
          "name": "stdout",
          "text": [
            "p_value = 0.00000265\n",
            "Гипотеза H0 отвергается при уровне значимости 0.05\n"
          ]
        }
      ],
      "source": [
        "alpha = 0.05\n",
        "\n",
        "_, p_value = power_divergence(f_obs=[10, 1, 39],\n",
        "                 f_exp=[x, 2 * x, 4 * x],\n",
        "                 lambda_='log-likelihood')\n",
        "\n",
        "print(f'p_value = {p_value:.8f}')\n",
        "\n",
        "if p_value > alpha:\n",
        "    print(f'Гипотеза H0 не отвергается при уровне значимости {alpha}')\n",
        "else:\n",
        "    print(f'Гипотеза H0 отвергается при уровне значимости {alpha}')"
      ]
    },
    {
      "cell_type": "markdown",
      "id": "285e656c",
      "metadata": {
        "id": "285e656c"
      },
      "source": [
        "### Задача 6.1 [1 балл].\n",
        "\n",
        "Напишите самый годный лично для вас лайфхак, можно и не один.\n",
        "\n"
      ]
    },
    {
      "cell_type": "markdown",
      "source": [
        "Чтобы быстро очистить яйца от скорлупы, надо поместить их перед чисткой в холодную воду."
      ],
      "metadata": {
        "id": "SX3RvdFfj6Mq"
      },
      "id": "SX3RvdFfj6Mq"
    }
  ],
  "metadata": {
    "kernelspec": {
      "display_name": "Python 3 (ipykernel)",
      "language": "python",
      "name": "python3"
    },
    "language_info": {
      "codemirror_mode": {
        "name": "ipython",
        "version": 3
      },
      "file_extension": ".py",
      "mimetype": "text/x-python",
      "name": "python",
      "nbconvert_exporter": "python",
      "pygments_lexer": "ipython3",
      "version": "3.11.9"
    },
    "colab": {
      "provenance": []
    }
  },
  "nbformat": 4,
  "nbformat_minor": 5
}