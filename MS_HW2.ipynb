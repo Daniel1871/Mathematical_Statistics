{
  "nbformat": 4,
  "nbformat_minor": 0,
  "metadata": {
    "colab": {
      "provenance": []
    },
    "kernelspec": {
      "name": "python3",
      "display_name": "Python 3"
    },
    "language_info": {
      "name": "python"
    }
  },
  "cells": [
    {
      "cell_type": "code",
      "source": [
        "import numpy as np\n",
        "import matplotlib.pyplot as plt"
      ],
      "metadata": {
        "id": "492suLVp5tPd"
      },
      "execution_count": 23,
      "outputs": []
    },
    {
      "cell_type": "code",
      "source": [
        "[[i for i in range(5)] for j in range(3)]"
      ],
      "metadata": {
        "id": "Tat7W-YMAuxu",
        "outputId": "1883bd7a-9e0f-467b-92b8-40e88437dc7a",
        "colab": {
          "base_uri": "https://localhost:8080/"
        }
      },
      "execution_count": 24,
      "outputs": [
        {
          "output_type": "execute_result",
          "data": {
            "text/plain": [
              "[[0, 1, 2, 3, 4], [0, 1, 2, 3, 4], [0, 1, 2, 3, 4]]"
            ]
          },
          "metadata": {},
          "execution_count": 24
        }
      ]
    },
    {
      "cell_type": "code",
      "source": [
        "sizes = {5, 10, 100, 200, 400, 600, 800, 1000}\n",
        "dfs_t = [[np.random.triangular(0, 0.6, 1, n) for i in range(5)] for n in sizes]\n",
        "dfs_l = [[np.random.default_rng().logseries(1/13, n) for i in range(5)] for n in sizes]"
      ],
      "metadata": {
        "id": "LRoUi15d6CkL"
      },
      "execution_count": 25,
      "outputs": []
    },
    {
      "cell_type": "code",
      "source": [
        "np.random.triangular(0, 0.6, 1, 10)"
      ],
      "metadata": {
        "id": "0_cgcy1qBiCU",
        "outputId": "ca879374-9823-4a56-b268-1aaab0d538a4",
        "colab": {
          "base_uri": "https://localhost:8080/"
        }
      },
      "execution_count": 26,
      "outputs": [
        {
          "output_type": "execute_result",
          "data": {
            "text/plain": [
              "array([0.8180982 , 0.47342342, 0.68417746, 0.52962568, 0.80862734,\n",
              "       0.35875452, 0.64939827, 0.26600771, 0.67194266, 0.47910524])"
            ]
          },
          "metadata": {},
          "execution_count": 26
        }
      ]
    },
    {
      "cell_type": "code",
      "source": [
        "np.random.default_rng().logseries(1/13, 100)"
      ],
      "metadata": {
        "id": "SCJ_weVZBiLC",
        "outputId": "3bd2d98d-d2dd-44f2-f0b3-2b4e3c6a222c",
        "colab": {
          "base_uri": "https://localhost:8080/"
        }
      },
      "execution_count": 27,
      "outputs": [
        {
          "output_type": "execute_result",
          "data": {
            "text/plain": [
              "array([1, 1, 1, 1, 1, 1, 1, 2, 1, 1, 1, 1, 1, 1, 1, 2, 2, 1, 1, 1, 1, 1,\n",
              "       1, 1, 1, 1, 1, 1, 1, 1, 1, 1, 1, 1, 1, 1, 1, 1, 1, 1, 1, 1, 1, 1,\n",
              "       1, 1, 1, 1, 1, 1, 1, 1, 1, 1, 1, 1, 2, 1, 1, 1, 1, 1, 1, 1, 1, 1,\n",
              "       1, 1, 1, 1, 1, 1, 2, 1, 1, 1, 1, 1, 1, 1, 1, 1, 1, 1, 1, 1, 1, 1,\n",
              "       1, 1, 1, 1, 1, 1, 1, 1, 1, 1, 1, 2])"
            ]
          },
          "metadata": {},
          "execution_count": 27
        }
      ]
    },
    {
      "cell_type": "code",
      "source": [],
      "metadata": {
        "id": "Cw5JpAAJBqa2"
      },
      "execution_count": null,
      "outputs": []
    }
  ]
}