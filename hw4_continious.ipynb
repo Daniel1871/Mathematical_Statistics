{
  "nbformat": 4,
  "nbformat_minor": 0,
  "metadata": {
    "colab": {
      "provenance": []
    },
    "kernelspec": {
      "name": "python3",
      "display_name": "Python 3"
    },
    "language_info": {
      "name": "python"
    }
  },
  "cells": [
    {
      "cell_type": "code",
      "execution_count": 1,
      "metadata": {
        "id": "Z4IPBkFEZJPR"
      },
      "outputs": [],
      "source": [
        "import numpy as np\n",
        "import matplotlib.pyplot as plt\n",
        "import pandas as pd\n",
        "from math import sqrt\n",
        "from collections import Counter\n",
        "from scipy.stats import chi2"
      ]
    },
    {
      "cell_type": "code",
      "source": [
        "sizes = [5, 10, 100, 200, 400, 600, 800, 1000]"
      ],
      "metadata": {
        "id": "CGmlF-siflsy"
      },
      "execution_count": 2,
      "outputs": []
    },
    {
      "cell_type": "markdown",
      "source": [
        "## Генерация выборок выбранных случайных величин"
      ],
      "metadata": {
        "id": "hgtglzk8aT9i"
      }
    },
    {
      "cell_type": "code",
      "source": [
        "t = 0.6"
      ],
      "metadata": {
        "id": "FQb-SxqMe3Y-"
      },
      "execution_count": 3,
      "outputs": []
    },
    {
      "cell_type": "code",
      "source": [
        "def density(x):\n",
        "  if 0 <= x <= t:\n",
        "    return (2 * x) / t\n",
        "  elif t < x <= 1:\n",
        "    return (2 * (1 - x)) / (1 - t)\n",
        "  else:\n",
        "    return 0"
      ],
      "metadata": {
        "id": "ZglMCetkaNDM"
      },
      "execution_count": 4,
      "outputs": []
    },
    {
      "cell_type": "code",
      "source": [
        "def con_dist_model(u):\n",
        "  if 0 <= u <= t:\n",
        "    return np.sqrt(t * u)\n",
        "  else:\n",
        "    return 1 - np.sqrt((1 - t) * (1 - u))"
      ],
      "metadata": {
        "id": "Jx5U2Xajcocy"
      },
      "execution_count": 5,
      "outputs": []
    },
    {
      "cell_type": "code",
      "source": [
        "df_con = dict() # словарь, где ключ - объем выборки, значение - 5 выборок с треугольным распределением\n",
        "for n in sizes:\n",
        "  np.random.seed(99)\n",
        "  df_uni = np.random.uniform(size=(5, n))# 5 выборок размера n\n",
        "  df_con[n] = [[con_dist_model(u) for u in df_uni[i]] for i in range(5)]"
      ],
      "metadata": {
        "id": "ZQ4ax0f6fK-u"
      },
      "execution_count": 6,
      "outputs": []
    },
    {
      "cell_type": "code",
      "source": [
        "def emp(df: list, x_lst: list): # Э.ф.р.\n",
        "  return [np.sum(np.array(df) <= x) / len(df) for x in x_lst]"
      ],
      "metadata": {
        "id": "AqE_uH7jh_zV"
      },
      "execution_count": 7,
      "outputs": []
    },
    {
      "cell_type": "code",
      "source": [
        "def density(x, t):\n",
        "  if 0 <= x <= t:\n",
        "    return (2 * x) / t\n",
        "  elif t < x <= 1:\n",
        "    return (2 * (1 - x)) / (1 - t)\n",
        "  else:\n",
        "    return 0"
      ],
      "metadata": {
        "id": "lwOvgOSnPFKL"
      },
      "execution_count": 8,
      "outputs": []
    },
    {
      "cell_type": "code",
      "source": [
        "def L(df, n, t):\n",
        "    result = 1\n",
        "    for i in range(n):\n",
        "      result *= density(df[i], t)\n",
        "    return result"
      ],
      "metadata": {
        "id": "9du_C6q4OPdO"
      },
      "execution_count": 9,
      "outputs": []
    },
    {
      "cell_type": "markdown",
      "source": [
        "# ДЗ 4"
      ],
      "metadata": {
        "id": "XCOgY8i65_jU"
      }
    },
    {
      "cell_type": "markdown",
      "source": [
        "## Проверка гипотезы о виде распределения"
      ],
      "metadata": {
        "id": "-b3beHYgn0Su"
      }
    },
    {
      "cell_type": "markdown",
      "source": [
        "### Критерий согласия Колмогорова"
      ],
      "metadata": {
        "id": "DxifQAcZHWhx"
      }
    },
    {
      "cell_type": "code",
      "source": [
        "def tdf(x_lst):\n",
        "  res = []\n",
        "  for x in x_lst:\n",
        "    if x < 0:\n",
        "      res.append(0)\n",
        "    elif 0 <= x <= t:\n",
        "      res.append(x**2 / t)\n",
        "    elif t < x <= 1:\n",
        "      res.append(1 - ((1-x)**2)/(1-t))\n",
        "    else:\n",
        "      res.append(1)\n",
        "  return res"
      ],
      "metadata": {
        "id": "RJTODOFRViNi"
      },
      "execution_count": 10,
      "outputs": []
    },
    {
      "cell_type": "code",
      "source": [
        "coefs = [(0.01, 1.62762), (0.05, 1.3581), (0.1, 1.22385)]\n",
        "for n in sizes:\n",
        "    for i in range(5):\n",
        "        res = []\n",
        "        for alpha, lamb in coefs:\n",
        "            var_series = np.array(sorted(df_con[n][i]))\n",
        "            Dn_plus = np.max(np.abs(np.arange(1, n + 1) / n - tdf(var_series)))\n",
        "            Dn_minus = np.max(np.abs(tdf(var_series) - np.arange(n) / n))\n",
        "            Dn = max(Dn_plus, Dn_minus)\n",
        "\n",
        "            if n <= 20:\n",
        "                stat = (6 * n * Dn + 1) / (6 * sqrt(n))\n",
        "            else:\n",
        "                stat = sqrt(n) * Dn\n",
        "\n",
        "            if stat >= lamb:\n",
        "                res.append('$\\\\times$')\n",
        "            else:\n",
        "                res.append('$\\\\checkmark$')\n",
        "        print(f'${n}$ & ${i}$ & {res[0]} & {res[1]} & {res[2]} \\\\\\\\ \\\\hline')"
      ],
      "metadata": {
        "id": "yXfgtua2jHNw",
        "colab": {
          "base_uri": "https://localhost:8080/"
        },
        "outputId": "d63db3bb-df99-4afd-a4a4-f24c4883ec14"
      },
      "execution_count": 11,
      "outputs": [
        {
          "output_type": "stream",
          "name": "stdout",
          "text": [
            "$5$ & $0$ & $\\checkmark$ & $\\checkmark$ & $\\checkmark$ \\\\ \\hline\n",
            "$5$ & $1$ & $\\checkmark$ & $\\checkmark$ & $\\checkmark$ \\\\ \\hline\n",
            "$5$ & $2$ & $\\checkmark$ & $\\checkmark$ & $\\checkmark$ \\\\ \\hline\n",
            "$5$ & $3$ & $\\checkmark$ & $\\checkmark$ & $\\checkmark$ \\\\ \\hline\n",
            "$5$ & $4$ & $\\checkmark$ & $\\checkmark$ & $\\checkmark$ \\\\ \\hline\n",
            "$10$ & $0$ & $\\checkmark$ & $\\checkmark$ & $\\checkmark$ \\\\ \\hline\n",
            "$10$ & $1$ & $\\checkmark$ & $\\checkmark$ & $\\checkmark$ \\\\ \\hline\n",
            "$10$ & $2$ & $\\checkmark$ & $\\checkmark$ & $\\checkmark$ \\\\ \\hline\n",
            "$10$ & $3$ & $\\checkmark$ & $\\checkmark$ & $\\checkmark$ \\\\ \\hline\n",
            "$10$ & $4$ & $\\checkmark$ & $\\checkmark$ & $\\checkmark$ \\\\ \\hline\n",
            "$100$ & $0$ & $\\checkmark$ & $\\checkmark$ & $\\checkmark$ \\\\ \\hline\n",
            "$100$ & $1$ & $\\checkmark$ & $\\checkmark$ & $\\checkmark$ \\\\ \\hline\n",
            "$100$ & $2$ & $\\checkmark$ & $\\checkmark$ & $\\checkmark$ \\\\ \\hline\n",
            "$100$ & $3$ & $\\checkmark$ & $\\checkmark$ & $\\checkmark$ \\\\ \\hline\n",
            "$100$ & $4$ & $\\checkmark$ & $\\checkmark$ & $\\checkmark$ \\\\ \\hline\n",
            "$200$ & $0$ & $\\checkmark$ & $\\checkmark$ & $\\checkmark$ \\\\ \\hline\n",
            "$200$ & $1$ & $\\checkmark$ & $\\checkmark$ & $\\checkmark$ \\\\ \\hline\n",
            "$200$ & $2$ & $\\checkmark$ & $\\checkmark$ & $\\checkmark$ \\\\ \\hline\n",
            "$200$ & $3$ & $\\checkmark$ & $\\checkmark$ & $\\checkmark$ \\\\ \\hline\n",
            "$200$ & $4$ & $\\checkmark$ & $\\checkmark$ & $\\times$ \\\\ \\hline\n",
            "$400$ & $0$ & $\\checkmark$ & $\\checkmark$ & $\\checkmark$ \\\\ \\hline\n",
            "$400$ & $1$ & $\\checkmark$ & $\\checkmark$ & $\\checkmark$ \\\\ \\hline\n",
            "$400$ & $2$ & $\\checkmark$ & $\\checkmark$ & $\\checkmark$ \\\\ \\hline\n",
            "$400$ & $3$ & $\\checkmark$ & $\\checkmark$ & $\\times$ \\\\ \\hline\n",
            "$400$ & $4$ & $\\checkmark$ & $\\checkmark$ & $\\checkmark$ \\\\ \\hline\n",
            "$600$ & $0$ & $\\checkmark$ & $\\checkmark$ & $\\checkmark$ \\\\ \\hline\n",
            "$600$ & $1$ & $\\checkmark$ & $\\checkmark$ & $\\times$ \\\\ \\hline\n",
            "$600$ & $2$ & $\\checkmark$ & $\\checkmark$ & $\\checkmark$ \\\\ \\hline\n",
            "$600$ & $3$ & $\\checkmark$ & $\\checkmark$ & $\\checkmark$ \\\\ \\hline\n",
            "$600$ & $4$ & $\\checkmark$ & $\\checkmark$ & $\\checkmark$ \\\\ \\hline\n",
            "$800$ & $0$ & $\\checkmark$ & $\\checkmark$ & $\\checkmark$ \\\\ \\hline\n",
            "$800$ & $1$ & $\\checkmark$ & $\\times$ & $\\times$ \\\\ \\hline\n",
            "$800$ & $2$ & $\\checkmark$ & $\\checkmark$ & $\\checkmark$ \\\\ \\hline\n",
            "$800$ & $3$ & $\\checkmark$ & $\\checkmark$ & $\\checkmark$ \\\\ \\hline\n",
            "$800$ & $4$ & $\\checkmark$ & $\\checkmark$ & $\\checkmark$ \\\\ \\hline\n",
            "$1000$ & $0$ & $\\checkmark$ & $\\checkmark$ & $\\times$ \\\\ \\hline\n",
            "$1000$ & $1$ & $\\checkmark$ & $\\checkmark$ & $\\checkmark$ \\\\ \\hline\n",
            "$1000$ & $2$ & $\\checkmark$ & $\\checkmark$ & $\\checkmark$ \\\\ \\hline\n",
            "$1000$ & $3$ & $\\checkmark$ & $\\checkmark$ & $\\checkmark$ \\\\ \\hline\n",
            "$1000$ & $4$ & $\\checkmark$ & $\\times$ & $\\times$ \\\\ \\hline\n"
          ]
        }
      ]
    },
    {
      "cell_type": "markdown",
      "source": [
        "### Критерий согласия Колмогорова для сложной гипотезы"
      ],
      "metadata": {
        "id": "Tk7cnOrIHVw7"
      }
    },
    {
      "cell_type": "code",
      "source": [
        "def tdf(x_lst, t):\n",
        "  res = []\n",
        "  for x in x_lst:\n",
        "    if x < 0:\n",
        "      res.append(0)\n",
        "    elif 0 <= x <= t:\n",
        "      res.append(x**2 / t)\n",
        "    elif t < x <= 1:\n",
        "      res.append(1 - ((1-x)**2)/(1-t))\n",
        "    else:\n",
        "      res.append(1)\n",
        "  return res"
      ],
      "metadata": {
        "id": "ay6BO3fnH161"
      },
      "execution_count": 12,
      "outputs": []
    },
    {
      "cell_type": "code",
      "source": [
        "mle_estims = {n:[] for n in sizes}\n",
        "for n in sizes:\n",
        "  for j in range(5):\n",
        "    if n <= 20:\n",
        "        df = np.sort(df_con[n][j])\n",
        "        mask = [(i - 1) / n < df[i - 1] < i / n for i in range(1, n + 1)]\n",
        "        params = df[mask]\n",
        "        Ls = [L(df, n, t) for t in params]\n",
        "    else:\n",
        "        df = np.sort(df_con[n][j][n // 2 :])\n",
        "        mask = [(i - 1) / (n // 2) < df[i - 1] < i / (n // 2) for i in range(1, (n // 2) + 1)]\n",
        "        params = df[mask]\n",
        "        Ls = [L(df, n // 2, t) for t in params]\n",
        "\n",
        "    mle_estim = params[np.argmax(Ls)]\n",
        "    mle_estims[n].append(mle_estim)"
      ],
      "metadata": {
        "id": "S28un2i9S0WI"
      },
      "execution_count": 13,
      "outputs": []
    },
    {
      "cell_type": "code",
      "source": [
        "half_df_con = {n // 2 : [] for n in sizes[2:]}\n",
        "for n in sizes[2:]:\n",
        "    for i in range(5):\n",
        "        half_df_con[n // 2].append(df_con[n][i][: n // 2])\n",
        "\n",
        "half_df_con[5] = df_con[5]\n",
        "half_df_con[10] = df_con[10]"
      ],
      "metadata": {
        "id": "d7BHA7Kuet14"
      },
      "execution_count": 14,
      "outputs": []
    },
    {
      "cell_type": "code",
      "source": [
        "coefs = [(0.01, 1.62762), (0.05, 1.3581), (0.1, 1.22385)]\n",
        "for j in range(len(sizes)):\n",
        "    n = sorted(half_df_con.keys())[j]\n",
        "    for i in range(5):\n",
        "        res = []\n",
        "        for alpha, lamb in coefs:\n",
        "            var_series = np.array(sorted(half_df_con[n][i]))\n",
        "            Dn_plus = np.max(np.abs(np.arange(1, n + 1) / n - tdf(var_series, mle_estims[sizes[j]][i])))\n",
        "            Dn_minus = np.max(np.abs(tdf(var_series, mle_estims[sizes[j]][i]) - np.arange(n) / n))\n",
        "\n",
        "            Dn = max(Dn_plus, Dn_minus)\n",
        "\n",
        "            if n <= 20:\n",
        "                stat = (6 * n * Dn + 1) / (6 * sqrt(n))\n",
        "            else:\n",
        "                stat = sqrt(n) * Dn\n",
        "\n",
        "            if stat >= lamb:\n",
        "                res.append('$\\\\times$')\n",
        "            else:\n",
        "                res.append('$\\\\checkmark$')\n",
        "        print(f'${sizes[j]}$ & ${i}$ & {res[0]} & {res[1]} & {res[2]} \\\\\\\\ \\\\hline')"
      ],
      "metadata": {
        "colab": {
          "base_uri": "https://localhost:8080/"
        },
        "id": "xc21PBpVVG0s",
        "outputId": "a6f57e11-d2c3-4c4e-faaf-7cbf3dac0152"
      },
      "execution_count": 15,
      "outputs": [
        {
          "output_type": "stream",
          "name": "stdout",
          "text": [
            "$5$ & $0$ & $\\checkmark$ & $\\checkmark$ & $\\checkmark$ \\\\ \\hline\n",
            "$5$ & $1$ & $\\checkmark$ & $\\checkmark$ & $\\checkmark$ \\\\ \\hline\n",
            "$5$ & $2$ & $\\checkmark$ & $\\checkmark$ & $\\checkmark$ \\\\ \\hline\n",
            "$5$ & $3$ & $\\checkmark$ & $\\checkmark$ & $\\checkmark$ \\\\ \\hline\n",
            "$5$ & $4$ & $\\checkmark$ & $\\checkmark$ & $\\checkmark$ \\\\ \\hline\n",
            "$10$ & $0$ & $\\checkmark$ & $\\checkmark$ & $\\checkmark$ \\\\ \\hline\n",
            "$10$ & $1$ & $\\checkmark$ & $\\checkmark$ & $\\checkmark$ \\\\ \\hline\n",
            "$10$ & $2$ & $\\checkmark$ & $\\checkmark$ & $\\checkmark$ \\\\ \\hline\n",
            "$10$ & $3$ & $\\checkmark$ & $\\checkmark$ & $\\checkmark$ \\\\ \\hline\n",
            "$10$ & $4$ & $\\checkmark$ & $\\checkmark$ & $\\checkmark$ \\\\ \\hline\n",
            "$100$ & $0$ & $\\checkmark$ & $\\checkmark$ & $\\checkmark$ \\\\ \\hline\n",
            "$100$ & $1$ & $\\checkmark$ & $\\checkmark$ & $\\checkmark$ \\\\ \\hline\n",
            "$100$ & $2$ & $\\checkmark$ & $\\checkmark$ & $\\checkmark$ \\\\ \\hline\n",
            "$100$ & $3$ & $\\checkmark$ & $\\checkmark$ & $\\checkmark$ \\\\ \\hline\n",
            "$100$ & $4$ & $\\checkmark$ & $\\checkmark$ & $\\checkmark$ \\\\ \\hline\n",
            "$200$ & $0$ & $\\checkmark$ & $\\checkmark$ & $\\checkmark$ \\\\ \\hline\n",
            "$200$ & $1$ & $\\checkmark$ & $\\checkmark$ & $\\checkmark$ \\\\ \\hline\n",
            "$200$ & $2$ & $\\checkmark$ & $\\checkmark$ & $\\times$ \\\\ \\hline\n",
            "$200$ & $3$ & $\\checkmark$ & $\\checkmark$ & $\\checkmark$ \\\\ \\hline\n",
            "$200$ & $4$ & $\\checkmark$ & $\\checkmark$ & $\\checkmark$ \\\\ \\hline\n",
            "$400$ & $0$ & $\\checkmark$ & $\\checkmark$ & $\\checkmark$ \\\\ \\hline\n",
            "$400$ & $1$ & $\\checkmark$ & $\\checkmark$ & $\\checkmark$ \\\\ \\hline\n",
            "$400$ & $2$ & $\\checkmark$ & $\\times$ & $\\times$ \\\\ \\hline\n",
            "$400$ & $3$ & $\\checkmark$ & $\\checkmark$ & $\\checkmark$ \\\\ \\hline\n",
            "$400$ & $4$ & $\\checkmark$ & $\\checkmark$ & $\\checkmark$ \\\\ \\hline\n",
            "$600$ & $0$ & $\\checkmark$ & $\\checkmark$ & $\\checkmark$ \\\\ \\hline\n",
            "$600$ & $1$ & $\\checkmark$ & $\\checkmark$ & $\\checkmark$ \\\\ \\hline\n",
            "$600$ & $2$ & $\\times$ & $\\times$ & $\\times$ \\\\ \\hline\n",
            "$600$ & $3$ & $\\checkmark$ & $\\times$ & $\\times$ \\\\ \\hline\n",
            "$600$ & $4$ & $\\checkmark$ & $\\checkmark$ & $\\checkmark$ \\\\ \\hline\n",
            "$800$ & $0$ & $\\checkmark$ & $\\checkmark$ & $\\checkmark$ \\\\ \\hline\n",
            "$800$ & $1$ & $\\checkmark$ & $\\checkmark$ & $\\checkmark$ \\\\ \\hline\n",
            "$800$ & $2$ & $\\checkmark$ & $\\times$ & $\\times$ \\\\ \\hline\n",
            "$800$ & $3$ & $\\checkmark$ & $\\checkmark$ & $\\checkmark$ \\\\ \\hline\n",
            "$800$ & $4$ & $\\checkmark$ & $\\checkmark$ & $\\checkmark$ \\\\ \\hline\n",
            "$1000$ & $0$ & $\\checkmark$ & $\\checkmark$ & $\\checkmark$ \\\\ \\hline\n",
            "$1000$ & $1$ & $\\times$ & $\\times$ & $\\times$ \\\\ \\hline\n",
            "$1000$ & $2$ & $\\checkmark$ & $\\checkmark$ & $\\checkmark$ \\\\ \\hline\n",
            "$1000$ & $3$ & $\\checkmark$ & $\\checkmark$ & $\\times$ \\\\ \\hline\n",
            "$1000$ & $4$ & $\\checkmark$ & $\\checkmark$ & $\\checkmark$ \\\\ \\hline\n"
          ]
        }
      ]
    },
    {
      "cell_type": "markdown",
      "source": [
        "### Критерий согласия хи-квадрат"
      ],
      "metadata": {
        "id": "ssSyBrKYWbla"
      }
    },
    {
      "cell_type": "code",
      "source": [
        "def quantile(gamma):\n",
        "    if 0 < gamma <= 0.6:\n",
        "        return sqrt(0.6 * gamma)\n",
        "    if 0.6 < gamma < 1:\n",
        "        return 1 - sqrt(0.4 * (1 - gamma))"
      ],
      "metadata": {
        "id": "rVxjVTXiWdvk"
      },
      "execution_count": 16,
      "outputs": []
    },
    {
      "cell_type": "code",
      "source": [
        "alphas = [0.01, 0.05, 0.1]"
      ],
      "metadata": {
        "id": "fyOy48xqqLAb"
      },
      "execution_count": 17,
      "outputs": []
    },
    {
      "cell_type": "code",
      "source": [
        "def pred(N):\n",
        "    borders = [quantile(i / N) for i in range(1, N)]\n",
        "\n",
        "    chi_sq = chi2(df=N-1)\n",
        "    probs = np.array([1 / N] * N)\n",
        "\n",
        "    for alpha in alphas:\n",
        "        print(np.round(chi_sq.ppf(q=1 - alpha), 3))\n",
        "\n",
        "    for n in sizes:\n",
        "        for i in range(5):\n",
        "            res = []\n",
        "            df = np.array(df_con[n][i])\n",
        "            freq_vect = np.array([np.sum(df <= borders[0])] + [sum([borders[i] < elem <= borders[i + 1] for elem in df]) for i in range(N - 2)] + [np.sum(df > borders[-1])])\n",
        "            stat_pirs = np.sum(freq_vect ** 2 / (n * probs)) - n\n",
        "\n",
        "            for alpha in alphas:\n",
        "                if stat_pirs > chi_sq.ppf(q=1 - alpha):\n",
        "                    res.append('$\\\\times$')\n",
        "                else:\n",
        "                    res.append('$\\\\checkmark$')\n",
        "            print(f'${n}$ & ${i}$ & ${np.round(stat_pirs, 3)}$ & {res[0]} & {res[1]} & {res[2]} \\\\\\\\ \\\\hline')"
      ],
      "metadata": {
        "id": "SqKR8x-wflO3"
      },
      "execution_count": 18,
      "outputs": []
    },
    {
      "cell_type": "code",
      "source": [
        "pred(3)"
      ],
      "metadata": {
        "colab": {
          "base_uri": "https://localhost:8080/"
        },
        "id": "V8UxCHL9qYBW",
        "outputId": "0019e0ff-58ac-4bf3-ffc9-1f21f241cee3"
      },
      "execution_count": 19,
      "outputs": [
        {
          "output_type": "stream",
          "name": "stdout",
          "text": [
            "9.21\n",
            "5.991\n",
            "4.605\n",
            "$5$ & $0$ & $1.6$ & $\\checkmark$ & $\\checkmark$ & $\\checkmark$ \\\\ \\hline\n",
            "$5$ & $1$ & $1.6$ & $\\checkmark$ & $\\checkmark$ & $\\checkmark$ \\\\ \\hline\n",
            "$5$ & $2$ & $2.8$ & $\\checkmark$ & $\\checkmark$ & $\\checkmark$ \\\\ \\hline\n",
            "$5$ & $3$ & $0.4$ & $\\checkmark$ & $\\checkmark$ & $\\checkmark$ \\\\ \\hline\n",
            "$5$ & $4$ & $0.4$ & $\\checkmark$ & $\\checkmark$ & $\\checkmark$ \\\\ \\hline\n",
            "$10$ & $0$ & $0.8$ & $\\checkmark$ & $\\checkmark$ & $\\checkmark$ \\\\ \\hline\n",
            "$10$ & $1$ & $2.6$ & $\\checkmark$ & $\\checkmark$ & $\\checkmark$ \\\\ \\hline\n",
            "$10$ & $2$ & $1.4$ & $\\checkmark$ & $\\checkmark$ & $\\checkmark$ \\\\ \\hline\n",
            "$10$ & $3$ & $3.2$ & $\\checkmark$ & $\\checkmark$ & $\\checkmark$ \\\\ \\hline\n",
            "$10$ & $4$ & $0.2$ & $\\checkmark$ & $\\checkmark$ & $\\checkmark$ \\\\ \\hline\n",
            "$100$ & $0$ & $0.56$ & $\\checkmark$ & $\\checkmark$ & $\\checkmark$ \\\\ \\hline\n",
            "$100$ & $1$ & $1.22$ & $\\checkmark$ & $\\checkmark$ & $\\checkmark$ \\\\ \\hline\n",
            "$100$ & $2$ & $1.34$ & $\\checkmark$ & $\\checkmark$ & $\\checkmark$ \\\\ \\hline\n",
            "$100$ & $3$ & $0.14$ & $\\checkmark$ & $\\checkmark$ & $\\checkmark$ \\\\ \\hline\n",
            "$100$ & $4$ & $3.62$ & $\\checkmark$ & $\\checkmark$ & $\\checkmark$ \\\\ \\hline\n",
            "$200$ & $0$ & $1.39$ & $\\checkmark$ & $\\checkmark$ & $\\checkmark$ \\\\ \\hline\n",
            "$200$ & $1$ & $0.37$ & $\\checkmark$ & $\\checkmark$ & $\\checkmark$ \\\\ \\hline\n",
            "$200$ & $2$ & $2.17$ & $\\checkmark$ & $\\checkmark$ & $\\checkmark$ \\\\ \\hline\n",
            "$200$ & $3$ & $2.77$ & $\\checkmark$ & $\\checkmark$ & $\\checkmark$ \\\\ \\hline\n",
            "$200$ & $4$ & $4.12$ & $\\checkmark$ & $\\checkmark$ & $\\checkmark$ \\\\ \\hline\n",
            "$400$ & $0$ & $0.98$ & $\\checkmark$ & $\\checkmark$ & $\\checkmark$ \\\\ \\hline\n",
            "$400$ & $1$ & $3.26$ & $\\checkmark$ & $\\checkmark$ & $\\checkmark$ \\\\ \\hline\n",
            "$400$ & $2$ & $2.405$ & $\\checkmark$ & $\\checkmark$ & $\\checkmark$ \\\\ \\hline\n",
            "$400$ & $3$ & $1.295$ & $\\checkmark$ & $\\checkmark$ & $\\checkmark$ \\\\ \\hline\n",
            "$400$ & $4$ & $6.455$ & $\\checkmark$ & $\\times$ & $\\times$ \\\\ \\hline\n",
            "$600$ & $0$ & $2.59$ & $\\checkmark$ & $\\checkmark$ & $\\checkmark$ \\\\ \\hline\n",
            "$600$ & $1$ & $4.33$ & $\\checkmark$ & $\\checkmark$ & $\\checkmark$ \\\\ \\hline\n",
            "$600$ & $2$ & $0.28$ & $\\checkmark$ & $\\checkmark$ & $\\checkmark$ \\\\ \\hline\n",
            "$600$ & $3$ & $5.67$ & $\\checkmark$ & $\\checkmark$ & $\\times$ \\\\ \\hline\n",
            "$600$ & $4$ & $0.37$ & $\\checkmark$ & $\\checkmark$ & $\\checkmark$ \\\\ \\hline\n",
            "$800$ & $0$ & $3.88$ & $\\checkmark$ & $\\checkmark$ & $\\checkmark$ \\\\ \\hline\n",
            "$800$ & $1$ & $3.423$ & $\\checkmark$ & $\\checkmark$ & $\\checkmark$ \\\\ \\hline\n",
            "$800$ & $2$ & $5.448$ & $\\checkmark$ & $\\checkmark$ & $\\times$ \\\\ \\hline\n",
            "$800$ & $3$ & $0.498$ & $\\checkmark$ & $\\checkmark$ & $\\checkmark$ \\\\ \\hline\n",
            "$800$ & $4$ & $2.92$ & $\\checkmark$ & $\\checkmark$ & $\\checkmark$ \\\\ \\hline\n",
            "$1000$ & $0$ & $6.824$ & $\\checkmark$ & $\\times$ & $\\times$ \\\\ \\hline\n",
            "$1000$ & $1$ & $0.602$ & $\\checkmark$ & $\\checkmark$ & $\\checkmark$ \\\\ \\hline\n",
            "$1000$ & $2$ & $0.854$ & $\\checkmark$ & $\\checkmark$ & $\\checkmark$ \\\\ \\hline\n",
            "$1000$ & $3$ & $1.736$ & $\\checkmark$ & $\\checkmark$ & $\\checkmark$ \\\\ \\hline\n",
            "$1000$ & $4$ & $3.374$ & $\\checkmark$ & $\\checkmark$ & $\\checkmark$ \\\\ \\hline\n"
          ]
        }
      ]
    },
    {
      "cell_type": "code",
      "source": [
        "pred(5)"
      ],
      "metadata": {
        "colab": {
          "base_uri": "https://localhost:8080/"
        },
        "id": "eMoavR_uOY_s",
        "outputId": "1202f57e-8c8f-4d51-b87a-36ee0d8453f2"
      },
      "execution_count": 20,
      "outputs": [
        {
          "output_type": "stream",
          "name": "stdout",
          "text": [
            "13.277\n",
            "9.488\n",
            "7.779\n",
            "$5$ & $0$ & $2.0$ & $\\checkmark$ & $\\checkmark$ & $\\checkmark$ \\\\ \\hline\n",
            "$5$ & $1$ & $2.0$ & $\\checkmark$ & $\\checkmark$ & $\\checkmark$ \\\\ \\hline\n",
            "$5$ & $2$ & $2.0$ & $\\checkmark$ & $\\checkmark$ & $\\checkmark$ \\\\ \\hline\n",
            "$5$ & $3$ & $2.0$ & $\\checkmark$ & $\\checkmark$ & $\\checkmark$ \\\\ \\hline\n",
            "$5$ & $4$ & $4.0$ & $\\checkmark$ & $\\checkmark$ & $\\checkmark$ \\\\ \\hline\n",
            "$10$ & $0$ & $2.0$ & $\\checkmark$ & $\\checkmark$ & $\\checkmark$ \\\\ \\hline\n",
            "$10$ & $1$ & $1.0$ & $\\checkmark$ & $\\checkmark$ & $\\checkmark$ \\\\ \\hline\n",
            "$10$ & $2$ & $1.0$ & $\\checkmark$ & $\\checkmark$ & $\\checkmark$ \\\\ \\hline\n",
            "$10$ & $3$ & $4.0$ & $\\checkmark$ & $\\checkmark$ & $\\checkmark$ \\\\ \\hline\n",
            "$10$ & $4$ & $2.0$ & $\\checkmark$ & $\\checkmark$ & $\\checkmark$ \\\\ \\hline\n",
            "$100$ & $0$ & $1.9$ & $\\checkmark$ & $\\checkmark$ & $\\checkmark$ \\\\ \\hline\n",
            "$100$ & $1$ & $5.5$ & $\\checkmark$ & $\\checkmark$ & $\\checkmark$ \\\\ \\hline\n",
            "$100$ & $2$ & $2.8$ & $\\checkmark$ & $\\checkmark$ & $\\checkmark$ \\\\ \\hline\n",
            "$100$ & $3$ & $1.7$ & $\\checkmark$ & $\\checkmark$ & $\\checkmark$ \\\\ \\hline\n",
            "$100$ & $4$ & $2.2$ & $\\checkmark$ & $\\checkmark$ & $\\checkmark$ \\\\ \\hline\n",
            "$200$ & $0$ & $1.25$ & $\\checkmark$ & $\\checkmark$ & $\\checkmark$ \\\\ \\hline\n",
            "$200$ & $1$ & $1.05$ & $\\checkmark$ & $\\checkmark$ & $\\checkmark$ \\\\ \\hline\n",
            "$200$ & $2$ & $2.65$ & $\\checkmark$ & $\\checkmark$ & $\\checkmark$ \\\\ \\hline\n",
            "$200$ & $3$ & $4.1$ & $\\checkmark$ & $\\checkmark$ & $\\checkmark$ \\\\ \\hline\n",
            "$200$ & $4$ & $5.85$ & $\\checkmark$ & $\\checkmark$ & $\\checkmark$ \\\\ \\hline\n",
            "$400$ & $0$ & $0.8$ & $\\checkmark$ & $\\checkmark$ & $\\checkmark$ \\\\ \\hline\n",
            "$400$ & $1$ & $4.375$ & $\\checkmark$ & $\\checkmark$ & $\\checkmark$ \\\\ \\hline\n",
            "$400$ & $2$ & $3.925$ & $\\checkmark$ & $\\checkmark$ & $\\checkmark$ \\\\ \\hline\n",
            "$400$ & $3$ & $4.425$ & $\\checkmark$ & $\\checkmark$ & $\\checkmark$ \\\\ \\hline\n",
            "$400$ & $4$ & $4.125$ & $\\checkmark$ & $\\checkmark$ & $\\checkmark$ \\\\ \\hline\n",
            "$600$ & $0$ & $1.2$ & $\\checkmark$ & $\\checkmark$ & $\\checkmark$ \\\\ \\hline\n",
            "$600$ & $1$ & $7.433$ & $\\checkmark$ & $\\checkmark$ & $\\checkmark$ \\\\ \\hline\n",
            "$600$ & $2$ & $4.067$ & $\\checkmark$ & $\\checkmark$ & $\\checkmark$ \\\\ \\hline\n",
            "$600$ & $3$ & $3.467$ & $\\checkmark$ & $\\checkmark$ & $\\checkmark$ \\\\ \\hline\n",
            "$600$ & $4$ & $2.317$ & $\\checkmark$ & $\\checkmark$ & $\\checkmark$ \\\\ \\hline\n",
            "$800$ & $0$ & $3.163$ & $\\checkmark$ & $\\checkmark$ & $\\checkmark$ \\\\ \\hline\n",
            "$800$ & $1$ & $3.862$ & $\\checkmark$ & $\\checkmark$ & $\\checkmark$ \\\\ \\hline\n",
            "$800$ & $2$ & $2.888$ & $\\checkmark$ & $\\checkmark$ & $\\checkmark$ \\\\ \\hline\n",
            "$800$ & $3$ & $1.462$ & $\\checkmark$ & $\\checkmark$ & $\\checkmark$ \\\\ \\hline\n",
            "$800$ & $4$ & $6.438$ & $\\checkmark$ & $\\checkmark$ & $\\checkmark$ \\\\ \\hline\n",
            "$1000$ & $0$ & $6.69$ & $\\checkmark$ & $\\checkmark$ & $\\checkmark$ \\\\ \\hline\n",
            "$1000$ & $1$ & $0.88$ & $\\checkmark$ & $\\checkmark$ & $\\checkmark$ \\\\ \\hline\n",
            "$1000$ & $2$ & $2.44$ & $\\checkmark$ & $\\checkmark$ & $\\checkmark$ \\\\ \\hline\n",
            "$1000$ & $3$ & $4.64$ & $\\checkmark$ & $\\checkmark$ & $\\checkmark$ \\\\ \\hline\n",
            "$1000$ & $4$ & $12.13$ & $\\checkmark$ & $\\times$ & $\\times$ \\\\ \\hline\n"
          ]
        }
      ]
    },
    {
      "cell_type": "code",
      "source": [
        "pred(10)"
      ],
      "metadata": {
        "colab": {
          "base_uri": "https://localhost:8080/"
        },
        "id": "5QkL23a_OY1J",
        "outputId": "cac113da-b72f-4e02-80f0-d9e283e96141"
      },
      "execution_count": 21,
      "outputs": [
        {
          "output_type": "stream",
          "name": "stdout",
          "text": [
            "21.666\n",
            "16.919\n",
            "14.684\n",
            "$5$ & $0$ & $9.0$ & $\\checkmark$ & $\\checkmark$ & $\\checkmark$ \\\\ \\hline\n",
            "$5$ & $1$ & $9.0$ & $\\checkmark$ & $\\checkmark$ & $\\checkmark$ \\\\ \\hline\n",
            "$5$ & $2$ & $9.0$ & $\\checkmark$ & $\\checkmark$ & $\\checkmark$ \\\\ \\hline\n",
            "$5$ & $3$ & $5.0$ & $\\checkmark$ & $\\checkmark$ & $\\checkmark$ \\\\ \\hline\n",
            "$5$ & $4$ & $13.0$ & $\\checkmark$ & $\\checkmark$ & $\\checkmark$ \\\\ \\hline\n",
            "$10$ & $0$ & $8.0$ & $\\checkmark$ & $\\checkmark$ & $\\checkmark$ \\\\ \\hline\n",
            "$10$ & $1$ & $6.0$ & $\\checkmark$ & $\\checkmark$ & $\\checkmark$ \\\\ \\hline\n",
            "$10$ & $2$ & $10.0$ & $\\checkmark$ & $\\checkmark$ & $\\checkmark$ \\\\ \\hline\n",
            "$10$ & $3$ & $6.0$ & $\\checkmark$ & $\\checkmark$ & $\\checkmark$ \\\\ \\hline\n",
            "$10$ & $4$ & $6.0$ & $\\checkmark$ & $\\checkmark$ & $\\checkmark$ \\\\ \\hline\n",
            "$100$ & $0$ & $7.4$ & $\\checkmark$ & $\\checkmark$ & $\\checkmark$ \\\\ \\hline\n",
            "$100$ & $1$ & $8.4$ & $\\checkmark$ & $\\checkmark$ & $\\checkmark$ \\\\ \\hline\n",
            "$100$ & $2$ & $5.0$ & $\\checkmark$ & $\\checkmark$ & $\\checkmark$ \\\\ \\hline\n",
            "$100$ & $3$ & $4.2$ & $\\checkmark$ & $\\checkmark$ & $\\checkmark$ \\\\ \\hline\n",
            "$100$ & $4$ & $8.6$ & $\\checkmark$ & $\\checkmark$ & $\\checkmark$ \\\\ \\hline\n",
            "$200$ & $0$ & $6.5$ & $\\checkmark$ & $\\checkmark$ & $\\checkmark$ \\\\ \\hline\n",
            "$200$ & $1$ & $3.5$ & $\\checkmark$ & $\\checkmark$ & $\\checkmark$ \\\\ \\hline\n",
            "$200$ & $2$ & $8.6$ & $\\checkmark$ & $\\checkmark$ & $\\checkmark$ \\\\ \\hline\n",
            "$200$ & $3$ & $10.3$ & $\\checkmark$ & $\\checkmark$ & $\\checkmark$ \\\\ \\hline\n",
            "$200$ & $4$ & $9.5$ & $\\checkmark$ & $\\checkmark$ & $\\checkmark$ \\\\ \\hline\n",
            "$400$ & $0$ & $3.4$ & $\\checkmark$ & $\\checkmark$ & $\\checkmark$ \\\\ \\hline\n",
            "$400$ & $1$ & $12.05$ & $\\checkmark$ & $\\checkmark$ & $\\checkmark$ \\\\ \\hline\n",
            "$400$ & $2$ & $7.6$ & $\\checkmark$ & $\\checkmark$ & $\\checkmark$ \\\\ \\hline\n",
            "$400$ & $3$ & $12.95$ & $\\checkmark$ & $\\checkmark$ & $\\checkmark$ \\\\ \\hline\n",
            "$400$ & $4$ & $16.4$ & $\\checkmark$ & $\\checkmark$ & $\\times$ \\\\ \\hline\n",
            "$600$ & $0$ & $7.3$ & $\\checkmark$ & $\\checkmark$ & $\\checkmark$ \\\\ \\hline\n",
            "$600$ & $1$ & $14.067$ & $\\checkmark$ & $\\checkmark$ & $\\checkmark$ \\\\ \\hline\n",
            "$600$ & $2$ & $17.5$ & $\\checkmark$ & $\\times$ & $\\times$ \\\\ \\hline\n",
            "$600$ & $3$ & $11.1$ & $\\checkmark$ & $\\checkmark$ & $\\checkmark$ \\\\ \\hline\n",
            "$600$ & $4$ & $9.1$ & $\\checkmark$ & $\\checkmark$ & $\\checkmark$ \\\\ \\hline\n",
            "$800$ & $0$ & $10.7$ & $\\checkmark$ & $\\checkmark$ & $\\checkmark$ \\\\ \\hline\n",
            "$800$ & $1$ & $11.025$ & $\\checkmark$ & $\\checkmark$ & $\\checkmark$ \\\\ \\hline\n",
            "$800$ & $2$ & $12.675$ & $\\checkmark$ & $\\checkmark$ & $\\checkmark$ \\\\ \\hline\n",
            "$800$ & $3$ & $4.975$ & $\\checkmark$ & $\\checkmark$ & $\\checkmark$ \\\\ \\hline\n",
            "$800$ & $4$ & $8.025$ & $\\checkmark$ & $\\checkmark$ & $\\checkmark$ \\\\ \\hline\n",
            "$1000$ & $0$ & $14.86$ & $\\checkmark$ & $\\checkmark$ & $\\times$ \\\\ \\hline\n",
            "$1000$ & $1$ & $11.04$ & $\\checkmark$ & $\\checkmark$ & $\\checkmark$ \\\\ \\hline\n",
            "$1000$ & $2$ & $10.24$ & $\\checkmark$ & $\\checkmark$ & $\\checkmark$ \\\\ \\hline\n",
            "$1000$ & $3$ & $5.72$ & $\\checkmark$ & $\\checkmark$ & $\\checkmark$ \\\\ \\hline\n",
            "$1000$ & $4$ & $14.78$ & $\\checkmark$ & $\\checkmark$ & $\\times$ \\\\ \\hline\n"
          ]
        }
      ]
    },
    {
      "cell_type": "markdown",
      "source": [
        "### Критерий согласия хи-квадрат для сложной гипотезы"
      ],
      "metadata": {
        "id": "AG_U75TfWdQ4"
      }
    },
    {
      "cell_type": "code",
      "source": [
        "mle_estims = {n:[] for n in sizes}\n",
        "for n in sizes:\n",
        "  for j in range(5):\n",
        "    df = np.sort(df_con[n][j])\n",
        "    mask = [(i - 1) / n < df[i - 1] < i / n for i in range(1, n + 1)]\n",
        "    params = df[mask]\n",
        "    Ls = [L(df, n, t) for t in params]\n",
        "\n",
        "    mle_estim = params[np.argmax(Ls)]\n",
        "    mle_estims[n].append(mle_estim)"
      ],
      "metadata": {
        "id": "q8fe63JKXi1e"
      },
      "execution_count": 22,
      "outputs": []
    },
    {
      "cell_type": "code",
      "source": [
        "def quantile(gamma, t):\n",
        "    if 0 < gamma <= t:\n",
        "        return sqrt(t * gamma)\n",
        "    if t < gamma < 1:\n",
        "        return 1 - sqrt((1 - t) * (1 - gamma))"
      ],
      "metadata": {
        "id": "uTDW9N5xWgN2"
      },
      "execution_count": 23,
      "outputs": []
    },
    {
      "cell_type": "code",
      "source": [
        "r = 1\n",
        "alphas = [0.01, 0.05, 0.1]"
      ],
      "metadata": {
        "id": "8PB9sQ1EWh3b"
      },
      "execution_count": 24,
      "outputs": []
    },
    {
      "cell_type": "code",
      "source": [
        "def pred(N):\n",
        "    chi_sq = chi2(df=N-1-r)\n",
        "    probs = np.array([1 / N] * N)\n",
        "\n",
        "    for alpha in alphas:\n",
        "        print(np.round(chi_sq.ppf(q=1 - alpha), 3))\n",
        "\n",
        "    for n in sizes:\n",
        "        for i in range(5):\n",
        "            res = []\n",
        "            borders = [quantile(j / N, mle_estims[n][i]) for j in range(1, N)]\n",
        "\n",
        "            df = np.array(df_con[n][i])\n",
        "            freq_vect = np.array([np.sum(df <= borders[0])] + [sum([borders[i] < elem <= borders[i + 1] for elem in df]) for i in range(N - 2)] + [np.sum(df > borders[-1])])\n",
        "            stat_pirs = np.sum(freq_vect ** 2 / (n * probs)) - n\n",
        "\n",
        "            for alpha in alphas:\n",
        "                if stat_pirs > chi_sq.ppf(q=1 - alpha):\n",
        "                    res.append('$\\\\times$')\n",
        "                else:\n",
        "                    res.append('$\\\\checkmark$')\n",
        "            print(f'${n}$ & ${i}$ & ${np.round(stat_pirs, 3)}$ & {res[0]} & {res[1]} & {res[2]} \\\\\\\\ \\\\hline')"
      ],
      "metadata": {
        "id": "6Sgolo9XWjRy"
      },
      "execution_count": 25,
      "outputs": []
    },
    {
      "cell_type": "code",
      "source": [
        "pred(3)"
      ],
      "metadata": {
        "colab": {
          "base_uri": "https://localhost:8080/"
        },
        "id": "d2xnnBgfXIDI",
        "outputId": "6e3f4f15-6f80-421b-a104-03267c271a9e"
      },
      "execution_count": 26,
      "outputs": [
        {
          "output_type": "stream",
          "name": "stdout",
          "text": [
            "6.635\n",
            "3.841\n",
            "2.706\n",
            "$5$ & $0$ & $0.4$ & $\\checkmark$ & $\\checkmark$ & $\\checkmark$ \\\\ \\hline\n",
            "$5$ & $1$ & $0.4$ & $\\checkmark$ & $\\checkmark$ & $\\checkmark$ \\\\ \\hline\n",
            "$5$ & $2$ & $1.6$ & $\\checkmark$ & $\\checkmark$ & $\\checkmark$ \\\\ \\hline\n",
            "$5$ & $3$ & $0.4$ & $\\checkmark$ & $\\checkmark$ & $\\checkmark$ \\\\ \\hline\n",
            "$5$ & $4$ & $0.4$ & $\\checkmark$ & $\\checkmark$ & $\\checkmark$ \\\\ \\hline\n",
            "$10$ & $0$ & $0.2$ & $\\checkmark$ & $\\checkmark$ & $\\checkmark$ \\\\ \\hline\n",
            "$10$ & $1$ & $0.2$ & $\\checkmark$ & $\\checkmark$ & $\\checkmark$ \\\\ \\hline\n",
            "$10$ & $2$ & $0.8$ & $\\checkmark$ & $\\checkmark$ & $\\checkmark$ \\\\ \\hline\n",
            "$10$ & $3$ & $0.8$ & $\\checkmark$ & $\\checkmark$ & $\\checkmark$ \\\\ \\hline\n",
            "$10$ & $4$ & $0.2$ & $\\checkmark$ & $\\checkmark$ & $\\checkmark$ \\\\ \\hline\n",
            "$100$ & $0$ & $0.86$ & $\\checkmark$ & $\\checkmark$ & $\\checkmark$ \\\\ \\hline\n",
            "$100$ & $1$ & $0.14$ & $\\checkmark$ & $\\checkmark$ & $\\checkmark$ \\\\ \\hline\n",
            "$100$ & $2$ & $0.26$ & $\\checkmark$ & $\\checkmark$ & $\\checkmark$ \\\\ \\hline\n",
            "$100$ & $3$ & $0.08$ & $\\checkmark$ & $\\checkmark$ & $\\checkmark$ \\\\ \\hline\n",
            "$100$ & $4$ & $0.26$ & $\\checkmark$ & $\\checkmark$ & $\\checkmark$ \\\\ \\hline\n",
            "$200$ & $0$ & $0.19$ & $\\checkmark$ & $\\checkmark$ & $\\checkmark$ \\\\ \\hline\n",
            "$200$ & $1$ & $0.28$ & $\\checkmark$ & $\\checkmark$ & $\\checkmark$ \\\\ \\hline\n",
            "$200$ & $2$ & $2.47$ & $\\checkmark$ & $\\checkmark$ & $\\checkmark$ \\\\ \\hline\n",
            "$200$ & $3$ & $1.33$ & $\\checkmark$ & $\\checkmark$ & $\\checkmark$ \\\\ \\hline\n",
            "$200$ & $4$ & $1.33$ & $\\checkmark$ & $\\checkmark$ & $\\checkmark$ \\\\ \\hline\n",
            "$400$ & $0$ & $0.02$ & $\\checkmark$ & $\\checkmark$ & $\\checkmark$ \\\\ \\hline\n",
            "$400$ & $1$ & $0.365$ & $\\checkmark$ & $\\checkmark$ & $\\checkmark$ \\\\ \\hline\n",
            "$400$ & $2$ & $0.035$ & $\\checkmark$ & $\\checkmark$ & $\\checkmark$ \\\\ \\hline\n",
            "$400$ & $3$ & $1.355$ & $\\checkmark$ & $\\checkmark$ & $\\checkmark$ \\\\ \\hline\n",
            "$400$ & $4$ & $2.765$ & $\\checkmark$ & $\\checkmark$ & $\\times$ \\\\ \\hline\n",
            "$600$ & $0$ & $0.37$ & $\\checkmark$ & $\\checkmark$ & $\\checkmark$ \\\\ \\hline\n",
            "$600$ & $1$ & $0.61$ & $\\checkmark$ & $\\checkmark$ & $\\checkmark$ \\\\ \\hline\n",
            "$600$ & $2$ & $1.17$ & $\\checkmark$ & $\\checkmark$ & $\\checkmark$ \\\\ \\hline\n",
            "$600$ & $3$ & $6.75$ & $\\times$ & $\\times$ & $\\times$ \\\\ \\hline\n",
            "$600$ & $4$ & $0.16$ & $\\checkmark$ & $\\checkmark$ & $\\checkmark$ \\\\ \\hline\n",
            "$800$ & $0$ & $0.227$ & $\\checkmark$ & $\\checkmark$ & $\\checkmark$ \\\\ \\hline\n",
            "$800$ & $1$ & $0.618$ & $\\checkmark$ & $\\checkmark$ & $\\checkmark$ \\\\ \\hline\n",
            "$800$ & $2$ & $4.27$ & $\\checkmark$ & $\\times$ & $\\times$ \\\\ \\hline\n",
            "$800$ & $3$ & $0.543$ & $\\checkmark$ & $\\checkmark$ & $\\checkmark$ \\\\ \\hline\n",
            "$800$ & $4$ & $3.918$ & $\\checkmark$ & $\\times$ & $\\times$ \\\\ \\hline\n",
            "$1000$ & $0$ & $0.854$ & $\\checkmark$ & $\\checkmark$ & $\\checkmark$ \\\\ \\hline\n",
            "$1000$ & $1$ & $0.026$ & $\\checkmark$ & $\\checkmark$ & $\\checkmark$ \\\\ \\hline\n",
            "$1000$ & $2$ & $1.766$ & $\\checkmark$ & $\\checkmark$ & $\\checkmark$ \\\\ \\hline\n",
            "$1000$ & $3$ & $0.728$ & $\\checkmark$ & $\\checkmark$ & $\\checkmark$ \\\\ \\hline\n",
            "$1000$ & $4$ & $3.338$ & $\\checkmark$ & $\\checkmark$ & $\\times$ \\\\ \\hline\n"
          ]
        }
      ]
    },
    {
      "cell_type": "code",
      "source": [
        "pred(5)"
      ],
      "metadata": {
        "colab": {
          "base_uri": "https://localhost:8080/"
        },
        "id": "9nXMkXcBbQCC",
        "outputId": "20ea14d9-7325-46ab-8449-09483aa3b92f"
      },
      "execution_count": 27,
      "outputs": [
        {
          "output_type": "stream",
          "name": "stdout",
          "text": [
            "11.345\n",
            "7.815\n",
            "6.251\n",
            "$5$ & $0$ & $4.0$ & $\\checkmark$ & $\\checkmark$ & $\\checkmark$ \\\\ \\hline\n",
            "$5$ & $1$ & $2.0$ & $\\checkmark$ & $\\checkmark$ & $\\checkmark$ \\\\ \\hline\n",
            "$5$ & $2$ & $2.0$ & $\\checkmark$ & $\\checkmark$ & $\\checkmark$ \\\\ \\hline\n",
            "$5$ & $3$ & $2.0$ & $\\checkmark$ & $\\checkmark$ & $\\checkmark$ \\\\ \\hline\n",
            "$5$ & $4$ & $2.0$ & $\\checkmark$ & $\\checkmark$ & $\\checkmark$ \\\\ \\hline\n",
            "$10$ & $0$ & $1.0$ & $\\checkmark$ & $\\checkmark$ & $\\checkmark$ \\\\ \\hline\n",
            "$10$ & $1$ & $1.0$ & $\\checkmark$ & $\\checkmark$ & $\\checkmark$ \\\\ \\hline\n",
            "$10$ & $2$ & $1.0$ & $\\checkmark$ & $\\checkmark$ & $\\checkmark$ \\\\ \\hline\n",
            "$10$ & $3$ & $1.0$ & $\\checkmark$ & $\\checkmark$ & $\\checkmark$ \\\\ \\hline\n",
            "$10$ & $4$ & $2.0$ & $\\checkmark$ & $\\checkmark$ & $\\checkmark$ \\\\ \\hline\n",
            "$100$ & $0$ & $1.7$ & $\\checkmark$ & $\\checkmark$ & $\\checkmark$ \\\\ \\hline\n",
            "$100$ & $1$ & $5.5$ & $\\checkmark$ & $\\checkmark$ & $\\checkmark$ \\\\ \\hline\n",
            "$100$ & $2$ & $2.3$ & $\\checkmark$ & $\\checkmark$ & $\\checkmark$ \\\\ \\hline\n",
            "$100$ & $3$ & $1.9$ & $\\checkmark$ & $\\checkmark$ & $\\checkmark$ \\\\ \\hline\n",
            "$100$ & $4$ & $0.5$ & $\\checkmark$ & $\\checkmark$ & $\\checkmark$ \\\\ \\hline\n",
            "$200$ & $0$ & $0.35$ & $\\checkmark$ & $\\checkmark$ & $\\checkmark$ \\\\ \\hline\n",
            "$200$ & $1$ & $0.7$ & $\\checkmark$ & $\\checkmark$ & $\\checkmark$ \\\\ \\hline\n",
            "$200$ & $2$ & $5.4$ & $\\checkmark$ & $\\checkmark$ & $\\checkmark$ \\\\ \\hline\n",
            "$200$ & $3$ & $3.25$ & $\\checkmark$ & $\\checkmark$ & $\\checkmark$ \\\\ \\hline\n",
            "$200$ & $4$ & $1.35$ & $\\checkmark$ & $\\checkmark$ & $\\checkmark$ \\\\ \\hline\n",
            "$400$ & $0$ & $0.375$ & $\\checkmark$ & $\\checkmark$ & $\\checkmark$ \\\\ \\hline\n",
            "$400$ & $1$ & $2.725$ & $\\checkmark$ & $\\checkmark$ & $\\checkmark$ \\\\ \\hline\n",
            "$400$ & $2$ & $0.8$ & $\\checkmark$ & $\\checkmark$ & $\\checkmark$ \\\\ \\hline\n",
            "$400$ & $3$ & $3.875$ & $\\checkmark$ & $\\checkmark$ & $\\checkmark$ \\\\ \\hline\n",
            "$400$ & $4$ & $3.725$ & $\\checkmark$ & $\\checkmark$ & $\\checkmark$ \\\\ \\hline\n",
            "$600$ & $0$ & $0.8$ & $\\checkmark$ & $\\checkmark$ & $\\checkmark$ \\\\ \\hline\n",
            "$600$ & $1$ & $1.117$ & $\\checkmark$ & $\\checkmark$ & $\\checkmark$ \\\\ \\hline\n",
            "$600$ & $2$ & $3.917$ & $\\checkmark$ & $\\checkmark$ & $\\checkmark$ \\\\ \\hline\n",
            "$600$ & $3$ & $3.583$ & $\\checkmark$ & $\\checkmark$ & $\\checkmark$ \\\\ \\hline\n",
            "$600$ & $4$ & $2.317$ & $\\checkmark$ & $\\checkmark$ & $\\checkmark$ \\\\ \\hline\n",
            "$800$ & $0$ & $1.025$ & $\\checkmark$ & $\\checkmark$ & $\\checkmark$ \\\\ \\hline\n",
            "$800$ & $1$ & $0.962$ & $\\checkmark$ & $\\checkmark$ & $\\checkmark$ \\\\ \\hline\n",
            "$800$ & $2$ & $2.962$ & $\\checkmark$ & $\\checkmark$ & $\\checkmark$ \\\\ \\hline\n",
            "$800$ & $3$ & $1.462$ & $\\checkmark$ & $\\checkmark$ & $\\checkmark$ \\\\ \\hline\n",
            "$800$ & $4$ & $6.538$ & $\\checkmark$ & $\\checkmark$ & $\\times$ \\\\ \\hline\n",
            "$1000$ & $0$ & $0.67$ & $\\checkmark$ & $\\checkmark$ & $\\checkmark$ \\\\ \\hline\n",
            "$1000$ & $1$ & $0.97$ & $\\checkmark$ & $\\checkmark$ & $\\checkmark$ \\\\ \\hline\n",
            "$1000$ & $2$ & $2.57$ & $\\checkmark$ & $\\checkmark$ & $\\checkmark$ \\\\ \\hline\n",
            "$1000$ & $3$ & $5.98$ & $\\checkmark$ & $\\checkmark$ & $\\checkmark$ \\\\ \\hline\n",
            "$1000$ & $4$ & $12.42$ & $\\times$ & $\\times$ & $\\times$ \\\\ \\hline\n"
          ]
        }
      ]
    },
    {
      "cell_type": "code",
      "source": [
        "pred(10)"
      ],
      "metadata": {
        "colab": {
          "base_uri": "https://localhost:8080/"
        },
        "id": "ei1ukUoHbTF6",
        "outputId": "fad4716c-eeef-4c05-c30c-a8841b024b68"
      },
      "execution_count": 28,
      "outputs": [
        {
          "output_type": "stream",
          "name": "stdout",
          "text": [
            "20.09\n",
            "15.507\n",
            "13.362\n",
            "$5$ & $0$ & $9.0$ & $\\checkmark$ & $\\checkmark$ & $\\checkmark$ \\\\ \\hline\n",
            "$5$ & $1$ & $5.0$ & $\\checkmark$ & $\\checkmark$ & $\\checkmark$ \\\\ \\hline\n",
            "$5$ & $2$ & $9.0$ & $\\checkmark$ & $\\checkmark$ & $\\checkmark$ \\\\ \\hline\n",
            "$5$ & $3$ & $5.0$ & $\\checkmark$ & $\\checkmark$ & $\\checkmark$ \\\\ \\hline\n",
            "$5$ & $4$ & $9.0$ & $\\checkmark$ & $\\checkmark$ & $\\checkmark$ \\\\ \\hline\n",
            "$10$ & $0$ & $6.0$ & $\\checkmark$ & $\\checkmark$ & $\\checkmark$ \\\\ \\hline\n",
            "$10$ & $1$ & $6.0$ & $\\checkmark$ & $\\checkmark$ & $\\checkmark$ \\\\ \\hline\n",
            "$10$ & $2$ & $8.0$ & $\\checkmark$ & $\\checkmark$ & $\\checkmark$ \\\\ \\hline\n",
            "$10$ & $3$ & $4.0$ & $\\checkmark$ & $\\checkmark$ & $\\checkmark$ \\\\ \\hline\n",
            "$10$ & $4$ & $6.0$ & $\\checkmark$ & $\\checkmark$ & $\\checkmark$ \\\\ \\hline\n",
            "$100$ & $0$ & $3.4$ & $\\checkmark$ & $\\checkmark$ & $\\checkmark$ \\\\ \\hline\n",
            "$100$ & $1$ & $7.8$ & $\\checkmark$ & $\\checkmark$ & $\\checkmark$ \\\\ \\hline\n",
            "$100$ & $2$ & $5.8$ & $\\checkmark$ & $\\checkmark$ & $\\checkmark$ \\\\ \\hline\n",
            "$100$ & $3$ & $5.0$ & $\\checkmark$ & $\\checkmark$ & $\\checkmark$ \\\\ \\hline\n",
            "$100$ & $4$ & $6.0$ & $\\checkmark$ & $\\checkmark$ & $\\checkmark$ \\\\ \\hline\n",
            "$200$ & $0$ & $4.2$ & $\\checkmark$ & $\\checkmark$ & $\\checkmark$ \\\\ \\hline\n",
            "$200$ & $1$ & $2.2$ & $\\checkmark$ & $\\checkmark$ & $\\checkmark$ \\\\ \\hline\n",
            "$200$ & $2$ & $11.0$ & $\\checkmark$ & $\\checkmark$ & $\\checkmark$ \\\\ \\hline\n",
            "$200$ & $3$ & $5.6$ & $\\checkmark$ & $\\checkmark$ & $\\checkmark$ \\\\ \\hline\n",
            "$200$ & $4$ & $3.0$ & $\\checkmark$ & $\\checkmark$ & $\\checkmark$ \\\\ \\hline\n",
            "$400$ & $0$ & $2.1$ & $\\checkmark$ & $\\checkmark$ & $\\checkmark$ \\\\ \\hline\n",
            "$400$ & $1$ & $7.75$ & $\\checkmark$ & $\\checkmark$ & $\\checkmark$ \\\\ \\hline\n",
            "$400$ & $2$ & $3.9$ & $\\checkmark$ & $\\checkmark$ & $\\checkmark$ \\\\ \\hline\n",
            "$400$ & $3$ & $10.8$ & $\\checkmark$ & $\\checkmark$ & $\\checkmark$ \\\\ \\hline\n",
            "$400$ & $4$ & $14.15$ & $\\checkmark$ & $\\checkmark$ & $\\times$ \\\\ \\hline\n",
            "$600$ & $0$ & $4.6$ & $\\checkmark$ & $\\checkmark$ & $\\checkmark$ \\\\ \\hline\n",
            "$600$ & $1$ & $3.2$ & $\\checkmark$ & $\\checkmark$ & $\\checkmark$ \\\\ \\hline\n",
            "$600$ & $2$ & $17.1$ & $\\checkmark$ & $\\times$ & $\\times$ \\\\ \\hline\n",
            "$600$ & $3$ & $12.267$ & $\\checkmark$ & $\\checkmark$ & $\\checkmark$ \\\\ \\hline\n",
            "$600$ & $4$ & $7.467$ & $\\checkmark$ & $\\checkmark$ & $\\checkmark$ \\\\ \\hline\n",
            "$800$ & $0$ & $6.225$ & $\\checkmark$ & $\\checkmark$ & $\\checkmark$ \\\\ \\hline\n",
            "$800$ & $1$ & $4.05$ & $\\checkmark$ & $\\checkmark$ & $\\checkmark$ \\\\ \\hline\n",
            "$800$ & $2$ & $12.125$ & $\\checkmark$ & $\\checkmark$ & $\\checkmark$ \\\\ \\hline\n",
            "$800$ & $3$ & $4.35$ & $\\checkmark$ & $\\checkmark$ & $\\checkmark$ \\\\ \\hline\n",
            "$800$ & $4$ & $7.625$ & $\\checkmark$ & $\\checkmark$ & $\\checkmark$ \\\\ \\hline\n",
            "$1000$ & $0$ & $6.46$ & $\\checkmark$ & $\\checkmark$ & $\\checkmark$ \\\\ \\hline\n",
            "$1000$ & $1$ & $12.58$ & $\\checkmark$ & $\\checkmark$ & $\\checkmark$ \\\\ \\hline\n",
            "$1000$ & $2$ & $11.9$ & $\\checkmark$ & $\\checkmark$ & $\\checkmark$ \\\\ \\hline\n",
            "$1000$ & $3$ & $6.28$ & $\\checkmark$ & $\\checkmark$ & $\\checkmark$ \\\\ \\hline\n",
            "$1000$ & $4$ & $15.9$ & $\\checkmark$ & $\\times$ & $\\times$ \\\\ \\hline\n"
          ]
        }
      ]
    }
  ]
}
