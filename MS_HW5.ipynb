{
  "nbformat": 4,
  "nbformat_minor": 0,
  "metadata": {
    "colab": {
      "provenance": []
    },
    "kernelspec": {
      "name": "python3",
      "display_name": "Python 3"
    },
    "language_info": {
      "name": "python"
    }
  },
  "cells": [
    {
      "cell_type": "code",
      "execution_count": 1,
      "metadata": {
        "id": "H0B5TzXTtzRi"
      },
      "outputs": [],
      "source": [
        "import numpy as np\n",
        "from scipy.stats import logser, norm"
      ]
    },
    {
      "cell_type": "code",
      "source": [
        "t_0 = 0.07\n",
        "t_1 = 0.09\n",
        "\n",
        "np.random.seed(42)\n",
        "sample = logser.rvs(t_0, size=1000)"
      ],
      "metadata": {
        "id": "ihacaEiH9U4u"
      },
      "execution_count": 2,
      "outputs": []
    },
    {
      "cell_type": "markdown",
      "source": [
        "## Вычисление функции отношения правдоподобия"
      ],
      "metadata": {
        "id": "ewTAHtpJEd4j"
      }
    },
    {
      "cell_type": "code",
      "source": [
        "def likelihood_ratio(t_0, t_1, sample):\n",
        "    n = len(sample)\n",
        "    return (np.log(1 - t_0) / np.log(1 - t_1)) ** n * ((t_1 / t_0) ** np.sum(sample))"
      ],
      "metadata": {
        "id": "o6ItHaXQ5BzQ"
      },
      "execution_count": 3,
      "outputs": []
    },
    {
      "cell_type": "code",
      "source": [
        "print(f'theta_0 = {t_0}; theta_1 = {t_1} -> likelihood_ratio = {likelihood_ratio(t_0, t_1, sample)}')"
      ],
      "metadata": {
        "colab": {
          "base_uri": "https://localhost:8080/"
        },
        "id": "kAKhKLCS9nVw",
        "outputId": "c9bf8d5b-55ef-46ea-f296-c3f0e4e8515e"
      },
      "execution_count": 4,
      "outputs": [
        {
          "output_type": "stream",
          "name": "stdout",
          "text": [
            "theta_0 = 0.07; theta_1 = 0.09 -> likelihood_ratio = 0.18796018525782482\n"
          ]
        }
      ]
    },
    {
      "cell_type": "code",
      "source": [
        "print(f'Проверка: {likelihood_ratio(t_1, t_0, sample) * likelihood_ratio(t_0, t_1, sample)}')"
      ],
      "metadata": {
        "colab": {
          "base_uri": "https://localhost:8080/"
        },
        "id": "xgC8lrc1ADyj",
        "outputId": "a353aef0-4c38-4267-f63d-eb99b94aade1"
      },
      "execution_count": 5,
      "outputs": [
        {
          "output_type": "stream",
          "name": "stdout",
          "text": [
            "Проверка: 1.0000000000001095\n"
          ]
        }
      ]
    },
    {
      "cell_type": "markdown",
      "source": [
        "## Применение критерия"
      ],
      "metadata": {
        "id": "KJ6196LoFMAY"
      }
    },
    {
      "cell_type": "code",
      "source": [
        "t = t_1\n",
        "-t * (np.log(1 - t) + t) / ((1 - t)**2 * (np.log(1 - t))**2)"
      ],
      "metadata": {
        "colab": {
          "base_uri": "https://localhost:8080/"
        },
        "id": "Ka2pmzZcSANO",
        "outputId": "79d03f06-c16f-41ee-8d05-4bcee8e40ddb"
      },
      "execution_count": 6,
      "outputs": [
        {
          "output_type": "execute_result",
          "data": {
            "text/plain": [
              "0.05267247291535459"
            ]
          },
          "metadata": {},
          "execution_count": 6
        }
      ]
    },
    {
      "cell_type": "code",
      "source": [
        "def get_mean(t):\n",
        "    return -t / (np.log(1 - t)* (1 - t))\n",
        "\n",
        "def get_var(t):\n",
        "    return -t * (np.log(1 - t) + t) / ((1 - t)**2 * (np.log(1 - t))**2)\n",
        "\n",
        "def get_g_alpha(alpha):\n",
        "    return - norm.ppf(alpha)"
      ],
      "metadata": {
        "id": "Gwq1O_zXFLjQ"
      },
      "execution_count": 7,
      "outputs": []
    },
    {
      "cell_type": "code",
      "source": [
        "def check_crit(sample, t_0, alpha):\n",
        "    n = len(sample)\n",
        "    left_part = (np.sum(sample) - n * get_mean(t_0)) / (np.sqrt(n) * get_var(t_0))\n",
        "    if(left_part >= get_g_alpha(alpha)):\n",
        "        print('Принимаем гипотезу H_1')\n",
        "    else:\n",
        "        print('Принимаем гипотезу H_0')"
      ],
      "metadata": {
        "id": "b_tNCjHH92Vb"
      },
      "execution_count": 8,
      "outputs": []
    },
    {
      "cell_type": "code",
      "source": [
        "check_crit(sample, t_0, alpha=0.01)\n",
        "check_crit(sample, t_0, alpha=0.05)\n",
        "check_crit(sample, t_0, alpha=0.1)"
      ],
      "metadata": {
        "colab": {
          "base_uri": "https://localhost:8080/"
        },
        "id": "FlGeo2ufFwDM",
        "outputId": "5988df6b-7109-4e1d-8a95-d63dc1658c15"
      },
      "execution_count": 9,
      "outputs": [
        {
          "output_type": "stream",
          "name": "stdout",
          "text": [
            "Принимаем гипотезу H_0\n",
            "Принимаем гипотезу H_0\n",
            "Принимаем гипотезу H_0\n"
          ]
        }
      ]
    },
    {
      "cell_type": "code",
      "source": [
        "def get_beta(n, t_0, t_1, alpha):\n",
        "    return norm.cdf(np.sqrt(n) * (get_mean(t_0) - get_mean(t_1)) / get_var(t_1) + get_g_alpha(alpha) * get_var(t_0) / get_var(t_1))"
      ],
      "metadata": {
        "id": "3cTUa23sJKI4"
      },
      "execution_count": 10,
      "outputs": []
    },
    {
      "cell_type": "code",
      "source": [
        "get_beta(len(sample), t_0, t_1, alpha=0.01)"
      ],
      "metadata": {
        "colab": {
          "base_uri": "https://localhost:8080/"
        },
        "id": "DL50HwO8O15d",
        "outputId": "0c28bda2-2bc3-4acd-9109-c504d08d2199"
      },
      "execution_count": 11,
      "outputs": [
        {
          "output_type": "execute_result",
          "data": {
            "text/plain": [
              "1.2623251776628952e-07"
            ]
          },
          "metadata": {},
          "execution_count": 11
        }
      ]
    },
    {
      "cell_type": "code",
      "source": [
        "get_beta(len(sample), t_0, t_1, alpha=0.05)"
      ],
      "metadata": {
        "colab": {
          "base_uri": "https://localhost:8080/"
        },
        "id": "MeA-KVnYO3ey",
        "outputId": "72a6bf9f-9183-4d37-d7bb-66043c6ecc2b"
      },
      "execution_count": 12,
      "outputs": [
        {
          "output_type": "execute_result",
          "data": {
            "text/plain": [
              "7.265906717272991e-09"
            ]
          },
          "metadata": {},
          "execution_count": 12
        }
      ]
    },
    {
      "cell_type": "code",
      "source": [
        "get_beta(len(sample), t_0, t_1, alpha=0.1)"
      ],
      "metadata": {
        "colab": {
          "base_uri": "https://localhost:8080/"
        },
        "id": "zIuTPGbNO4T1",
        "outputId": "13c7d75c-9505-43d8-9dbc-50264ae912c0"
      },
      "execution_count": 13,
      "outputs": [
        {
          "output_type": "execute_result",
          "data": {
            "text/plain": [
              "1.4295743860678404e-09"
            ]
          },
          "metadata": {},
          "execution_count": 13
        }
      ]
    },
    {
      "cell_type": "markdown",
      "source": [
        "## Вычисление минимального необходимого количества материала при фиксации минимального возможного значения ошибок первого и второго рода"
      ],
      "metadata": {
        "id": "K10KSrliM_FA"
      }
    },
    {
      "cell_type": "code",
      "source": [
        "def get_count_material(t_0, t_1, alpha, beta):\n",
        "    n = (get_var(t_1) * norm.ppf(beta) + get_var(t_0) * norm.ppf(alpha)) ** 2 / (get_mean(t_0) - get_mean(t_1))**2\n",
        "    return np.ceil(n)"
      ],
      "metadata": {
        "id": "lZpwaACYLo89"
      },
      "execution_count": 19,
      "outputs": []
    },
    {
      "cell_type": "code",
      "source": [
        "get_count_material(t_0, t_1, alpha=0.1, beta=0.1)"
      ],
      "metadata": {
        "colab": {
          "base_uri": "https://localhost:8080/"
        },
        "id": "Pto2eUEfNptx",
        "outputId": "f0b4a706-06ca-4a66-b154-b641d6bbad92"
      },
      "execution_count": 20,
      "outputs": [
        {
          "output_type": "execute_result",
          "data": {
            "text/plain": [
              "106.0"
            ]
          },
          "metadata": {},
          "execution_count": 20
        }
      ]
    },
    {
      "cell_type": "code",
      "source": [
        "get_count_material(t_0, t_1, alpha=0.05, beta=0.05)"
      ],
      "metadata": {
        "colab": {
          "base_uri": "https://localhost:8080/"
        },
        "id": "UERZ7rexS-8J",
        "outputId": "a3669902-53c3-49c6-f17a-b48b48e70eef"
      },
      "execution_count": 24,
      "outputs": [
        {
          "output_type": "execute_result",
          "data": {
            "text/plain": [
              "175.0"
            ]
          },
          "metadata": {},
          "execution_count": 24
        }
      ]
    },
    {
      "cell_type": "code",
      "source": [
        "get_count_material(t_0, t_1, alpha=0.01, beta=0.01)"
      ],
      "metadata": {
        "colab": {
          "base_uri": "https://localhost:8080/"
        },
        "id": "MpJ5ZNNkNvbA",
        "outputId": "987459e3-de4a-4e14-e704-1026bf71c245"
      },
      "execution_count": 21,
      "outputs": [
        {
          "output_type": "execute_result",
          "data": {
            "text/plain": [
              "349.0"
            ]
          },
          "metadata": {},
          "execution_count": 21
        }
      ]
    },
    {
      "cell_type": "code",
      "source": [
        "get_count_material(t_0, t_1, alpha=0.001, beta=0.001)"
      ],
      "metadata": {
        "colab": {
          "base_uri": "https://localhost:8080/"
        },
        "id": "gmHXgIKSO7Ej",
        "outputId": "b4d39332-0813-4516-b240-888a8f909e94"
      },
      "execution_count": 25,
      "outputs": [
        {
          "output_type": "execute_result",
          "data": {
            "text/plain": [
              "615.0"
            ]
          },
          "metadata": {},
          "execution_count": 25
        }
      ]
    },
    {
      "cell_type": "code",
      "source": [
        "alpha = 0.0001\n",
        "beta = 0.0001\n",
        "\n",
        "n = get_count_material(t_0, t_1, alpha, beta)\n",
        "print(f'n* = {n} | beta для этого n: {get_beta(n, t_0, t_1, alpha)} | Проверка на beta: {get_beta(n, t_0, t_1, alpha) <= beta}')\n",
        "print(f'n - действительно минимальное число -> все значения < n* дают значение beta > фиксированного: {all(get_beta(i, t_0, t_1, alpha) > beta for i in range(1, int(n)))}')"
      ],
      "metadata": {
        "colab": {
          "base_uri": "https://localhost:8080/"
        },
        "id": "RvlNDAWGTB-V",
        "outputId": "ba7fe8ae-8f88-43f1-82a1-2ed09ed6efa9"
      },
      "execution_count": 41,
      "outputs": [
        {
          "output_type": "stream",
          "name": "stdout",
          "text": [
            "n* = 890.0 | beta для этого n: 9.93221043361567e-05 | Проверка на beta: True\n",
            "n - действительно минимальное число -> все значения < n* дают значение beta > фиксированного: True\n"
          ]
        }
      ]
    }
  ]
}