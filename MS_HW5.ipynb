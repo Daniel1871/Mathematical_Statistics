{
  "nbformat": 4,
  "nbformat_minor": 0,
  "metadata": {
    "colab": {
      "provenance": []
    },
    "kernelspec": {
      "name": "python3",
      "display_name": "Python 3"
    },
    "language_info": {
      "name": "python"
    }
  },
  "cells": [
    {
      "cell_type": "code",
      "execution_count": 1,
      "metadata": {
        "id": "H0B5TzXTtzRi"
      },
      "outputs": [],
      "source": [
        "import numpy as np\n",
        "from scipy.stats import logser, norm"
      ]
    },
    {
      "cell_type": "code",
      "source": [
        "t_0 = 0.07\n",
        "t_1 = 0.09\n",
        "\n",
        "np.random.seed(42)\n",
        "sample = logser.rvs(t_0, size=1000)"
      ],
      "metadata": {
        "id": "ihacaEiH9U4u"
      },
      "execution_count": 2,
      "outputs": []
    },
    {
      "cell_type": "markdown",
      "source": [
        "## Вычисление функции отношения правдоподобия"
      ],
      "metadata": {
        "id": "ewTAHtpJEd4j"
      }
    },
    {
      "cell_type": "code",
      "source": [
        "def likelihood_ratio(t_0, t_1, sample):\n",
        "    n = len(sample)\n",
        "    return (np.log(1 - t_0) / np.log(1 - t_1)) ** n * ((t_1 / t_0) ** np.sum(sample))"
      ],
      "metadata": {
        "id": "o6ItHaXQ5BzQ"
      },
      "execution_count": 3,
      "outputs": []
    },
    {
      "cell_type": "code",
      "source": [
        "print(f'theta_0 = {t_0}; theta_1 = {t_1} -> likelihood_ratio = {likelihood_ratio(t_0, t_1, sample)}')"
      ],
      "metadata": {
        "colab": {
          "base_uri": "https://localhost:8080/"
        },
        "id": "kAKhKLCS9nVw",
        "outputId": "980675ae-3d45-4eed-d645-fc07d2f9829e"
      },
      "execution_count": 4,
      "outputs": [
        {
          "output_type": "stream",
          "name": "stdout",
          "text": [
            "theta_0 = 0.07; theta_1 = 0.09 -> likelihood_ratio = 0.18796018525782482\n"
          ]
        }
      ]
    },
    {
      "cell_type": "code",
      "source": [
        "print(f'Проверка: {likelihood_ratio(t_1, t_0, sample) * likelihood_ratio(t_0, t_1, sample)}')"
      ],
      "metadata": {
        "colab": {
          "base_uri": "https://localhost:8080/"
        },
        "id": "xgC8lrc1ADyj",
        "outputId": "ea30cdce-5218-482c-f23c-4c42ad87ec45"
      },
      "execution_count": 5,
      "outputs": [
        {
          "output_type": "stream",
          "name": "stdout",
          "text": [
            "Проверка: 1.0000000000001095\n"
          ]
        }
      ]
    },
    {
      "cell_type": "markdown",
      "source": [
        "## Применение критерия"
      ],
      "metadata": {
        "id": "KJ6196LoFMAY"
      }
    },
    {
      "cell_type": "code",
      "source": [
        "def get_mean(t):\n",
        "    return -t / (np.log(1 - t)* (1 - t))\n",
        "\n",
        "def get_var(t):\n",
        "    return -t * (np.log(1 - t) + t) / ((1 - t)**2 * (np.log(1 - t))**2)\n",
        "\n",
        "def get_g_alpha(alpha):\n",
        "    return - norm.ppf(alpha)"
      ],
      "metadata": {
        "id": "Gwq1O_zXFLjQ"
      },
      "execution_count": 6,
      "outputs": []
    },
    {
      "cell_type": "code",
      "source": [
        "def check_crit(sample, t_0, alpha):\n",
        "    n = len(sample)\n",
        "    left_part = (np.sum(sample) - n * get_mean(t_0)) / (np.sqrt(n) * get_var(t_0))\n",
        "    if(left_part >= get_g_alpha(alpha)):\n",
        "        print('Принимаем гипотезу H_1')\n",
        "    else:\n",
        "        print('Принимаем гипотезу H_0')"
      ],
      "metadata": {
        "id": "b_tNCjHH92Vb"
      },
      "execution_count": 7,
      "outputs": []
    },
    {
      "cell_type": "code",
      "source": [
        "check_crit(sample, t_0, alpha=0.01)\n",
        "check_crit(sample, t_0, alpha=0.05)\n",
        "check_crit(sample, t_0, alpha=0.1)"
      ],
      "metadata": {
        "colab": {
          "base_uri": "https://localhost:8080/"
        },
        "id": "FlGeo2ufFwDM",
        "outputId": "3b5b669c-de9a-4216-d432-d8e9ef4647b8"
      },
      "execution_count": 8,
      "outputs": [
        {
          "output_type": "stream",
          "name": "stdout",
          "text": [
            "Принимаем гипотезу H_0\n",
            "Принимаем гипотезу H_0\n",
            "Принимаем гипотезу H_0\n"
          ]
        }
      ]
    },
    {
      "cell_type": "code",
      "source": [
        "def get_beta(n, t_0, t_1, alpha):\n",
        "    return norm.cdf(np.sqrt(n) * (get_mean(t_0) - get_mean(t_1)) / get_var(t_1) + get_g_alpha(alpha) * get_var(t_0) / get_var(t_1))"
      ],
      "metadata": {
        "id": "3cTUa23sJKI4"
      },
      "execution_count": 9,
      "outputs": []
    },
    {
      "cell_type": "code",
      "source": [
        "get_beta(len(sample), t_0, t_1, alpha=0.01)"
      ],
      "metadata": {
        "colab": {
          "base_uri": "https://localhost:8080/"
        },
        "id": "DL50HwO8O15d",
        "outputId": "9aef3d39-e35b-44de-ce78-c5ee3c2e4b4f"
      },
      "execution_count": 10,
      "outputs": [
        {
          "output_type": "execute_result",
          "data": {
            "text/plain": [
              "1.2623251776628952e-07"
            ]
          },
          "metadata": {},
          "execution_count": 10
        }
      ]
    },
    {
      "cell_type": "code",
      "source": [
        "get_beta(len(sample), t_0, t_1, alpha=0.05)"
      ],
      "metadata": {
        "colab": {
          "base_uri": "https://localhost:8080/"
        },
        "id": "MeA-KVnYO3ey",
        "outputId": "3f120e99-76b0-431f-cb08-065db8edb865"
      },
      "execution_count": 11,
      "outputs": [
        {
          "output_type": "execute_result",
          "data": {
            "text/plain": [
              "7.265906717272991e-09"
            ]
          },
          "metadata": {},
          "execution_count": 11
        }
      ]
    },
    {
      "cell_type": "code",
      "source": [
        "get_beta(len(sample), t_0, t_1, alpha=0.1)"
      ],
      "metadata": {
        "colab": {
          "base_uri": "https://localhost:8080/"
        },
        "id": "zIuTPGbNO4T1",
        "outputId": "804456af-7b46-43ce-87b5-83c87761479b"
      },
      "execution_count": 12,
      "outputs": [
        {
          "output_type": "execute_result",
          "data": {
            "text/plain": [
              "1.4295743860678404e-09"
            ]
          },
          "metadata": {},
          "execution_count": 12
        }
      ]
    },
    {
      "cell_type": "markdown",
      "source": [
        "## Вычисление минимального необходимого количества материала при фиксации минимального возможного значения ошибок первого и второго рода"
      ],
      "metadata": {
        "id": "K10KSrliM_FA"
      }
    },
    {
      "cell_type": "code",
      "source": [
        "def get_count_material(t_0, t_1, alpha, beta):\n",
        "    n = (get_var(t_1) * norm.ppf(beta) + get_var(t_0) * norm.ppf(alpha)) ** 2 / (get_mean(t_0) - get_mean(t_1))**2\n",
        "    return np.ceil(n)"
      ],
      "metadata": {
        "id": "lZpwaACYLo89"
      },
      "execution_count": 13,
      "outputs": []
    },
    {
      "cell_type": "code",
      "source": [
        "get_count_material(t_0, t_1, alpha=0.1, beta=0.1)"
      ],
      "metadata": {
        "colab": {
          "base_uri": "https://localhost:8080/"
        },
        "id": "Pto2eUEfNptx",
        "outputId": "2b3bfe6b-830b-4203-d27a-cbd834d4f6bd"
      },
      "execution_count": 14,
      "outputs": [
        {
          "output_type": "execute_result",
          "data": {
            "text/plain": [
              "106.0"
            ]
          },
          "metadata": {},
          "execution_count": 14
        }
      ]
    },
    {
      "cell_type": "code",
      "source": [
        "get_count_material(t_0, t_1, alpha=0.05, beta=0.05)"
      ],
      "metadata": {
        "colab": {
          "base_uri": "https://localhost:8080/"
        },
        "id": "UERZ7rexS-8J",
        "outputId": "a8977094-0efc-457a-9135-2bbc940a758e"
      },
      "execution_count": 15,
      "outputs": [
        {
          "output_type": "execute_result",
          "data": {
            "text/plain": [
              "175.0"
            ]
          },
          "metadata": {},
          "execution_count": 15
        }
      ]
    },
    {
      "cell_type": "code",
      "source": [
        "get_count_material(t_0, t_1, alpha=0.01, beta=0.01)"
      ],
      "metadata": {
        "colab": {
          "base_uri": "https://localhost:8080/"
        },
        "id": "MpJ5ZNNkNvbA",
        "outputId": "7af8121a-5673-473d-811e-0eca14a0c151"
      },
      "execution_count": 16,
      "outputs": [
        {
          "output_type": "execute_result",
          "data": {
            "text/plain": [
              "349.0"
            ]
          },
          "metadata": {},
          "execution_count": 16
        }
      ]
    },
    {
      "cell_type": "code",
      "source": [
        "get_count_material(t_0, t_1, alpha=0.001, beta=0.001)"
      ],
      "metadata": {
        "colab": {
          "base_uri": "https://localhost:8080/"
        },
        "id": "gmHXgIKSO7Ej",
        "outputId": "c78f58e9-f348-4c94-ce46-60f690551bfb"
      },
      "execution_count": 17,
      "outputs": [
        {
          "output_type": "execute_result",
          "data": {
            "text/plain": [
              "615.0"
            ]
          },
          "metadata": {},
          "execution_count": 17
        }
      ]
    },
    {
      "cell_type": "code",
      "source": [
        "alpha = 0.0001\n",
        "beta = 0.0001\n",
        "\n",
        "n = get_count_material(t_0, t_1, alpha, beta)\n",
        "print(f'n* = {n} | beta для этого n: {get_beta(n, t_0, t_1, alpha)} | Проверка на beta: {get_beta(n, t_0, t_1, alpha) <= beta}')\n",
        "print(f'n - действительно минимальное число -> все значения < n* дают значение beta > фиксированного: {all(get_beta(i, t_0, t_1, alpha) > beta for i in range(1, int(n)))}')"
      ],
      "metadata": {
        "colab": {
          "base_uri": "https://localhost:8080/"
        },
        "id": "RvlNDAWGTB-V",
        "outputId": "faba699c-7a17-42a5-cb82-0eaf84b2e6ac"
      },
      "execution_count": 18,
      "outputs": [
        {
          "output_type": "stream",
          "name": "stdout",
          "text": [
            "n* = 890.0 | beta для этого n: 9.93221043361567e-05 | Проверка на beta: True\n",
            "n - действительно минимальное число -> все значения < n* дают значение beta > фиксированного: True\n"
          ]
        }
      ]
    }
  ]
}