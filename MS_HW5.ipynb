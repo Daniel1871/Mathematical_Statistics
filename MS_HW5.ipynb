{
  "nbformat": 4,
  "nbformat_minor": 0,
  "metadata": {
    "colab": {
      "provenance": []
    },
    "kernelspec": {
      "name": "python3",
      "display_name": "Python 3"
    },
    "language_info": {
      "name": "python"
    }
  },
  "cells": [
    {
      "cell_type": "code",
      "execution_count": 1,
      "metadata": {
        "id": "H0B5TzXTtzRi"
      },
      "outputs": [],
      "source": [
        "import numpy as np\n",
        "from scipy.stats import logser, norm"
      ]
    },
    {
      "cell_type": "code",
      "source": [
        "t_0 = 0.07\n",
        "t_1 = 0.09\n",
        "\n",
        "np.random.seed(42)\n",
        "sample = logser.rvs(t_0, size=1000)"
      ],
      "metadata": {
        "id": "ihacaEiH9U4u"
      },
      "execution_count": 2,
      "outputs": []
    },
    {
      "cell_type": "markdown",
      "source": [
        "## Вычисление функции отношения правдоподобия"
      ],
      "metadata": {
        "id": "ewTAHtpJEd4j"
      }
    },
    {
      "cell_type": "code",
      "source": [
        "def likelihood_ratio(t_0, t_1, sample):\n",
        "    n = len(sample)\n",
        "    return (np.log(1 - t_0) / np.log(1 - t_1)) ** n * ((t_1 / t_0) ** np.sum(sample))"
      ],
      "metadata": {
        "id": "o6ItHaXQ5BzQ"
      },
      "execution_count": 3,
      "outputs": []
    },
    {
      "cell_type": "code",
      "source": [
        "print(f'theta_0 = {t_0}; theta_1 = {t_1} -> likelihood_ratio = {likelihood_ratio(t_0, t_1, sample)}')"
      ],
      "metadata": {
        "colab": {
          "base_uri": "https://localhost:8080/"
        },
        "id": "kAKhKLCS9nVw",
        "outputId": "face79a5-ebc7-47a7-f6da-4f7d4dcec79b"
      },
      "execution_count": 4,
      "outputs": [
        {
          "output_type": "stream",
          "name": "stdout",
          "text": [
            "theta_0 = 0.07; theta_1 = 0.09 -> likelihood_ratio = 0.18796018525782482\n"
          ]
        }
      ]
    },
    {
      "cell_type": "code",
      "source": [
        "print(f'Проверка: {likelihood_ratio(t_1, t_0, sample) * likelihood_ratio(t_0, t_1, sample)}')"
      ],
      "metadata": {
        "colab": {
          "base_uri": "https://localhost:8080/"
        },
        "id": "xgC8lrc1ADyj",
        "outputId": "c9b2f956-d368-4f80-d95b-78d08c5285c9"
      },
      "execution_count": 5,
      "outputs": [
        {
          "output_type": "stream",
          "name": "stdout",
          "text": [
            "Проверка: 1.0000000000001095\n"
          ]
        }
      ]
    },
    {
      "cell_type": "markdown",
      "source": [
        "## Применение критерия"
      ],
      "metadata": {
        "id": "KJ6196LoFMAY"
      }
    },
    {
      "cell_type": "code",
      "source": [
        "def get_mean(t):\n",
        "    return -t / (np.log(1 - t)* (1 - t))\n",
        "\n",
        "def get_var(t):\n",
        "    return -t * (np.log(1 - t) + t) / ((1 - t)**2 * (np.log(1 - t))**2)\n",
        "\n",
        "def get_g_alpha(alpha):\n",
        "    return - norm.ppf(alpha)"
      ],
      "metadata": {
        "id": "Gwq1O_zXFLjQ"
      },
      "execution_count": 6,
      "outputs": []
    },
    {
      "cell_type": "code",
      "source": [
        "def check_crit(sample, t_0, alpha):\n",
        "    n = len(sample)\n",
        "    left_part = (np.sum(sample) - n * get_mean(t_0)) / (np.sqrt(n) * get_var(t_0))\n",
        "    if(left_part >= get_g_alpha(alpha)):\n",
        "        print('Принимаем гипотезу H_1')\n",
        "    else:\n",
        "        print('Принимаем гипотезу H_0')"
      ],
      "metadata": {
        "id": "b_tNCjHH92Vb"
      },
      "execution_count": 7,
      "outputs": []
    },
    {
      "cell_type": "code",
      "source": [
        "check_crit(sample, t_0, alpha=0.01)"
      ],
      "metadata": {
        "colab": {
          "base_uri": "https://localhost:8080/"
        },
        "id": "VvuyZ8HikQK2",
        "outputId": "4342f59b-7014-49db-b103-fd606cea5506"
      },
      "execution_count": 22,
      "outputs": [
        {
          "output_type": "stream",
          "name": "stdout",
          "text": [
            "Принимаем гипотезу H_0\n"
          ]
        }
      ]
    },
    {
      "cell_type": "code",
      "source": [
        "check_crit(logser.rvs(t_1, size=1000), t_0, alpha=0.01)"
      ],
      "metadata": {
        "colab": {
          "base_uri": "https://localhost:8080/"
        },
        "id": "FlGeo2ufFwDM",
        "outputId": "4c809711-960b-45a0-ec16-3a203bcfd603"
      },
      "execution_count": 20,
      "outputs": [
        {
          "output_type": "stream",
          "name": "stdout",
          "text": [
            "Принимаем гипотезу H_1\n"
          ]
        }
      ]
    },
    {
      "cell_type": "code",
      "source": [
        "def get_beta(n, t_0, t_1, alpha):\n",
        "    return norm.cdf(np.sqrt(n) * (get_mean(t_0) - get_mean(t_1)) / get_var(t_1) + get_g_alpha(alpha) * get_var(t_0) / get_var(t_1))"
      ],
      "metadata": {
        "id": "3cTUa23sJKI4"
      },
      "execution_count": 9,
      "outputs": []
    },
    {
      "cell_type": "code",
      "source": [
        "get_beta(len(sample), t_0, t_1, alpha=0.01)"
      ],
      "metadata": {
        "colab": {
          "base_uri": "https://localhost:8080/"
        },
        "id": "DL50HwO8O15d",
        "outputId": "6c036ae0-fd3b-4451-eee4-028fa48b82b6"
      },
      "execution_count": 10,
      "outputs": [
        {
          "output_type": "execute_result",
          "data": {
            "text/plain": [
              "1.2623251776628952e-07"
            ]
          },
          "metadata": {},
          "execution_count": 10
        }
      ]
    },
    {
      "cell_type": "code",
      "source": [
        "get_beta(len(sample), t_0, t_1, alpha=0.05)"
      ],
      "metadata": {
        "colab": {
          "base_uri": "https://localhost:8080/"
        },
        "id": "MeA-KVnYO3ey",
        "outputId": "bbdb1603-f617-428a-ed43-72ef8cfde141"
      },
      "execution_count": 11,
      "outputs": [
        {
          "output_type": "execute_result",
          "data": {
            "text/plain": [
              "7.265906717272991e-09"
            ]
          },
          "metadata": {},
          "execution_count": 11
        }
      ]
    },
    {
      "cell_type": "code",
      "source": [
        "get_beta(len(sample), t_0, t_1, alpha=0.1)"
      ],
      "metadata": {
        "colab": {
          "base_uri": "https://localhost:8080/"
        },
        "id": "zIuTPGbNO4T1",
        "outputId": "af757a4c-0805-451c-af44-1ea5ff358957"
      },
      "execution_count": 12,
      "outputs": [
        {
          "output_type": "execute_result",
          "data": {
            "text/plain": [
              "1.4295743860678404e-09"
            ]
          },
          "metadata": {},
          "execution_count": 12
        }
      ]
    },
    {
      "cell_type": "markdown",
      "source": [
        "## Вычисление минимального необходимого количества материала при фиксации минимального возможного значения ошибок первого и второго рода"
      ],
      "metadata": {
        "id": "K10KSrliM_FA"
      }
    },
    {
      "cell_type": "code",
      "source": [
        "def get_count_material(t_0, t_1, alpha, beta):\n",
        "    n = (get_var(t_1) * norm.ppf(beta) + get_var(t_0) * norm.ppf(alpha)) ** 2 / (get_mean(t_0) - get_mean(t_1))**2\n",
        "    return np.ceil(n)"
      ],
      "metadata": {
        "id": "lZpwaACYLo89"
      },
      "execution_count": 13,
      "outputs": []
    },
    {
      "cell_type": "code",
      "source": [
        "get_count_material(t_0, t_1, alpha=0.1, beta=0.1)"
      ],
      "metadata": {
        "colab": {
          "base_uri": "https://localhost:8080/"
        },
        "id": "Pto2eUEfNptx",
        "outputId": "5cb011c1-d53f-4969-98b8-ca0b65bbd059"
      },
      "execution_count": 14,
      "outputs": [
        {
          "output_type": "execute_result",
          "data": {
            "text/plain": [
              "106.0"
            ]
          },
          "metadata": {},
          "execution_count": 14
        }
      ]
    },
    {
      "cell_type": "code",
      "source": [
        "get_count_material(t_0, t_1, alpha=0.05, beta=0.05)"
      ],
      "metadata": {
        "colab": {
          "base_uri": "https://localhost:8080/"
        },
        "id": "UERZ7rexS-8J",
        "outputId": "38ba1208-4f58-4e59-a849-37a4eca624cf"
      },
      "execution_count": 15,
      "outputs": [
        {
          "output_type": "execute_result",
          "data": {
            "text/plain": [
              "175.0"
            ]
          },
          "metadata": {},
          "execution_count": 15
        }
      ]
    },
    {
      "cell_type": "code",
      "source": [
        "get_count_material(t_0, t_1, alpha=0.01, beta=0.01)"
      ],
      "metadata": {
        "colab": {
          "base_uri": "https://localhost:8080/"
        },
        "id": "MpJ5ZNNkNvbA",
        "outputId": "1aabe432-f0f6-4a29-ebdd-ba8a37d46194"
      },
      "execution_count": 16,
      "outputs": [
        {
          "output_type": "execute_result",
          "data": {
            "text/plain": [
              "349.0"
            ]
          },
          "metadata": {},
          "execution_count": 16
        }
      ]
    },
    {
      "cell_type": "code",
      "source": [
        "get_count_material(t_0, t_1, alpha=0.001, beta=0.001)"
      ],
      "metadata": {
        "colab": {
          "base_uri": "https://localhost:8080/"
        },
        "id": "gmHXgIKSO7Ej",
        "outputId": "06e012da-3b31-4f2f-a6f1-93b16fa7b7a9"
      },
      "execution_count": 17,
      "outputs": [
        {
          "output_type": "execute_result",
          "data": {
            "text/plain": [
              "615.0"
            ]
          },
          "metadata": {},
          "execution_count": 17
        }
      ]
    },
    {
      "cell_type": "code",
      "source": [
        "alpha = 0.0001\n",
        "beta = 0.0001\n",
        "\n",
        "n = get_count_material(t_0, t_1, alpha, beta)\n",
        "print(f'n* = {n} | beta для этого n: {get_beta(n, t_0, t_1, alpha)} | Проверка на beta: {get_beta(n, t_0, t_1, alpha) <= beta}')\n",
        "print(f'n - действительно минимальное число -> все значения < n* дают значение beta > фиксированного: {all(get_beta(i, t_0, t_1, alpha) > beta for i in range(1, int(n)))}')"
      ],
      "metadata": {
        "colab": {
          "base_uri": "https://localhost:8080/"
        },
        "id": "RvlNDAWGTB-V",
        "outputId": "16166850-c1e6-4181-de59-35d6f0365b88"
      },
      "execution_count": 18,
      "outputs": [
        {
          "output_type": "stream",
          "name": "stdout",
          "text": [
            "n* = 890.0 | beta для этого n: 9.93221043361567e-05 | Проверка на beta: True\n",
            "n - действительно минимальное число -> все значения < n* дают значение beta > фиксированного: True\n"
          ]
        }
      ]
    }
  ]
}