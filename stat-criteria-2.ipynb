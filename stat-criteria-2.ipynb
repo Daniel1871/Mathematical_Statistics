{
  "cells": [
    {
      "cell_type": "markdown",
      "metadata": {
        "id": "rvXXLWQeop6B"
      },
      "source": [
        "# Контрольная работа по методам анализа данных (демо-вариант)"
      ]
    },
    {
      "cell_type": "markdown",
      "metadata": {
        "id": "p3RLMrBSop6E"
      },
      "source": [
        "### Задача 1 [10 баллов] Кто хочет стать статистиком?  "
      ]
    },
    {
      "cell_type": "markdown",
      "metadata": {
        "id": "QkT4Iq0Nop6E"
      },
      "source": [
        "Вопрос 1\n",
        "\n",
        "Пусть $X_1$, . . . , $X_n$ --- случайная выборка из распределения Пуассона с параметром λ > 0.\n",
        "Известно, что оценка максимального правдоподобия параметра λ равна $\\overline{X}$. Чему равна оценка максимального правдоподобия для 1/λ?\n",
        "\n",
        "\n",
        "A) $\\ln{\\overline{X}}$\n",
        "\n",
        "B) $\\overline{X} / n$\n",
        "\n",
        "C) $1 / \\overline{X}$\n",
        "\n",
        "D) $e^{\\overline{X}}$"
      ]
    },
    {
      "cell_type": "markdown",
      "source": [
        "$\\overline X$ - оценка макс. правдоподобия для $\\lambda$ ⇒ 1 / $\\overline X$ - оценка макс. правдоподобия для 1 / $\\lambda$ (это свойства для ММП)\n",
        "\n",
        "Ответ: C."
      ],
      "metadata": {
        "id": "PXzREPTRq5qX"
      }
    },
    {
      "cell_type": "markdown",
      "metadata": {
        "id": "hc290o_1op6H"
      },
      "source": [
        "Вопрос 2.\n",
        "\n",
        "Вася считает, что контрольные по макроэкономике и статистике нравятся студентам с одинаковой вероятностью. Чтобы проверить эту гипотезу, он опросил по 100 случайных однокурсников после каждой контрольной и выяснил, что макроэкономика понравилась 30 студентам, а статистика --- 50. При расчётах Вася получил P-значение равное 0.0038. Это означает, что гипотеза:\n",
        "\n",
        "A) отвергается на уровне значимости 5%, но не отвергается на 1%\n",
        "\n",
        "B) отвергается на уровне значимости 1%, но не отвергается на 5%\n",
        "\n",
        "C) отвергается на любом возможном уровне значимости\n",
        "\n",
        "D) отвергается на уровне значимости 1%"
      ]
    },
    {
      "cell_type": "markdown",
      "source": [
        "Ответ: D (т.к. p_value = 0.0038 $\\le$ $\\alpha = 0.01$)"
      ],
      "metadata": {
        "id": "yOMrlzCWtJeI"
      }
    },
    {
      "cell_type": "markdown",
      "metadata": {
        "id": "bSgHpZ-sop6I"
      },
      "source": [
        "Вопрос 3\n",
        "\n",
        "Пусть $X_1, \\ldots,  X_n$ --- случайная выборка из распределения\n",
        "Бернулли с параметром $p \\in (0;\\,1)$. Чему равна информация Фишера о\n",
        "параметре $p$, заключенная в двух наблюдениях случайной выборки?\n",
        "\n",
        "A) $\\frac{2}{p(1-p)}$\n",
        "\n",
        "B) $2p$\n",
        "\n",
        "C) $2p(1-p)$\n",
        "\n",
        "d) $\\frac{2}{p}$"
      ]
    },
    {
      "cell_type": "markdown",
      "source": [
        "P(X = 1) = p\n",
        "\n",
        "P(X = 0) = 1 - p\n",
        "\n",
        "⇒ $P(X = k) = p^k (1-p)^{1-k}$, $k \\in $ {0, 1}\n",
        "\n",
        "$i_n(p) = n i(p) = n D \\frac{\\partial \\ln P(X_1)}{\\partial p} = n D \\partial \\frac{ X_1 \\ln p + (1-X_1) \\ln(1-p)}{\\partial p} = n D (\\frac{X_1}{p} - \\frac{1-X_1}{1-p}) = n D \\frac{X_1 - X_1 p - p + p X_1}{p (1-p)} = n \\frac {D X_1}{p^2 (1-p)^2} = \\frac {n} {p(1-p)}$\n",
        "\n",
        "Ответ: A"
      ],
      "metadata": {
        "id": "Fz1Y-oZ6xqla"
      }
    },
    {
      "cell_type": "markdown",
      "metadata": {
        "id": "n1CnTMW8op6J"
      },
      "source": [
        "Вопрос 4\n",
        "\n",
        "Вася считает, что контрольные по ML и статистике нравятся студентам с одинаковой вероятностью. Чтобы проверить эту гипотезу, он опросил по 100 случайных однокурсников после каждой контрольной и выяснил, что ML понравилось 30 студентам, а статистика --- 50. При проверке этой гипотезы, тестовая статистика может иметь распределение\n",
        "\n",
        "A) $t_{100}$\n",
        "\n",
        "B) $N(0,1)$\n",
        "\n",
        "C) $t_{99}$\n",
        "\n",
        "D) $t_{198}$\n"
      ]
    },
    {
      "cell_type": "markdown",
      "source": [
        "Для t-критерия мы должны иметь нормальные данные. У нас же в условии две выборки из распределения Бернулли $⇒$ можем использовать Z-критерий для разности независимых долей $⇒$\n",
        "\n",
        "Ответ: B"
      ],
      "metadata": {
        "id": "VBTXm89b9Hqx"
      }
    },
    {
      "cell_type": "markdown",
      "metadata": {
        "id": "KkU55OxEop6K"
      },
      "source": [
        "Вопроc 5\n",
        "\n",
        "Величина X принимает три значения 1, 2 и 3. По случайной выборке из ста наблюдений оказалось, что 1 выпало 40 раз, 2 --- 40 раз и 3 --- 20 раз. Карл хочет проверить гипотезу о том, что все три вероятности одинаковые. При верной H0 статистика теста отношения правдоподобия (G-test) имеет распределение:\n",
        "\n",
        "A) $\\chi^2_3$\n",
        "\n",
        "B) $N(0;1)$\n",
        "\n",
        "C) $\\chi^2_{99}$\n",
        "\n",
        "D) $\\chi^2_2$"
      ]
    },
    {
      "cell_type": "markdown",
      "source": [
        "G-test ⇒ распределение хи-квадрат с $k - 1$ степенью свободы, где $k$ - кол-во значений, принимаемое случайной величиной. У нас k = 3 ⇒\n",
        "\n",
        "Ответ: D"
      ],
      "metadata": {
        "id": "M1w8R89yASqL"
      }
    },
    {
      "cell_type": "markdown",
      "metadata": {
        "id": "PdJy81Qlop6K"
      },
      "source": [
        "### Задача 2 [10 баллов] Выбери свой критерий:"
      ]
    },
    {
      "cell_type": "markdown",
      "metadata": {
        "id": "RVg5QiKiop6L"
      },
      "source": [
        "Пример 1\n",
        "\n",
        "Вася хочет проверить гипотезу о том, что в Питере любят кофе больше, чем в Москве (~200 опрошенных в каждом городе). Для этого он воспользуется:\n",
        "\n",
        "A) t-критерием Стьюдента\n",
        "\n",
        "B) z-критерием для разности долей (связанные выборки)\n",
        "\n",
        "C) z-критерием для разности долей (независимые выборки)\n",
        "\n",
        "D) критерием Шапиро-Уилка"
      ]
    },
    {
      "cell_type": "markdown",
      "source": [
        "t-критерий требует нормальных данных\n",
        "\n",
        "Критерий Шапиро-Уилка проверяет нормальность данных\n",
        "\n",
        "А у нас есть две независимые выборки из распределения Бернулли ⇒\n",
        "\n",
        "Ответ: C"
      ],
      "metadata": {
        "id": "ZFUGfXcwFH4h"
      }
    },
    {
      "cell_type": "markdown",
      "metadata": {
        "id": "JRzWgOAoop6L"
      },
      "source": [
        "Пример 2\n",
        "\n",
        "Червяк Анатолий хочет проверить гипотезу о равенстве медианы радиуса поедаемых им яблок 5 (~1млн штук).\n",
        "Для этого он воспользуется:\n",
        "\n",
        "A) t-критерием Стьюдента\n",
        "\n",
        "B) z-критерием для медианы\n",
        "\n",
        "C) бутстрапом\n",
        "\n",
        "D) Критерием Манна-Уитни"
      ]
    },
    {
      "cell_type": "markdown",
      "source": [
        "t-критерий применяется для среднего при нормальной выборке\n",
        "\n",
        "Критерий Манна-Уитни двухвыборочный\n",
        "\n",
        "z-критерий для медианы не разбирали\n",
        "\n",
        "Бутстрап же хорошо может оценить медиану\n",
        "\n",
        "Ответ: C"
      ],
      "metadata": {
        "id": "u1eIYGk_HaIr"
      }
    },
    {
      "cell_type": "markdown",
      "metadata": {
        "id": "YQpV8W-top6M"
      },
      "source": [
        "Пример 3\n",
        "\n",
        "Крот Афанасий хочет проверить гипотезу о независимости цвета находимых им яблочных огрызков и времени дня (день/ночь).\n",
        "\n",
        "Для этого он воспользуется:\n",
        "\n",
        "A) критерием Манна-Уитни\n",
        "\n",
        "B) критерием на основе теста отношения правдоподобий\n",
        "\n",
        "C) AB-тестированием\n",
        "\n",
        "D) t-критерием Стьюдента"
      ]
    },
    {
      "cell_type": "markdown",
      "source": [
        "Для решения задачи нам нужен критерий независимости. Из имеющихся это тест отношения правдоподобий.\n",
        "\n",
        "Ответ: B"
      ],
      "metadata": {
        "id": "ujOPE3qsKYdx"
      }
    },
    {
      "cell_type": "markdown",
      "metadata": {
        "id": "jpOto9ssop6N"
      },
      "source": [
        "Пример 4\n",
        "\n",
        "Винни-Пух планирует провести AB-тестирование новой методики повышения качества меда и выбирает спецификацию теста. AB-тест будет основан на z-тесте для средних. Что из следующего верно:\n",
        "\n",
        "A) При увеличении MDE вдвое ему потребуется в четыре раза больше наблюдений.\n",
        "\n",
        "B) При уменьшении ошибки первого рода вдвое ему потребуется вдвое больше наблюдений.\n",
        "\n",
        "C) При увеличении в четыре раза количества наблюдений он сможет увидеть вдвое меньший эффект.\n",
        "\n",
        "D) При уменьшении MDE вдвое ему потребуется в два раза больше наблюдений.\n"
      ]
    },
    {
      "cell_type": "markdown",
      "source": [
        "Помним формулу:\n",
        "\n",
        "![image.png](data:image/png;base64,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)\n",
        "\n",
        "Ответ: C"
      ],
      "metadata": {
        "id": "tYI8OSn-TqLM"
      }
    },
    {
      "cell_type": "markdown",
      "metadata": {
        "id": "fAJxO9FUop6N"
      },
      "source": [
        "Пример 5\n",
        "\n",
        "Сова хочет проверить гипотезу о равенстве среднего роста своих друзей (~5шт) 1м (одному метру). Для этого ей поможет:\n",
        "\n",
        "A) Тест Манна-Уитни\n",
        "\n",
        "B) Бутстрап\n",
        "\n",
        "C) z-критерий для среднего\n",
        "\n",
        "D) ничего из этого, придется завести больше друзей"
      ]
    },
    {
      "cell_type": "markdown",
      "source": [
        "Манна-Уитни двухвыборочный\n",
        "\n",
        "Для Z-критерия для среднего мало данных\n",
        "\n",
        "Для бутстрапа мало данных\n",
        "\n",
        "Ответ: D"
      ],
      "metadata": {
        "id": "UXrkeinoU7k4"
      }
    },
    {
      "cell_type": "markdown",
      "metadata": {
        "id": "_SElDAvdop6O"
      },
      "source": [
        "### Задача 3 [5 баллов]\n",
        "\n",
        "Богатырь Радислав в ходе охоты возле озера Байкал поймал ящеров нескольких видов\n",
        "\n",
        "|    | Гипноящер | Ящер-втащер | Долбоящер |\n",
        "|----------|---------------------|-----------------|--------|\n",
        "| Количество |  150 | 100 | 150|\n",
        "\n",
        "С помощью теста отношения правдоподобия проверьте гипотезу о\n",
        "том, что ящеры встречаются равновероятно, на уровне значимости 5%."
      ]
    },
    {
      "cell_type": "code",
      "execution_count": 1,
      "metadata": {
        "id": "7KIA4SFiop6O",
        "colab": {
          "base_uri": "https://localhost:8080/",
          "height": 0
        },
        "outputId": "bb3ae136-1c50-4284-b054-dec6dda5c86c"
      },
      "outputs": [
        {
          "output_type": "stream",
          "name": "stdout",
          "text": [
            "p_value = 0.001\n",
            "Гипотеза H0 отвергается\n"
          ]
        }
      ],
      "source": [
        "from scipy.stats import power_divergence\n",
        "\n",
        "alpha = 0.05\n",
        "_, p_value = power_divergence(f_obs=[150, 100, 150],\n",
        "                              f_exp=[400 / 3] * 3,\n",
        "                              lambda_='log-likelihood')\n",
        "print(f'p_value = {p_value:.3f}')\n",
        "\n",
        "if p_value > alpha:\n",
        "    print(f'Гипотеза H0 не отвергается')\n",
        "else:\n",
        "    print(f'Гипотеза H0 отвергается')"
      ]
    },
    {
      "cell_type": "markdown",
      "metadata": {
        "id": "lXi-jKueop6P"
      },
      "source": [
        "### Задача 4 [10 баллов]\n",
        "Ассистент преподавателя истории Дмитрий Анатольевич в своем телеграм-канале пишет признания в любви.\n",
        "Ниже представлена длительность его последних 500 произведений (в словах)\n",
        "\n",
        "Проверьте гипотезу о том, что средняя длительность признания в любви составляет 900 слов.\n",
        "\n",
        "Подсказка: если вы хотите пользоваться каким-то критерием, помните о предпосылках!"
      ]
    },
    {
      "cell_type": "code",
      "execution_count": 2,
      "metadata": {
        "id": "7nwyMtW6op6P"
      },
      "outputs": [],
      "source": [
        "X = [1086., 1025.,  994.,  756.,  942.,  951.,  740.,  759.,  806.,\n",
        "        911.,  885.,  860., 1041., 1020.,  802.,  783., 1045., 1067.,\n",
        "       1111.,  914.,  774.,  848.,  874.,  884.,  991., 1023.,  895.,\n",
        "        835.,  948., 1016.,  784.,  900.,  811.,  995.,  763.,  972.,\n",
        "        876., 1001.,  914., 1049.,  837.,  955.,  918.,  968.,  741.,\n",
        "        999., 1055.,  898., 1091.,  864.,  950., 1002.,  990.,  848.,\n",
        "        987.,  722.,  836., 1001.,  725.,  962.,  782.,  860.,  889.,\n",
        "        975.,  968.,  838.,  890.,  865.,  800., 1087.,  803., 1002.,\n",
        "       1045.,  903.,  991.,  944.,  929., 1054., 1074., 1015.,  804.,\n",
        "       1021.,  786., 1000000.,  731., 1058.,  703.,  843.,  867., 1003.,\n",
        "        837.,  885.,  978.,  849.,  855.,  820.,  962.,  988., 1020.,\n",
        "       1058., 1068.,  693.,  937., 1004., 1041.,  897., 1065.,  837.,\n",
        "        956.,  811.,  881.,  762.,  947.,  792.,  708., 1014., 1102.,\n",
        "        809.,  713.,  744., 1031.,  697.,  876., 1085.,  734.,  699.,\n",
        "       1034.,  793.,  843.,  755., 1032.,  841.,  983.,  976.,  737.,\n",
        "        752.,  955.,  813.,  822.,  736.,  880.,  721.,  769., 1096.,\n",
        "        906.,  746.,  774.,  951.,  934.,  680.,  790.,  852., 1040.,\n",
        "        712.,  905., 1057.,  925.,  915.,  843.,  691., 1074., 1038.,\n",
        "        790., 1056., 1130.,  960., 1037.,  856., 1018.,  795.,  724.,\n",
        "       1034., 1024.,  957., 1028.,  733.,  835., 1074.,  881., 1108.,\n",
        "        916.,  797.,  925.,  880.,  939., 1018.,  771.,  923.,  820.,\n",
        "       1081.,  996.,  762., 1040.,  818.,  969.,  823.,  741.,  775.,\n",
        "        720.,  991.,  953., 1049.,  968.,  888., 1052., 1033.,  712.,\n",
        "        982.,  893.,  980.,  793.,  872.,  967.,  737., 1049.,  734.,\n",
        "        783., 1048.,  760.,  869.,  741., 1003., 1011., 1087.,  836.,\n",
        "        958.,  759.,  794.,  742.,  993.,  841.,  853.,  885.,  779.,\n",
        "       1041., 1003.,  869.,  770., 1003., 1040.,  881.,  894.,  937.,\n",
        "        983., 1041.,  779.,  935.,  872.,  842., 1071., 1015., 1035.,\n",
        "        867.,  923., 1001., 1057.,  913.,  679., 1083.,  863.,  979.,\n",
        "        900., 1052., 1001.,  762.,  883.,  794., 1107.,  922.,  708.,\n",
        "        909.,  919.,  956.,  704.,  947.,  783.,  723.,  962.,  849.,\n",
        "       1027.,  913.,  842., 1012.,  861., 1004.,  935., 1083., 1004.,\n",
        "        860.,  921., 1022., 1051.,  961.,  736.,  725.,  987.,  743.,\n",
        "       1124., 1004.,  723., 1001.,  763.,  707.,  743., 1008.,  702.,\n",
        "       1062.,  727.,  845., 1038., 1086.,  780.,  889.,  948.,  903.,\n",
        "        947.,  953.,  772., 1075., 1066.,  761.,  961.,  883.,  869.,\n",
        "        870.,  703.,  725.,  835.,  979., 1063., 1042.,  896.,  816.,\n",
        "        740.,  716.,  895.,  723., 1001., 1058.,  980., 1042.,  900.,\n",
        "        840.,  817.,  991.,  938.,  978.,  889., 1020.,  758.,  955.,\n",
        "        985.,  770., 1097.,  715., 1099., 1047.,  905., 1023.,  761.,\n",
        "        980.,  721.,  943.,  902.,  889.,  777., 1110.,  876.,  851.,\n",
        "        783., 1062.,  704.,  921.,  947., 1097.,  887., 1047.,  836.,\n",
        "       1020.,  954.,  690.,  825., 1105.,  970.,  699.,  691., 1088.,\n",
        "       1062.,  712., 1005.,  967.,  817.,  974.,  989., 1115.,  918.,\n",
        "        771.,  926., 1005.,  782.,  694.,  808.,  749.,  789.,  794.,\n",
        "        893.,  769.,  709., 1027., 1059., 1076.,  729.,  743.,  740.,\n",
        "        889.,  904.,  855.,  989.,  991.,  932.,  856., 1126.,  957.,\n",
        "        898., 1062., 1001.,  818.,  853.,  773.,  894., 1090.,  792.,\n",
        "        738., 1055.,  912.,  838., 1058.,  995.,  925.,  892.,  792.,\n",
        "       1086., 1110., 1031.,  729.,  888., 1031.,  978.,  844.,  855.,\n",
        "        900., 1073., 1049.,  905.,  952.,  903.,  747.,  920., 1105.,\n",
        "        886.,  792., 1034., 1071.,  980.,  728.,  754.,  998.,  816.,\n",
        "        790.,  953.,  743.,  955.,  717.,  963.,  686., 1083.,  831.,\n",
        "        957., 1012.,  935., 1007.,  766.,  786.,  739., 1085.,  912.,\n",
        "       1114., 1049.,  756.,  852.,  796., 1044.,  822., 1106.,  757.,\n",
        "        828.,  809.,  860.,  1000000., 1086.]"
      ]
    },
    {
      "cell_type": "markdown",
      "source": [
        "Воспользуемся асимптотическим Z-критерием для среднего. Гипотеза $H_0$: $\\mu = \\mu_0 = 900$."
      ],
      "metadata": {
        "id": "PbCmI595zTRJ"
      }
    },
    {
      "cell_type": "code",
      "execution_count": 3,
      "metadata": {
        "id": "gkhEWTzwop6Q",
        "colab": {
          "base_uri": "https://localhost:8080/",
          "height": 0
        },
        "outputId": "b22aea82-127a-430b-cf49-e3626b064ab3"
      },
      "outputs": [
        {
          "output_type": "stream",
          "name": "stdout",
          "text": [
            "Гипотеза H0 не отвергается при любом уровне значимости alpha < p_value = 0.156\n"
          ]
        }
      ],
      "source": [
        "from statsmodels.stats.weightstats import ztest\n",
        "mu0 = 900\n",
        "_, p_value = ztest(X, value=mu0)\n",
        "print(f'Гипотеза H0 не отвергается при любом уровне значимости alpha < p_value = {p_value:.3f}')"
      ]
    },
    {
      "cell_type": "markdown",
      "metadata": {
        "id": "2TxlIOPuop6Q"
      },
      "source": [
        "### Задача 5 [15 баллов]\n",
        "\n",
        "Преподаватель по машинному обучению подбрасывал монетку каждый день целый год, записывая номер первого выпадения \"орла\". Результаты приведены ниже.\n",
        "Постройте доверительный интервал для вероятности выпадения \"орлом\" этой монетки. Можно ли ее считать честной?  \n"
      ]
    },
    {
      "cell_type": "code",
      "execution_count": 4,
      "metadata": {
        "id": "ay0iHItFop6R"
      },
      "outputs": [],
      "source": [
        "X = [3, 3, 1, 1, 1, 2, 1, 1, 1, 1, 1, 1, 1, 1, 4, 1, 3, 3, 1, 2, 1, 2,\n",
        "       1, 3, 4, 1, 1, 1, 2, 1, 4, 1, 2, 3, 1, 1, 2, 1, 6, 2, 1, 1, 3, 1,\n",
        "       2, 1, 1, 2, 1, 1, 3, 3, 7, 1, 6, 1, 1, 1, 2, 1, 2, 2, 2, 4, 1, 1,\n",
        "       1, 1, 1, 1, 1, 1, 1, 2, 2, 1, 1, 3, 2, 2, 1, 1, 3, 5, 2, 1, 2, 1,\n",
        "       1, 1, 1, 1, 1, 1, 1, 1, 2, 1, 2, 3, 1, 1, 3, 1, 3, 3, 2, 1, 1, 1,\n",
        "       2, 1, 1, 2, 2, 1, 1, 1, 2, 3, 1, 1, 3, 1, 2, 1, 1, 3, 4, 1, 2, 4,\n",
        "       1, 1, 3, 2, 1, 2, 1, 2, 1, 1, 1, 1, 1, 1, 1, 3, 2, 1, 1, 1, 4, 1,\n",
        "       1, 4, 1, 1, 2, 1, 5, 1, 1, 3, 1, 1, 1, 2, 2, 1, 2, 1, 1, 2, 3, 2,\n",
        "       1, 2, 1, 3, 1, 1, 2, 1, 2, 2, 1, 2, 1, 2, 2, 1, 4, 4, 1, 8, 2, 2,\n",
        "       3, 1, 1, 1, 1, 1, 1, 1, 1, 1, 1, 2, 2, 4, 1, 2, 1, 1, 1, 1, 1, 1,\n",
        "       1, 1, 1, 1, 1, 1, 1, 1, 2, 5, 2, 3, 1, 2, 1, 2, 1, 2, 7, 1, 2, 1,\n",
        "       1, 2, 1, 1, 2, 1, 2, 3, 2, 1, 1, 1, 1, 1, 2, 4, 2, 1, 1, 1, 1, 5,\n",
        "       1, 1, 2, 1, 3, 2, 2, 1, 1, 2, 2, 3, 2, 1, 1, 3, 2, 1, 1, 1, 1, 2,\n",
        "       1, 1, 1, 1, 1, 2, 3, 4, 6, 1, 1, 1, 1, 1, 1, 3, 1, 3, 1, 1, 1, 1,\n",
        "       2, 1, 5, 1, 1, 3, 1, 3, 1, 1, 1, 4, 1, 1, 2, 1, 1, 1, 1, 2, 1, 1,\n",
        "       1, 1, 3, 1, 1, 1, 1, 1, 1, 1, 1, 1, 1, 1, 1, 1, 1, 1, 2, 1, 3, 1,\n",
        "       1, 1, 1, 1, 1, 1, 3, 1, 1, 1, 1, 3, 1]"
      ]
    },
    {
      "cell_type": "markdown",
      "source": [
        "У нас случайная величина $\\xi$ ~ $Geom(p)$ $⇒$ $M\\xi = \\frac{1}{p}$ ⇒ $p = \\frac{1}{M\\xi}$\n",
        "\n",
        "$\\hat{M\\xi} = \\overline{X}$\n",
        "\n",
        "$g(t) = \\frac{1}{t}$ - дифференцируемая функция\n",
        "\n",
        "$g'(t) = -\\frac{1}{t^2}$\n",
        "\n",
        "$⟹$ используем дельта-метод: $g(\\overline{X}) = \\frac{1}{\\overline{X}}$ ~ $N(g(M\\xi);\\frac{D\\xi}{n} (g'(M\\xi))^2)$. Для нахождения параметров нормального распределения возьмем состоятельные оценки для мат. ожидания и дисперсии - выборочное среднее и выборочную дисперсию соответственно, ведь асимптотика не поменяется. То есть имеем: $p$ ~ $N(\\frac{1}{\\overline{X}}; $ $\\frac{S^2}{n}(-\\frac{1}{\\overline{X}^2})^2) = N(\\frac{1}{\\overline{X}}; $ $\\frac{S^2}{n \\overline{X} ^ 4})$\n",
        "\n",
        "⟹ $P(N_{\\frac{\\alpha}{2}} \\le p \\le N_{1-\\frac{\\alpha}{2}}) = 1 - \\alpha$\n",
        "\n",
        "Возьмем $\\alpha = 0.05$\n"
      ],
      "metadata": {
        "id": "eh13EEWxM54A"
      }
    },
    {
      "cell_type": "code",
      "execution_count": 5,
      "metadata": {
        "id": "eHccT33zop6R"
      },
      "outputs": [],
      "source": [
        "import numpy as np\n",
        "mu = np.mean(X)\n",
        "sigma2 = np.var(X)"
      ]
    },
    {
      "cell_type": "code",
      "source": [
        "from scipy.stats import norm\n",
        "\n",
        "alpha = 0.05\n",
        "n = len(X)\n",
        "\n",
        "left, right = norm(loc = 1 / mu, scale = np.sqrt(sigma2 / (n * (mu ** 4)))).ppf([alpha / 2, 1 - alpha / 2])\n",
        "print(f'Доверительный интервал для вероятности выпадения орла: ({left:.3f}, {right:.3f})')"
      ],
      "metadata": {
        "colab": {
          "base_uri": "https://localhost:8080/",
          "height": 0
        },
        "id": "dmFxxvxVRzsP",
        "outputId": "0154412b-72e9-4897-c057-ebc3f47ace65"
      },
      "execution_count": 14,
      "outputs": [
        {
          "output_type": "stream",
          "name": "stdout",
          "text": [
            "Доверительный интервал для вероятности выпадения орла: (0.555, 0.637)\n"
          ]
        }
      ]
    },
    {
      "cell_type": "code",
      "source": [
        "center = 1 / mu\n",
        "print(f'p = {np.round(center, 3)} +- {np.round(right - center, 3)}')"
      ],
      "metadata": {
        "colab": {
          "base_uri": "https://localhost:8080/",
          "height": 0
        },
        "id": "RDOecU3bdtEO",
        "outputId": "9aa13954-e546-4441-ff1d-335ba1eebc02"
      },
      "execution_count": 16,
      "outputs": [
        {
          "output_type": "stream",
          "name": "stdout",
          "text": [
            "p = 0.596 +- 0.041\n"
          ]
        }
      ]
    },
    {
      "cell_type": "markdown",
      "source": [
        "Монета честная $⇔$ $p = 0.5$. У нас же доверительный интервал не включает 0.5, а находится правее $⇒$ орлы падают чаще $⇒$ монета не честная."
      ],
      "metadata": {
        "id": "L4lNxs_BeMce"
      }
    }
  ],
  "metadata": {
    "kernelspec": {
      "display_name": "base",
      "language": "python",
      "name": "python3"
    },
    "language_info": {
      "codemirror_mode": {
        "name": "ipython",
        "version": 3
      },
      "file_extension": ".py",
      "mimetype": "text/x-python",
      "name": "python",
      "nbconvert_exporter": "python",
      "pygments_lexer": "ipython3",
      "version": "3.8.8"
    },
    "colab": {
      "provenance": []
    }
  },
  "nbformat": 4,
  "nbformat_minor": 0
}